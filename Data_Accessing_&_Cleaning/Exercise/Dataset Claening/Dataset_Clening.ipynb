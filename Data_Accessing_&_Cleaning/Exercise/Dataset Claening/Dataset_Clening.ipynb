{
 "cells": [
  {
   "cell_type": "markdown",
   "metadata": {},
   "source": [
    "<div style=\"font-family: Arial, sans-serif; font-size: 69px; background-color: #7b2cbf; color: #ffffff; padding: 7px 15px; text-decoration: none; border-radius: 15px; text-align: center;\">Table of Content </div>"
   ]
  },
  {
   "cell_type": "markdown",
   "metadata": {},
   "source": [
    "# Table of Contents\n",
    "1. [📊 Understand the Data](#understand-the-data)\n",
    "2. [🧹 Data Cleaning](#data-cleaning)\n",
    "   1. [Best Practice](#best-practice)\n",
    "   2. [Snake Case](#snake)\n",
    "   3. [Delete Unnecessary Columns](#31)\n",
    "   4. [Rename](#32)\n",
    "   5. [Categorize ](#33)\n",
    "   6. [Classify ](#34)\n",
    "   7. [Count](#35)\n",
    "   8. [Extract](#36)\n",
    "   9. [Simplify](#37)\n",
    "   10. [Format](#38)\n",
    "   11. [Extract more ](#39)\n",
    "   12. [Classify more](#310)\n",
    "3. [📈 Conclusion](#conclusion)\n"
   ]
  },
  {
   "cell_type": "markdown",
   "metadata": {},
   "source": [
    "<a id=\"understand-the-data\"></a>\n",
    "<div style=\"background-color: #48cae4; border-radius: 15px; padding: 20px; text-align: left;\">\n",
    "    <h1 style=\"margin: 0;\">\n",
    "        <b>\n",
    "            <span style=\"color: Black;\">Chapter One</span>\n",
    "            <span style=\"color: #ffffff;\">|</span>\n",
    "            <span style=\"color: #FEEC37;\"> Understand the Data 📊\n",
    "            </span>\n",
    "        </b>\n",
    "    </h1>\n",
    "    <br>\n",
    "    <a href=\"#table-of-contents\" style=\"font-family: Arial, sans-serif; font-size: 20px; background-color: #7b2cbf; color: #ffffff; padding: 7px 15px; text-decoration: none; border-radius: 15px;\">\n",
    "        [Table of Content 📜⬆️]\n",
    "    </a>\n",
    "</div>\n"
   ]
  },
  {
   "cell_type": "code",
   "execution_count": 1,
   "metadata": {},
   "outputs": [],
   "source": [
    "import numpy as np  \n",
    "import pandas as pd\n",
    "import missingno as msno\n",
    "import warnings\n",
    "warnings.filterwarnings('ignore')"
   ]
  },
  {
   "cell_type": "code",
   "execution_count": 2,
   "metadata": {},
   "outputs": [
    {
     "data": {
      "text/html": [
       "<div>\n",
       "<style scoped>\n",
       "    .dataframe tbody tr th:only-of-type {\n",
       "        vertical-align: middle;\n",
       "    }\n",
       "\n",
       "    .dataframe tbody tr th {\n",
       "        vertical-align: top;\n",
       "    }\n",
       "\n",
       "    .dataframe thead th {\n",
       "        text-align: right;\n",
       "    }\n",
       "</style>\n",
       "<table border=\"1\" class=\"dataframe\">\n",
       "  <thead>\n",
       "    <tr style=\"text-align: right;\">\n",
       "      <th></th>\n",
       "      <th>phone_brand</th>\n",
       "      <th>phone_model</th>\n",
       "      <th>store</th>\n",
       "      <th>price</th>\n",
       "      <th>currency</th>\n",
       "      <th>price_USD</th>\n",
       "      <th>storage</th>\n",
       "      <th>ram</th>\n",
       "      <th>Launch</th>\n",
       "      <th>Dimensions</th>\n",
       "      <th>...</th>\n",
       "      <th>Chipset</th>\n",
       "      <th>CPU</th>\n",
       "      <th>GPU</th>\n",
       "      <th>Year</th>\n",
       "      <th>Foldable</th>\n",
       "      <th>PPI_Density</th>\n",
       "      <th>quantile_10</th>\n",
       "      <th>quantile_50</th>\n",
       "      <th>quantile_90</th>\n",
       "      <th>price_range</th>\n",
       "    </tr>\n",
       "  </thead>\n",
       "  <tbody>\n",
       "    <tr>\n",
       "      <th>1430</th>\n",
       "      <td>apple</td>\n",
       "      <td>Apple iPhone 15</td>\n",
       "      <td>Amazon US</td>\n",
       "      <td>716.99</td>\n",
       "      <td>USD</td>\n",
       "      <td>716.99</td>\n",
       "      <td>512</td>\n",
       "      <td>6</td>\n",
       "      <td>2023-09-22</td>\n",
       "      <td>147.6 x 71.6 x 7.8 mm (5.81 x 2.82 x 0.31 in)</td>\n",
       "      <td>...</td>\n",
       "      <td>Apple A16 Bionic (4 nm)</td>\n",
       "      <td>Hexa-core (2x3.46 GHz Everest + 4x2.02 GHz Saw...</td>\n",
       "      <td>Apple GPU (5-core graphics)</td>\n",
       "      <td>2023</td>\n",
       "      <td>0</td>\n",
       "      <td>461</td>\n",
       "      <td>118.913</td>\n",
       "      <td>330.675</td>\n",
       "      <td>999.990</td>\n",
       "      <td>medium price</td>\n",
       "    </tr>\n",
       "    <tr>\n",
       "      <th>427</th>\n",
       "      <td>xiaomi</td>\n",
       "      <td>Xiaomi Mi 10T Pro 5G</td>\n",
       "      <td>Amazon UK</td>\n",
       "      <td>247.03</td>\n",
       "      <td>GBP</td>\n",
       "      <td>321.39</td>\n",
       "      <td>256</td>\n",
       "      <td>8</td>\n",
       "      <td>2020-10-13</td>\n",
       "      <td>165.1 x 76.4 x 9.3 mm (6.5 x 3.01 x 0.37 in)</td>\n",
       "      <td>...</td>\n",
       "      <td>Qualcomm SM8250 Snapdragon 865 5G (7 nm+)</td>\n",
       "      <td>Octa-core (1x2.84 GHz Cortex-A77 &amp; 3x2.42 GHz ...</td>\n",
       "      <td>Adreno 650</td>\n",
       "      <td>2020</td>\n",
       "      <td>0</td>\n",
       "      <td>395</td>\n",
       "      <td>101.096</td>\n",
       "      <td>197.460</td>\n",
       "      <td>493.332</td>\n",
       "      <td>medium price</td>\n",
       "    </tr>\n",
       "    <tr>\n",
       "      <th>573</th>\n",
       "      <td>motorola</td>\n",
       "      <td>Motorola Edge 20</td>\n",
       "      <td>Amazon US</td>\n",
       "      <td>375.00</td>\n",
       "      <td>USD</td>\n",
       "      <td>375.00</td>\n",
       "      <td>256</td>\n",
       "      <td>8</td>\n",
       "      <td>2021-08-16</td>\n",
       "      <td>163 x 76 x 7 mm (6.42 x 2.99 x 0.28 in)</td>\n",
       "      <td>...</td>\n",
       "      <td>Qualcomm SM7325 Snapdragon 778G 5G (6 nm)</td>\n",
       "      <td>Octa-core (1x2.4 GHz Cortex-A78 &amp; 3x2.2 GHz Co...</td>\n",
       "      <td>Adreno 642L</td>\n",
       "      <td>2021</td>\n",
       "      <td>0</td>\n",
       "      <td>385</td>\n",
       "      <td>127.500</td>\n",
       "      <td>249.990</td>\n",
       "      <td>584.150</td>\n",
       "      <td>medium price</td>\n",
       "    </tr>\n",
       "    <tr>\n",
       "      <th>1329</th>\n",
       "      <td>motorola</td>\n",
       "      <td>Motorola Moto G13</td>\n",
       "      <td>Amazon DE</td>\n",
       "      <td>113.99</td>\n",
       "      <td>EUR</td>\n",
       "      <td>123.52</td>\n",
       "      <td>128</td>\n",
       "      <td>4</td>\n",
       "      <td>2023-01-24</td>\n",
       "      <td>162.7 x 74.7 x 8.2 mm (6.41 x 2.94 x 0.32 in)</td>\n",
       "      <td>...</td>\n",
       "      <td>Mediatek MT6769Z Helio G85 (12 nm)</td>\n",
       "      <td>Octa-core (2x2.0 GHz Cortex-A75 &amp; 6x1.8 GHz Co...</td>\n",
       "      <td>Mali-G52 MC2</td>\n",
       "      <td>2023</td>\n",
       "      <td>0</td>\n",
       "      <td>270</td>\n",
       "      <td>118.913</td>\n",
       "      <td>330.675</td>\n",
       "      <td>999.990</td>\n",
       "      <td>medium price</td>\n",
       "    </tr>\n",
       "    <tr>\n",
       "      <th>935</th>\n",
       "      <td>samsung</td>\n",
       "      <td>Samsung Galaxy A53 5G</td>\n",
       "      <td>Amazon DE</td>\n",
       "      <td>295.37</td>\n",
       "      <td>EUR</td>\n",
       "      <td>320.06</td>\n",
       "      <td>128</td>\n",
       "      <td>6</td>\n",
       "      <td>2022-03-24</td>\n",
       "      <td>159.6 x 74.8 x 8.1 mm (6.28 x 2.94 x 0.32 in)</td>\n",
       "      <td>...</td>\n",
       "      <td>Exynos 1280 (5 nm)</td>\n",
       "      <td>Octa-core (2x2.4 GHz Cortex-A78 &amp; 6x2.0 GHz Co...</td>\n",
       "      <td>Mali-G68</td>\n",
       "      <td>2022</td>\n",
       "      <td>0</td>\n",
       "      <td>405</td>\n",
       "      <td>114.990</td>\n",
       "      <td>247.180</td>\n",
       "      <td>793.200</td>\n",
       "      <td>medium price</td>\n",
       "    </tr>\n",
       "    <tr>\n",
       "      <th>1155</th>\n",
       "      <td>apple</td>\n",
       "      <td>Apple iPhone 14 Pro Max</td>\n",
       "      <td>Amazon UK</td>\n",
       "      <td>679.73</td>\n",
       "      <td>GBP</td>\n",
       "      <td>884.33</td>\n",
       "      <td>512</td>\n",
       "      <td>6</td>\n",
       "      <td>2022-09-16</td>\n",
       "      <td>160.7 x 77.6 x 7.9 mm (6.33 x 3.06 x 0.31 in)</td>\n",
       "      <td>...</td>\n",
       "      <td>Apple A16 Bionic (4 nm)</td>\n",
       "      <td>Hexa-core (2x3.46 GHz Everest + 4x2.02 GHz Saw...</td>\n",
       "      <td>Apple GPU (5-core graphics)</td>\n",
       "      <td>2022</td>\n",
       "      <td>0</td>\n",
       "      <td>460</td>\n",
       "      <td>114.990</td>\n",
       "      <td>247.180</td>\n",
       "      <td>793.200</td>\n",
       "      <td>high price</td>\n",
       "    </tr>\n",
       "    <tr>\n",
       "      <th>903</th>\n",
       "      <td>oneplus</td>\n",
       "      <td>OnePlus 10T</td>\n",
       "      <td>Amazon DE</td>\n",
       "      <td>629.99</td>\n",
       "      <td>EUR</td>\n",
       "      <td>682.66</td>\n",
       "      <td>256</td>\n",
       "      <td>16</td>\n",
       "      <td>2022-08-06</td>\n",
       "      <td>163 x 75.4 x 8.8 mm (6.42 x 2.97 x 0.35 in)</td>\n",
       "      <td>...</td>\n",
       "      <td>Qualcomm SM8475 Snapdragon 8+ Gen 1 (4 nm)</td>\n",
       "      <td>Octa-core (1x3.19 GHz Cortex-X2 &amp; 3x2.75 GHz C...</td>\n",
       "      <td>Adreno 730</td>\n",
       "      <td>2022</td>\n",
       "      <td>0</td>\n",
       "      <td>394</td>\n",
       "      <td>114.990</td>\n",
       "      <td>247.180</td>\n",
       "      <td>793.200</td>\n",
       "      <td>medium price</td>\n",
       "    </tr>\n",
       "  </tbody>\n",
       "</table>\n",
       "<p>7 rows × 31 columns</p>\n",
       "</div>"
      ],
      "text/plain": [
       "     phone_brand              phone_model      store   price currency  \\\n",
       "1430       apple          Apple iPhone 15  Amazon US  716.99      USD   \n",
       "427       xiaomi     Xiaomi Mi 10T Pro 5G  Amazon UK  247.03      GBP   \n",
       "573     motorola         Motorola Edge 20  Amazon US  375.00      USD   \n",
       "1329    motorola        Motorola Moto G13  Amazon DE  113.99      EUR   \n",
       "935      samsung    Samsung Galaxy A53 5G  Amazon DE  295.37      EUR   \n",
       "1155       apple  Apple iPhone 14 Pro Max  Amazon UK  679.73      GBP   \n",
       "903      oneplus              OnePlus 10T  Amazon DE  629.99      EUR   \n",
       "\n",
       "      price_USD  storage  ram      Launch  \\\n",
       "1430     716.99      512    6  2023-09-22   \n",
       "427      321.39      256    8  2020-10-13   \n",
       "573      375.00      256    8  2021-08-16   \n",
       "1329     123.52      128    4  2023-01-24   \n",
       "935      320.06      128    6  2022-03-24   \n",
       "1155     884.33      512    6  2022-09-16   \n",
       "903      682.66      256   16  2022-08-06   \n",
       "\n",
       "                                         Dimensions  ...  \\\n",
       "1430  147.6 x 71.6 x 7.8 mm (5.81 x 2.82 x 0.31 in)  ...   \n",
       "427    165.1 x 76.4 x 9.3 mm (6.5 x 3.01 x 0.37 in)  ...   \n",
       "573         163 x 76 x 7 mm (6.42 x 2.99 x 0.28 in)  ...   \n",
       "1329  162.7 x 74.7 x 8.2 mm (6.41 x 2.94 x 0.32 in)  ...   \n",
       "935   159.6 x 74.8 x 8.1 mm (6.28 x 2.94 x 0.32 in)  ...   \n",
       "1155  160.7 x 77.6 x 7.9 mm (6.33 x 3.06 x 0.31 in)  ...   \n",
       "903     163 x 75.4 x 8.8 mm (6.42 x 2.97 x 0.35 in)  ...   \n",
       "\n",
       "                                         Chipset  \\\n",
       "1430                     Apple A16 Bionic (4 nm)   \n",
       "427    Qualcomm SM8250 Snapdragon 865 5G (7 nm+)   \n",
       "573    Qualcomm SM7325 Snapdragon 778G 5G (6 nm)   \n",
       "1329          Mediatek MT6769Z Helio G85 (12 nm)   \n",
       "935                           Exynos 1280 (5 nm)   \n",
       "1155                     Apple A16 Bionic (4 nm)   \n",
       "903   Qualcomm SM8475 Snapdragon 8+ Gen 1 (4 nm)   \n",
       "\n",
       "                                                    CPU  \\\n",
       "1430  Hexa-core (2x3.46 GHz Everest + 4x2.02 GHz Saw...   \n",
       "427   Octa-core (1x2.84 GHz Cortex-A77 & 3x2.42 GHz ...   \n",
       "573   Octa-core (1x2.4 GHz Cortex-A78 & 3x2.2 GHz Co...   \n",
       "1329  Octa-core (2x2.0 GHz Cortex-A75 & 6x1.8 GHz Co...   \n",
       "935   Octa-core (2x2.4 GHz Cortex-A78 & 6x2.0 GHz Co...   \n",
       "1155  Hexa-core (2x3.46 GHz Everest + 4x2.02 GHz Saw...   \n",
       "903   Octa-core (1x3.19 GHz Cortex-X2 & 3x2.75 GHz C...   \n",
       "\n",
       "                              GPU  Year Foldable  PPI_Density quantile_10  \\\n",
       "1430  Apple GPU (5-core graphics)  2023        0          461     118.913   \n",
       "427                    Adreno 650  2020        0          395     101.096   \n",
       "573                   Adreno 642L  2021        0          385     127.500   \n",
       "1329                 Mali-G52 MC2  2023        0          270     118.913   \n",
       "935                      Mali-G68  2022        0          405     114.990   \n",
       "1155  Apple GPU (5-core graphics)  2022        0          460     114.990   \n",
       "903                    Adreno 730  2022        0          394     114.990   \n",
       "\n",
       "      quantile_50 quantile_90   price_range  \n",
       "1430      330.675     999.990  medium price  \n",
       "427       197.460     493.332  medium price  \n",
       "573       249.990     584.150  medium price  \n",
       "1329      330.675     999.990  medium price  \n",
       "935       247.180     793.200  medium price  \n",
       "1155      247.180     793.200    high price  \n",
       "903       247.180     793.200  medium price  \n",
       "\n",
       "[7 rows x 31 columns]"
      ]
     },
     "execution_count": 2,
     "metadata": {},
     "output_type": "execute_result"
    }
   ],
   "source": [
    "source = r'C:\\Users\\Rudra\\Downloads\\Python_Pandas_profiling\\Phone Data Analysis\\Phone_dataset.csv'\n",
    "df = pd.read_csv(source, encoding= 'unicode_escape')\n",
    "df.sample(7)"
   ]
  },
  {
   "cell_type": "code",
   "execution_count": 3,
   "metadata": {},
   "outputs": [
    {
     "name": "stdout",
     "output_type": "stream",
     "text": [
      "The size of the DataFrame: 53165 \n",
      "\n",
      "The Shape of the DataFrame (1715, 31) \n",
      "\n",
      "Available columns in the DataFrame: Index(['phone_brand', 'phone_model', 'store', 'price', 'currency', 'price_USD',\n",
      "       'storage', 'ram', 'Launch', 'Dimensions', 'Weight', 'Display_Type',\n",
      "       'Display_Size', 'Display_Resolution', 'OS', 'NFC', 'USB', 'BATTERY',\n",
      "       'Features_Sensors', 'Colors', 'Video', 'Chipset', 'CPU', 'GPU', 'Year',\n",
      "       'Foldable', 'PPI_Density', 'quantile_10', 'quantile_50', 'quantile_90',\n",
      "       'price_range'],\n",
      "      dtype='object')\n",
      "\n",
      "Estimated memory size: 2.34 MB\n"
     ]
    }
   ],
   "source": [
    "print(\"The size of the DataFrame:\",df.size, '\\n')\n",
    "print('The Shape of the DataFrame', df.shape, '\\n')\n",
    "print(\"Available columns in the DataFrame:\", df.columns)\n",
    "\n",
    "# Calculate memory usage of the DataFrame\n",
    "memory_size = df.memory_usage(deep=True).sum()\n",
    "memory_size_mb = memory_size / (1024 ** 2)\n",
    "print(f\"\\nEstimated memory size: {memory_size_mb:.2f} MB\")\n"
   ]
  },
  {
   "cell_type": "code",
   "execution_count": 5,
   "metadata": {},
   "outputs": [
    {
     "data": {
      "text/html": [
       "<div>\n",
       "<style scoped>\n",
       "    .dataframe tbody tr th:only-of-type {\n",
       "        vertical-align: middle;\n",
       "    }\n",
       "\n",
       "    .dataframe tbody tr th {\n",
       "        vertical-align: top;\n",
       "    }\n",
       "\n",
       "    .dataframe thead th {\n",
       "        text-align: right;\n",
       "    }\n",
       "</style>\n",
       "<table border=\"1\" class=\"dataframe\">\n",
       "  <thead>\n",
       "    <tr style=\"text-align: right;\">\n",
       "      <th></th>\n",
       "      <th>count</th>\n",
       "      <th>unique</th>\n",
       "      <th>top</th>\n",
       "      <th>freq</th>\n",
       "      <th>mean</th>\n",
       "      <th>std</th>\n",
       "      <th>min</th>\n",
       "      <th>25%</th>\n",
       "      <th>50%</th>\n",
       "      <th>75%</th>\n",
       "      <th>max</th>\n",
       "    </tr>\n",
       "  </thead>\n",
       "  <tbody>\n",
       "    <tr>\n",
       "      <th>phone_brand</th>\n",
       "      <td>1715</td>\n",
       "      <td>22</td>\n",
       "      <td>samsung</td>\n",
       "      <td>432</td>\n",
       "      <td>NaN</td>\n",
       "      <td>NaN</td>\n",
       "      <td>NaN</td>\n",
       "      <td>NaN</td>\n",
       "      <td>NaN</td>\n",
       "      <td>NaN</td>\n",
       "      <td>NaN</td>\n",
       "    </tr>\n",
       "    <tr>\n",
       "      <th>phone_model</th>\n",
       "      <td>1715</td>\n",
       "      <td>472</td>\n",
       "      <td>Apple iPhone 15 Pro</td>\n",
       "      <td>12</td>\n",
       "      <td>NaN</td>\n",
       "      <td>NaN</td>\n",
       "      <td>NaN</td>\n",
       "      <td>NaN</td>\n",
       "      <td>NaN</td>\n",
       "      <td>NaN</td>\n",
       "      <td>NaN</td>\n",
       "    </tr>\n",
       "    <tr>\n",
       "      <th>store</th>\n",
       "      <td>1715</td>\n",
       "      <td>8</td>\n",
       "      <td>Amazon DE</td>\n",
       "      <td>585</td>\n",
       "      <td>NaN</td>\n",
       "      <td>NaN</td>\n",
       "      <td>NaN</td>\n",
       "      <td>NaN</td>\n",
       "      <td>NaN</td>\n",
       "      <td>NaN</td>\n",
       "      <td>NaN</td>\n",
       "    </tr>\n",
       "    <tr>\n",
       "      <th>price</th>\n",
       "      <td>1715.0</td>\n",
       "      <td>NaN</td>\n",
       "      <td>NaN</td>\n",
       "      <td>NaN</td>\n",
       "      <td>381.33856</td>\n",
       "      <td>334.142684</td>\n",
       "      <td>49.0</td>\n",
       "      <td>149.74</td>\n",
       "      <td>249.99</td>\n",
       "      <td>499.475</td>\n",
       "      <td>2179.46</td>\n",
       "    </tr>\n",
       "    <tr>\n",
       "      <th>currency</th>\n",
       "      <td>1715</td>\n",
       "      <td>3</td>\n",
       "      <td>USD</td>\n",
       "      <td>642</td>\n",
       "      <td>NaN</td>\n",
       "      <td>NaN</td>\n",
       "      <td>NaN</td>\n",
       "      <td>NaN</td>\n",
       "      <td>NaN</td>\n",
       "      <td>NaN</td>\n",
       "      <td>NaN</td>\n",
       "    </tr>\n",
       "    <tr>\n",
       "      <th>price_USD</th>\n",
       "      <td>1715.0</td>\n",
       "      <td>NaN</td>\n",
       "      <td>NaN</td>\n",
       "      <td>NaN</td>\n",
       "      <td>420.052589</td>\n",
       "      <td>361.986094</td>\n",
       "      <td>52.63</td>\n",
       "      <td>167.89</td>\n",
       "      <td>279.0</td>\n",
       "      <td>551.145</td>\n",
       "      <td>2361.66</td>\n",
       "    </tr>\n",
       "    <tr>\n",
       "      <th>storage</th>\n",
       "      <td>1715.0</td>\n",
       "      <td>NaN</td>\n",
       "      <td>NaN</td>\n",
       "      <td>NaN</td>\n",
       "      <td>271.286297</td>\n",
       "      <td>207.263335</td>\n",
       "      <td>32.0</td>\n",
       "      <td>128.0</td>\n",
       "      <td>256.0</td>\n",
       "      <td>256.0</td>\n",
       "      <td>1000.0</td>\n",
       "    </tr>\n",
       "    <tr>\n",
       "      <th>ram</th>\n",
       "      <td>1715.0</td>\n",
       "      <td>NaN</td>\n",
       "      <td>NaN</td>\n",
       "      <td>NaN</td>\n",
       "      <td>7.973178</td>\n",
       "      <td>3.422996</td>\n",
       "      <td>2.0</td>\n",
       "      <td>6.0</td>\n",
       "      <td>8.0</td>\n",
       "      <td>12.0</td>\n",
       "      <td>24.0</td>\n",
       "    </tr>\n",
       "    <tr>\n",
       "      <th>Launch</th>\n",
       "      <td>1715</td>\n",
       "      <td>337</td>\n",
       "      <td>2023-09-22</td>\n",
       "      <td>36</td>\n",
       "      <td>NaN</td>\n",
       "      <td>NaN</td>\n",
       "      <td>NaN</td>\n",
       "      <td>NaN</td>\n",
       "      <td>NaN</td>\n",
       "      <td>NaN</td>\n",
       "      <td>NaN</td>\n",
       "    </tr>\n",
       "    <tr>\n",
       "      <th>Dimensions</th>\n",
       "      <td>1715</td>\n",
       "      <td>397</td>\n",
       "      <td>164.2 x 76.1 x 8.1 mm (6.46 x 3.00 x 0.32 in)</td>\n",
       "      <td>27</td>\n",
       "      <td>NaN</td>\n",
       "      <td>NaN</td>\n",
       "      <td>NaN</td>\n",
       "      <td>NaN</td>\n",
       "      <td>NaN</td>\n",
       "      <td>NaN</td>\n",
       "      <td>NaN</td>\n",
       "    </tr>\n",
       "    <tr>\n",
       "      <th>Weight</th>\n",
       "      <td>1712.0</td>\n",
       "      <td>NaN</td>\n",
       "      <td>NaN</td>\n",
       "      <td>NaN</td>\n",
       "      <td>195.212266</td>\n",
       "      <td>24.714075</td>\n",
       "      <td>135.0</td>\n",
       "      <td>183.5</td>\n",
       "      <td>193.25</td>\n",
       "      <td>204.0</td>\n",
       "      <td>627.0</td>\n",
       "    </tr>\n",
       "    <tr>\n",
       "      <th>Display_Type</th>\n",
       "      <td>1715</td>\n",
       "      <td>262</td>\n",
       "      <td>PLS LCD</td>\n",
       "      <td>63</td>\n",
       "      <td>NaN</td>\n",
       "      <td>NaN</td>\n",
       "      <td>NaN</td>\n",
       "      <td>NaN</td>\n",
       "      <td>NaN</td>\n",
       "      <td>NaN</td>\n",
       "      <td>NaN</td>\n",
       "    </tr>\n",
       "    <tr>\n",
       "      <th>Display_Size</th>\n",
       "      <td>1715.0</td>\n",
       "      <td>NaN</td>\n",
       "      <td>NaN</td>\n",
       "      <td>NaN</td>\n",
       "      <td>6.565038</td>\n",
       "      <td>0.382489</td>\n",
       "      <td>4.7</td>\n",
       "      <td>6.5</td>\n",
       "      <td>6.6</td>\n",
       "      <td>6.7</td>\n",
       "      <td>12.4</td>\n",
       "    </tr>\n",
       "    <tr>\n",
       "      <th>Display_Resolution</th>\n",
       "      <td>1715</td>\n",
       "      <td>68</td>\n",
       "      <td>1080 x 2400</td>\n",
       "      <td>543</td>\n",
       "      <td>NaN</td>\n",
       "      <td>NaN</td>\n",
       "      <td>NaN</td>\n",
       "      <td>NaN</td>\n",
       "      <td>NaN</td>\n",
       "      <td>NaN</td>\n",
       "      <td>NaN</td>\n",
       "    </tr>\n",
       "    <tr>\n",
       "      <th>OS</th>\n",
       "      <td>1715</td>\n",
       "      <td>213</td>\n",
       "      <td>Android 12, MIUI 13</td>\n",
       "      <td>47</td>\n",
       "      <td>NaN</td>\n",
       "      <td>NaN</td>\n",
       "      <td>NaN</td>\n",
       "      <td>NaN</td>\n",
       "      <td>NaN</td>\n",
       "      <td>NaN</td>\n",
       "      <td>NaN</td>\n",
       "    </tr>\n",
       "    <tr>\n",
       "      <th>NFC</th>\n",
       "      <td>1715.0</td>\n",
       "      <td>NaN</td>\n",
       "      <td>NaN</td>\n",
       "      <td>NaN</td>\n",
       "      <td>0.917201</td>\n",
       "      <td>0.275658</td>\n",
       "      <td>0.0</td>\n",
       "      <td>1.0</td>\n",
       "      <td>1.0</td>\n",
       "      <td>1.0</td>\n",
       "      <td>1.0</td>\n",
       "    </tr>\n",
       "    <tr>\n",
       "      <th>USB</th>\n",
       "      <td>1715</td>\n",
       "      <td>35</td>\n",
       "      <td>USB Type-C 2.0, OTG</td>\n",
       "      <td>676</td>\n",
       "      <td>NaN</td>\n",
       "      <td>NaN</td>\n",
       "      <td>NaN</td>\n",
       "      <td>NaN</td>\n",
       "      <td>NaN</td>\n",
       "      <td>NaN</td>\n",
       "      <td>NaN</td>\n",
       "    </tr>\n",
       "    <tr>\n",
       "      <th>BATTERY</th>\n",
       "      <td>1715.0</td>\n",
       "      <td>NaN</td>\n",
       "      <td>NaN</td>\n",
       "      <td>NaN</td>\n",
       "      <td>4657.909038</td>\n",
       "      <td>693.623964</td>\n",
       "      <td>1821.0</td>\n",
       "      <td>4500.0</td>\n",
       "      <td>5000.0</td>\n",
       "      <td>5000.0</td>\n",
       "      <td>10200.0</td>\n",
       "    </tr>\n",
       "    <tr>\n",
       "      <th>Features_Sensors</th>\n",
       "      <td>1715</td>\n",
       "      <td>63</td>\n",
       "      <td>Fingerprint (under display, optical), accelero...</td>\n",
       "      <td>206</td>\n",
       "      <td>NaN</td>\n",
       "      <td>NaN</td>\n",
       "      <td>NaN</td>\n",
       "      <td>NaN</td>\n",
       "      <td>NaN</td>\n",
       "      <td>NaN</td>\n",
       "      <td>NaN</td>\n",
       "    </tr>\n",
       "    <tr>\n",
       "      <th>Colors</th>\n",
       "      <td>1715</td>\n",
       "      <td>416</td>\n",
       "      <td>Black Titanium, White Titanium, Blue Titanium,...</td>\n",
       "      <td>20</td>\n",
       "      <td>NaN</td>\n",
       "      <td>NaN</td>\n",
       "      <td>NaN</td>\n",
       "      <td>NaN</td>\n",
       "      <td>NaN</td>\n",
       "      <td>NaN</td>\n",
       "      <td>NaN</td>\n",
       "    </tr>\n",
       "    <tr>\n",
       "      <th>Video</th>\n",
       "      <td>1715</td>\n",
       "      <td>164</td>\n",
       "      <td>1080p@30fps</td>\n",
       "      <td>505</td>\n",
       "      <td>NaN</td>\n",
       "      <td>NaN</td>\n",
       "      <td>NaN</td>\n",
       "      <td>NaN</td>\n",
       "      <td>NaN</td>\n",
       "      <td>NaN</td>\n",
       "      <td>NaN</td>\n",
       "    </tr>\n",
       "    <tr>\n",
       "      <th>Chipset</th>\n",
       "      <td>1715</td>\n",
       "      <td>158</td>\n",
       "      <td>Qualcomm SM6375 Snapdragon 695 5G (6 nm)</td>\n",
       "      <td>59</td>\n",
       "      <td>NaN</td>\n",
       "      <td>NaN</td>\n",
       "      <td>NaN</td>\n",
       "      <td>NaN</td>\n",
       "      <td>NaN</td>\n",
       "      <td>NaN</td>\n",
       "      <td>NaN</td>\n",
       "    </tr>\n",
       "    <tr>\n",
       "      <th>CPU</th>\n",
       "      <td>1715</td>\n",
       "      <td>128</td>\n",
       "      <td>Octa-core (2x2.0 GHz Cortex-A75 &amp; 6x1.8 GHz Co...</td>\n",
       "      <td>107</td>\n",
       "      <td>NaN</td>\n",
       "      <td>NaN</td>\n",
       "      <td>NaN</td>\n",
       "      <td>NaN</td>\n",
       "      <td>NaN</td>\n",
       "      <td>NaN</td>\n",
       "      <td>NaN</td>\n",
       "    </tr>\n",
       "    <tr>\n",
       "      <th>GPU</th>\n",
       "      <td>1715</td>\n",
       "      <td>76</td>\n",
       "      <td>Mali-G57 MC2</td>\n",
       "      <td>118</td>\n",
       "      <td>NaN</td>\n",
       "      <td>NaN</td>\n",
       "      <td>NaN</td>\n",
       "      <td>NaN</td>\n",
       "      <td>NaN</td>\n",
       "      <td>NaN</td>\n",
       "      <td>NaN</td>\n",
       "    </tr>\n",
       "    <tr>\n",
       "      <th>Year</th>\n",
       "      <td>1715.0</td>\n",
       "      <td>NaN</td>\n",
       "      <td>NaN</td>\n",
       "      <td>NaN</td>\n",
       "      <td>2022.050146</td>\n",
       "      <td>1.427699</td>\n",
       "      <td>2017.0</td>\n",
       "      <td>2021.0</td>\n",
       "      <td>2022.0</td>\n",
       "      <td>2023.0</td>\n",
       "      <td>2024.0</td>\n",
       "    </tr>\n",
       "    <tr>\n",
       "      <th>Foldable</th>\n",
       "      <td>1715.0</td>\n",
       "      <td>NaN</td>\n",
       "      <td>NaN</td>\n",
       "      <td>NaN</td>\n",
       "      <td>0.048397</td>\n",
       "      <td>0.214665</td>\n",
       "      <td>0.0</td>\n",
       "      <td>0.0</td>\n",
       "      <td>0.0</td>\n",
       "      <td>0.0</td>\n",
       "      <td>1.0</td>\n",
       "    </tr>\n",
       "    <tr>\n",
       "      <th>PPI_Density</th>\n",
       "      <td>1715.0</td>\n",
       "      <td>NaN</td>\n",
       "      <td>NaN</td>\n",
       "      <td>NaN</td>\n",
       "      <td>403.793586</td>\n",
       "      <td>71.649872</td>\n",
       "      <td>179.0</td>\n",
       "      <td>393.0</td>\n",
       "      <td>402.0</td>\n",
       "      <td>446.0</td>\n",
       "      <td>643.0</td>\n",
       "    </tr>\n",
       "    <tr>\n",
       "      <th>quantile_10</th>\n",
       "      <td>1715.0</td>\n",
       "      <td>NaN</td>\n",
       "      <td>NaN</td>\n",
       "      <td>NaN</td>\n",
       "      <td>125.96059</td>\n",
       "      <td>17.898539</td>\n",
       "      <td>101.096</td>\n",
       "      <td>114.99</td>\n",
       "      <td>118.913</td>\n",
       "      <td>127.5</td>\n",
       "      <td>169.783</td>\n",
       "    </tr>\n",
       "    <tr>\n",
       "      <th>quantile_50</th>\n",
       "      <td>1715.0</td>\n",
       "      <td>NaN</td>\n",
       "      <td>NaN</td>\n",
       "      <td>NaN</td>\n",
       "      <td>314.53572</td>\n",
       "      <td>114.271852</td>\n",
       "      <td>197.315</td>\n",
       "      <td>247.18</td>\n",
       "      <td>249.99</td>\n",
       "      <td>330.675</td>\n",
       "      <td>552.385</td>\n",
       "    </tr>\n",
       "    <tr>\n",
       "      <th>quantile_90</th>\n",
       "      <td>1715.0</td>\n",
       "      <td>NaN</td>\n",
       "      <td>NaN</td>\n",
       "      <td>NaN</td>\n",
       "      <td>855.996415</td>\n",
       "      <td>299.305626</td>\n",
       "      <td>224.847</td>\n",
       "      <td>584.15</td>\n",
       "      <td>793.2</td>\n",
       "      <td>999.99</td>\n",
       "      <td>1380.286</td>\n",
       "    </tr>\n",
       "    <tr>\n",
       "      <th>price_range</th>\n",
       "      <td>1715</td>\n",
       "      <td>3</td>\n",
       "      <td>medium price</td>\n",
       "      <td>1366</td>\n",
       "      <td>NaN</td>\n",
       "      <td>NaN</td>\n",
       "      <td>NaN</td>\n",
       "      <td>NaN</td>\n",
       "      <td>NaN</td>\n",
       "      <td>NaN</td>\n",
       "      <td>NaN</td>\n",
       "    </tr>\n",
       "  </tbody>\n",
       "</table>\n",
       "</div>"
      ],
      "text/plain": [
       "                     count unique  \\\n",
       "phone_brand           1715     22   \n",
       "phone_model           1715    472   \n",
       "store                 1715      8   \n",
       "price               1715.0    NaN   \n",
       "currency              1715      3   \n",
       "price_USD           1715.0    NaN   \n",
       "storage             1715.0    NaN   \n",
       "ram                 1715.0    NaN   \n",
       "Launch                1715    337   \n",
       "Dimensions            1715    397   \n",
       "Weight              1712.0    NaN   \n",
       "Display_Type          1715    262   \n",
       "Display_Size        1715.0    NaN   \n",
       "Display_Resolution    1715     68   \n",
       "OS                    1715    213   \n",
       "NFC                 1715.0    NaN   \n",
       "USB                   1715     35   \n",
       "BATTERY             1715.0    NaN   \n",
       "Features_Sensors      1715     63   \n",
       "Colors                1715    416   \n",
       "Video                 1715    164   \n",
       "Chipset               1715    158   \n",
       "CPU                   1715    128   \n",
       "GPU                   1715     76   \n",
       "Year                1715.0    NaN   \n",
       "Foldable            1715.0    NaN   \n",
       "PPI_Density         1715.0    NaN   \n",
       "quantile_10         1715.0    NaN   \n",
       "quantile_50         1715.0    NaN   \n",
       "quantile_90         1715.0    NaN   \n",
       "price_range           1715      3   \n",
       "\n",
       "                                                                  top  freq  \\\n",
       "phone_brand                                                   samsung   432   \n",
       "phone_model                                       Apple iPhone 15 Pro    12   \n",
       "store                                                       Amazon DE   585   \n",
       "price                                                             NaN   NaN   \n",
       "currency                                                          USD   642   \n",
       "price_USD                                                         NaN   NaN   \n",
       "storage                                                           NaN   NaN   \n",
       "ram                                                               NaN   NaN   \n",
       "Launch                                                     2023-09-22    36   \n",
       "Dimensions              164.2 x 76.1 x 8.1 mm (6.46 x 3.00 x 0.32 in)    27   \n",
       "Weight                                                            NaN   NaN   \n",
       "Display_Type                                                  PLS LCD    63   \n",
       "Display_Size                                                      NaN   NaN   \n",
       "Display_Resolution                                        1080 x 2400   543   \n",
       "OS                                                Android 12, MIUI 13    47   \n",
       "NFC                                                               NaN   NaN   \n",
       "USB                                               USB Type-C 2.0, OTG   676   \n",
       "BATTERY                                                           NaN   NaN   \n",
       "Features_Sensors    Fingerprint (under display, optical), accelero...   206   \n",
       "Colors              Black Titanium, White Titanium, Blue Titanium,...    20   \n",
       "Video                                                     1080p@30fps   505   \n",
       "Chipset                      Qualcomm SM6375 Snapdragon 695 5G (6 nm)    59   \n",
       "CPU                 Octa-core (2x2.0 GHz Cortex-A75 & 6x1.8 GHz Co...   107   \n",
       "GPU                                                      Mali-G57 MC2   118   \n",
       "Year                                                              NaN   NaN   \n",
       "Foldable                                                          NaN   NaN   \n",
       "PPI_Density                                                       NaN   NaN   \n",
       "quantile_10                                                       NaN   NaN   \n",
       "quantile_50                                                       NaN   NaN   \n",
       "quantile_90                                                       NaN   NaN   \n",
       "price_range                                              medium price  1366   \n",
       "\n",
       "                           mean         std      min     25%      50%  \\\n",
       "phone_brand                 NaN         NaN      NaN     NaN      NaN   \n",
       "phone_model                 NaN         NaN      NaN     NaN      NaN   \n",
       "store                       NaN         NaN      NaN     NaN      NaN   \n",
       "price                 381.33856  334.142684     49.0  149.74   249.99   \n",
       "currency                    NaN         NaN      NaN     NaN      NaN   \n",
       "price_USD            420.052589  361.986094    52.63  167.89    279.0   \n",
       "storage              271.286297  207.263335     32.0   128.0    256.0   \n",
       "ram                    7.973178    3.422996      2.0     6.0      8.0   \n",
       "Launch                      NaN         NaN      NaN     NaN      NaN   \n",
       "Dimensions                  NaN         NaN      NaN     NaN      NaN   \n",
       "Weight               195.212266   24.714075    135.0   183.5   193.25   \n",
       "Display_Type                NaN         NaN      NaN     NaN      NaN   \n",
       "Display_Size           6.565038    0.382489      4.7     6.5      6.6   \n",
       "Display_Resolution          NaN         NaN      NaN     NaN      NaN   \n",
       "OS                          NaN         NaN      NaN     NaN      NaN   \n",
       "NFC                    0.917201    0.275658      0.0     1.0      1.0   \n",
       "USB                         NaN         NaN      NaN     NaN      NaN   \n",
       "BATTERY             4657.909038  693.623964   1821.0  4500.0   5000.0   \n",
       "Features_Sensors            NaN         NaN      NaN     NaN      NaN   \n",
       "Colors                      NaN         NaN      NaN     NaN      NaN   \n",
       "Video                       NaN         NaN      NaN     NaN      NaN   \n",
       "Chipset                     NaN         NaN      NaN     NaN      NaN   \n",
       "CPU                         NaN         NaN      NaN     NaN      NaN   \n",
       "GPU                         NaN         NaN      NaN     NaN      NaN   \n",
       "Year                2022.050146    1.427699   2017.0  2021.0   2022.0   \n",
       "Foldable               0.048397    0.214665      0.0     0.0      0.0   \n",
       "PPI_Density          403.793586   71.649872    179.0   393.0    402.0   \n",
       "quantile_10           125.96059   17.898539  101.096  114.99  118.913   \n",
       "quantile_50           314.53572  114.271852  197.315  247.18   249.99   \n",
       "quantile_90          855.996415  299.305626  224.847  584.15    793.2   \n",
       "price_range                 NaN         NaN      NaN     NaN      NaN   \n",
       "\n",
       "                        75%       max  \n",
       "phone_brand             NaN       NaN  \n",
       "phone_model             NaN       NaN  \n",
       "store                   NaN       NaN  \n",
       "price               499.475   2179.46  \n",
       "currency                NaN       NaN  \n",
       "price_USD           551.145   2361.66  \n",
       "storage               256.0    1000.0  \n",
       "ram                    12.0      24.0  \n",
       "Launch                  NaN       NaN  \n",
       "Dimensions              NaN       NaN  \n",
       "Weight                204.0     627.0  \n",
       "Display_Type            NaN       NaN  \n",
       "Display_Size            6.7      12.4  \n",
       "Display_Resolution      NaN       NaN  \n",
       "OS                      NaN       NaN  \n",
       "NFC                     1.0       1.0  \n",
       "USB                     NaN       NaN  \n",
       "BATTERY              5000.0   10200.0  \n",
       "Features_Sensors        NaN       NaN  \n",
       "Colors                  NaN       NaN  \n",
       "Video                   NaN       NaN  \n",
       "Chipset                 NaN       NaN  \n",
       "CPU                     NaN       NaN  \n",
       "GPU                     NaN       NaN  \n",
       "Year                 2023.0    2024.0  \n",
       "Foldable                0.0       1.0  \n",
       "PPI_Density           446.0     643.0  \n",
       "quantile_10           127.5   169.783  \n",
       "quantile_50         330.675   552.385  \n",
       "quantile_90          999.99  1380.286  \n",
       "price_range             NaN       NaN  "
      ]
     },
     "execution_count": 5,
     "metadata": {},
     "output_type": "execute_result"
    }
   ],
   "source": [
    "df.describe(include='all').T"
   ]
  },
  {
   "cell_type": "markdown",
   "metadata": {},
   "source": [
    "\n",
    "<a id=\"data-cleaning\"></a>\n",
    "<div style=\"background-color: #48cae4; border-radius: 15px; padding: 20px; text-align: left;\">\n",
    "    <h1 style=\"margin: 0;\">\n",
    "        <b>\n",
    "            <span style=\"color: Black;\">Chapter Two</span>\n",
    "            <span style=\"color: #ffffff;\">|</span>\n",
    "            <span style=\"color: #FEEC37;\"> Data Cleaning 🧹\n",
    "            </span>\n",
    "        </b>\n",
    "    </h1>\n",
    "    <br>\n",
    "    <a href=\"#table-of-contents\" style=\"font-family: Arial, sans-serif; font-size: 20px; background-color: #7b2cbf; color: #ffffff; padding: 7px 15px; text-decoration: none; border-radius: 15px;\">\n",
    "        [Table of Content 📜⬆️]\n",
    "    </a>\n",
    "</div>\n"
   ]
  },
  {
   "cell_type": "code",
   "execution_count": 6,
   "metadata": {},
   "outputs": [
    {
     "data": {
      "text/plain": [
       "0"
      ]
     },
     "execution_count": 6,
     "metadata": {},
     "output_type": "execute_result"
    }
   ],
   "source": [
    "df.duplicated().sum()"
   ]
  },
  {
   "cell_type": "code",
   "execution_count": 7,
   "metadata": {},
   "outputs": [
    {
     "data": {
      "text/plain": [
       "phone_brand           0\n",
       "phone_model           0\n",
       "store                 0\n",
       "price                 0\n",
       "currency              0\n",
       "price_USD             0\n",
       "storage               0\n",
       "ram                   0\n",
       "Launch                0\n",
       "Dimensions            0\n",
       "Weight                3\n",
       "Display_Type          0\n",
       "Display_Size          0\n",
       "Display_Resolution    0\n",
       "OS                    0\n",
       "NFC                   0\n",
       "USB                   0\n",
       "BATTERY               0\n",
       "Features_Sensors      0\n",
       "Colors                0\n",
       "Video                 0\n",
       "Chipset               0\n",
       "CPU                   0\n",
       "GPU                   0\n",
       "Year                  0\n",
       "Foldable              0\n",
       "PPI_Density           0\n",
       "quantile_10           0\n",
       "quantile_50           0\n",
       "quantile_90           0\n",
       "price_range           0\n",
       "dtype: int64"
      ]
     },
     "execution_count": 7,
     "metadata": {},
     "output_type": "execute_result"
    }
   ],
   "source": [
    "df.isnull().sum()"
   ]
  },
  {
   "cell_type": "code",
   "execution_count": 8,
   "metadata": {},
   "outputs": [
    {
     "data": {
      "text/plain": [
       "<Axes: >"
      ]
     },
     "execution_count": 8,
     "metadata": {},
     "output_type": "execute_result"
    },
    {
     "data": {
      "image/png": "[encoded data removed]",
      "text/plain": [
       "<Figure size 2500x1000 with 2 Axes>"
      ]
     },
     "metadata": {},
     "output_type": "display_data"
    }
   ],
   "source": [
    "msno.matrix(df)"
   ]
  },
  {
   "cell_type": "markdown",
   "metadata": {},
   "source": [
    "<a id=\"best-practice\"></a>\n",
    "<div style=\"background-color: #48cae4; border-radius: 15px; padding: 20px; text-align: left;\">\n",
    "<p style=\"color: Black;\">\n",
    "   ⭐ <b>Best Practice before clean the data have a copy of Original Data<b>\n",
    "   <pre  style=\"color: Black; font-size: 20px;\">\n",
    "   1.Rename all column make one format \n",
    "   </pre>\n",
    "</p>\n",
    "    <a href=\"#table-of-contents\" style=\"font-family: Arial, sans-serif; font-size: 20px; background-color: #7b2cbf; color: #ffffff; padding: 7px 15px; text-decoration: none; border-radius: 15px;\">\n",
    "        [Table of Content 📜⬆️]\n",
    "    </a>\n",
    "</div>"
   ]
  },
  {
   "cell_type": "code",
   "execution_count": 9,
   "metadata": {},
   "outputs": [],
   "source": [
    "dfc = df.copy()"
   ]
  },
  {
   "cell_type": "markdown",
   "metadata": {},
   "source": [
    "<a id=\"snake\"></a>\n",
    "### <div style=\"text-align:left; border-radius:15px; padding:20px; color:Black; margin:0; font-size:100%; font-family:Arial; background-color:#48cae4; overflow:hidden\"><b>⚡ Make all column in snake case\n",
    "</b>\n",
    "</div>\n",
    "    <a href=\"#table-of-contents\" style=\"font-family: Arial, sans-serif; font-size: 15px; background-color: #7b2cbf; color: #ffffff; padding: 7px 15px; text-decoration: none; border-radius: 15px;\">\n",
    "        [Table of Content 📜⬆️]\n",
    "    </a>"
   ]
  },
  {
   "cell_type": "code",
   "execution_count": 10,
   "metadata": {},
   "outputs": [
    {
     "data": {
      "text/plain": [
       "Index(['phone_brand', 'phone_model', 'store', 'price', 'currency', 'price_USD',\n",
       "       'storage', 'ram', 'Launch', 'Dimensions', 'Weight', 'Display_Type',\n",
       "       'Display_Size', 'Display_Resolution', 'OS', 'NFC', 'USB', 'BATTERY',\n",
       "       'Features_Sensors', 'Colors', 'Video', 'Chipset', 'CPU', 'GPU', 'Year',\n",
       "       'Foldable', 'PPI_Density', 'quantile_10', 'quantile_50', 'quantile_90',\n",
       "       'price_range'],\n",
       "      dtype='object')"
      ]
     },
     "execution_count": 10,
     "metadata": {},
     "output_type": "execute_result"
    }
   ],
   "source": [
    "dfc.columns"
   ]
  },
  {
   "cell_type": "code",
   "execution_count": 11,
   "metadata": {},
   "outputs": [],
   "source": [
    "# Dictionary for renaming columns to lowercase\n",
    "column_rename_dict = {\n",
    "    'price_USD': 'price_usd',\n",
    "    'Launch': 'launch',\n",
    "    'Dimensions': 'dimensions',\n",
    "    'Weight': 'weight',\n",
    "    'Display_Type': 'display_type',\n",
    "    'Display_Size': 'display_size',\n",
    "    'Display_Resolution': 'display_resolution',\n",
    "    'OS': 'os',\n",
    "    'NFC': 'nfc',\n",
    "    'USB': 'usb',\n",
    "    'BATTERY': 'battery',\n",
    "    'Features_Sensors': 'features_sensors',\n",
    "    'Colors': 'colors',\n",
    "    'Video': 'video',\n",
    "    'Chipset': 'chipset',\n",
    "    'CPU': 'cpu',\n",
    "    'GPU': 'gpu',\n",
    "    'Year': 'year',\n",
    "    'Foldable': 'foldable',\n",
    "    'PPI_Density': 'ppi_density',\n",
    "}\n",
    "\n",
    "# Renaming the columns in the dataframe\n",
    "dfc.rename(columns=column_rename_dict, inplace=True)\n"
   ]
  },
  {
   "cell_type": "markdown",
   "metadata": {},
   "source": [
    "<a id=\"31\"></a>\n",
    "### <div style=\"text-align:left; border-radius:15px; padding:20px; color:Black; margin:0; font-size:100%; font-family:Arial; background-color:#48cae4; overflow:hidden\"><b>⚡ 1. **Delete Unnecessary Columns**: Remove the 'price' and 'currency' columns if the 'price($)' column is available.\n",
    "</b>\n",
    "</div>\n",
    "    <a href=\"#table-of-contents\" style=\"font-family: Arial, sans-serif; font-size: 15px; background-color: #7b2cbf; color: #ffffff; padding: 7px 15px; text-decoration: none; border-radius: 15px;\">\n",
    "        [Table of Content 📜⬆️]\n",
    "    </a>"
   ]
  },
  {
   "cell_type": "code",
   "execution_count": 12,
   "metadata": {},
   "outputs": [
    {
     "data": {
      "text/plain": [
       "(1715, 31)"
      ]
     },
     "execution_count": 12,
     "metadata": {},
     "output_type": "execute_result"
    }
   ],
   "source": [
    "dfc.shape"
   ]
  },
  {
   "cell_type": "code",
   "execution_count": 13,
   "metadata": {},
   "outputs": [],
   "source": [
    "dfc.drop(columns=['currency', 'price'], inplace=True )"
   ]
  },
  {
   "cell_type": "code",
   "execution_count": 14,
   "metadata": {},
   "outputs": [
    {
     "data": {
      "text/plain": [
       "(1715, 29)"
      ]
     },
     "execution_count": 14,
     "metadata": {},
     "output_type": "execute_result"
    }
   ],
   "source": [
    "dfc.shape"
   ]
  },
  {
   "cell_type": "markdown",
   "metadata": {},
   "source": [
    "<a id=\"32\"></a>\n",
    "### <div style=\"text-align:left; border-radius:15px; padding:20px; color:Black; margin:0; font-size:100%; font-family:Arial; background-color:#48cae4; overflow:hidden\"><b>⚡ 2. **Handle Missing Values for Weight**: Fill any missing values in the 'weight' column with the mean weight.</b>\n",
    "</div>\n",
    "    <a href=\"#table-of-contents\" style=\"font-family: Arial, sans-serif; font-size: 15px; background-color: #7b2cbf; color: #ffffff; padding: 7px 15px; text-decoration: none; border-radius: 15px;\">\n",
    "        [Table of Content 📜⬆️]\n",
    "    </a>"
   ]
  },
  {
   "cell_type": "code",
   "execution_count": 15,
   "metadata": {},
   "outputs": [
    {
     "data": {
      "text/plain": [
       "3"
      ]
     },
     "execution_count": 15,
     "metadata": {},
     "output_type": "execute_result"
    }
   ],
   "source": [
    "dfc['weight'].isna().sum()"
   ]
  },
  {
   "cell_type": "code",
   "execution_count": 16,
   "metadata": {},
   "outputs": [],
   "source": [
    "wt_mean = dfc['weight'].mean()"
   ]
  },
  {
   "cell_type": "code",
   "execution_count": 17,
   "metadata": {},
   "outputs": [],
   "source": [
    "dfc['weight'].fillna(dfc['weight'].mean(), inplace=True)"
   ]
  },
  {
   "cell_type": "code",
   "execution_count": 18,
   "metadata": {},
   "outputs": [
    {
     "data": {
      "text/plain": [
       "0"
      ]
     },
     "execution_count": 18,
     "metadata": {},
     "output_type": "execute_result"
    }
   ],
   "source": [
    "dfc['weight'].isna().sum()"
   ]
  },
  {
   "cell_type": "markdown",
   "metadata": {},
   "source": [
    "<a id=\"33\"></a>\n",
    "### <div style=\"text-align:left; border-radius:15px; padding:20px; color:Black; margin:0; font-size:100%; font-family:Arial; background-color:#48cae4; overflow:hidden\"><b>⚡ 3. **Rename and Format Launch Date**: Convert the 'launch' column to a datetime format and rename it to 'launching_date'.</b>\n",
    "</div>\n",
    "    <a href=\"#table-of-contents\" style=\"font-family: Arial, sans-serif; font-size: 15px; background-color: #7b2cbf; color: #ffffff; padding: 7px 15px; text-decoration: none; border-radius: 15px;\">\n",
    "        [Table of Content 📜⬆️]\n",
    "    </a>"
   ]
  },
  {
   "cell_type": "code",
   "execution_count": 19,
   "metadata": {},
   "outputs": [
    {
     "name": "stdout",
     "output_type": "stream",
     "text": [
      "<class 'pandas.core.frame.DataFrame'>\n",
      "RangeIndex: 1715 entries, 0 to 1714\n",
      "Data columns (total 1 columns):\n",
      " #   Column  Non-Null Count  Dtype \n",
      "---  ------  --------------  ----- \n",
      " 0   launch  1715 non-null   object\n",
      "dtypes: object(1)\n",
      "memory usage: 13.5+ KB\n"
     ]
    }
   ],
   "source": [
    "dfc[['launch']].info()"
   ]
  },
  {
   "cell_type": "code",
   "execution_count": 20,
   "metadata": {},
   "outputs": [],
   "source": [
    "dfc['launch'] = pd.to_datetime(dfc['launch'])\n"
   ]
  },
  {
   "cell_type": "code",
   "execution_count": 21,
   "metadata": {},
   "outputs": [
    {
     "name": "stdout",
     "output_type": "stream",
     "text": [
      "datetime64[ns]\n"
     ]
    }
   ],
   "source": [
    "print(dfc['launch'].dtype)\n"
   ]
  },
  {
   "cell_type": "code",
   "execution_count": 22,
   "metadata": {},
   "outputs": [],
   "source": [
    "dfc.rename(columns={'launch':'launch_date'}, inplace=True)"
   ]
  },
  {
   "cell_type": "code",
   "execution_count": 23,
   "metadata": {},
   "outputs": [
    {
     "data": {
      "text/plain": [
       "Index(['phone_brand', 'phone_model', 'store', 'price_usd', 'storage', 'ram',\n",
       "       'launch_date', 'dimensions', 'weight', 'display_type', 'display_size',\n",
       "       'display_resolution', 'os', 'nfc', 'usb', 'battery', 'features_sensors',\n",
       "       'colors', 'video', 'chipset', 'cpu', 'gpu', 'year', 'foldable',\n",
       "       'ppi_density', 'quantile_10', 'quantile_50', 'quantile_90',\n",
       "       'price_range'],\n",
       "      dtype='object')"
      ]
     },
     "execution_count": 23,
     "metadata": {},
     "output_type": "execute_result"
    }
   ],
   "source": [
    "dfc.columns"
   ]
  },
  {
   "cell_type": "markdown",
   "metadata": {},
   "source": [
    "<a id=\"34\"></a>\n",
    "### <div style=\"text-align:left; border-radius:15px; padding:20px; color:Black; margin:0; font-size:100%; font-family:Arial; background-color:#48cae4; overflow:hidden\"><b>⚡4. Categorize OS </b>\n",
    "<a href=\"#table-of-contents\" style=\"font-family: Arial, sans-serif; font-size: 15px; background-color: #7b2cbf; color: #ffffff; padding: 7px 15px; text-decoration: none; border-radius: 15px;\">\n",
    "        [Table of Content 📜⬆️]\n",
    "    </a>\n",
    "</div>\n"
   ]
  },
  {
   "cell_type": "code",
   "execution_count": 24,
   "metadata": {},
   "outputs": [
    {
     "data": {
      "text/plain": [
       "0                                                  iOS 18\n",
       "1                                                  iOS 18\n",
       "2                                                  iOS 18\n",
       "3                                                  iOS 18\n",
       "4                                                  iOS 18\n",
       "                              ...                        \n",
       "1710    Android 13, up to 3 major Android upgrades, Hy...\n",
       "1711    Android 13, up to 3 major Android upgrades, Hy...\n",
       "1712    Android 13, up to 3 major Android upgrades, Hy...\n",
       "1713                                  Android 13, MIUI 14\n",
       "1714                         Android 13, MIUI 14 for POCO\n",
       "Name: os, Length: 1715, dtype: object"
      ]
     },
     "execution_count": 24,
     "metadata": {},
     "output_type": "execute_result"
    }
   ],
   "source": [
    "dfc['os']"
   ]
  },
  {
   "cell_type": "code",
   "execution_count": 25,
   "metadata": {},
   "outputs": [],
   "source": [
    "# Adjusted regex to capture versions with possible decimals\n",
    "dfc[['os_type', 'os_version']] = dfc['os'].str.extract(r'(iOS|Android|EMUI|HarmonyOS)\\s([\\d.]+)')"
   ]
  },
  {
   "cell_type": "code",
   "execution_count": 26,
   "metadata": {},
   "outputs": [
    {
     "data": {
      "text/plain": [
       "0"
      ]
     },
     "execution_count": 26,
     "metadata": {},
     "output_type": "execute_result"
    }
   ],
   "source": [
    "dfc['os_type'].isna().sum()"
   ]
  },
  {
   "cell_type": "code",
   "execution_count": 27,
   "metadata": {},
   "outputs": [
    {
     "data": {
      "text/plain": [
       "Series([], Name: os, dtype: object)"
      ]
     },
     "execution_count": 27,
     "metadata": {},
     "output_type": "execute_result"
    }
   ],
   "source": [
    "dfc[dfc['os_type'].isna()]['os']"
   ]
  },
  {
   "cell_type": "code",
   "execution_count": 28,
   "metadata": {},
   "outputs": [
    {
     "data": {
      "text/html": [
       "<div>\n",
       "<style scoped>\n",
       "    .dataframe tbody tr th:only-of-type {\n",
       "        vertical-align: middle;\n",
       "    }\n",
       "\n",
       "    .dataframe tbody tr th {\n",
       "        vertical-align: top;\n",
       "    }\n",
       "\n",
       "    .dataframe thead th {\n",
       "        text-align: right;\n",
       "    }\n",
       "</style>\n",
       "<table border=\"1\" class=\"dataframe\">\n",
       "  <thead>\n",
       "    <tr style=\"text-align: right;\">\n",
       "      <th></th>\n",
       "      <th>os</th>\n",
       "      <th>os_type</th>\n",
       "      <th>os_version</th>\n",
       "    </tr>\n",
       "  </thead>\n",
       "  <tbody>\n",
       "    <tr>\n",
       "      <th>1277</th>\n",
       "      <td>Android 11, XOS 10</td>\n",
       "      <td>Android</td>\n",
       "      <td>11</td>\n",
       "    </tr>\n",
       "    <tr>\n",
       "      <th>79</th>\n",
       "      <td>Android 14, up to 4 major Android upgrades, Hy...</td>\n",
       "      <td>Android</td>\n",
       "      <td>14</td>\n",
       "    </tr>\n",
       "    <tr>\n",
       "      <th>638</th>\n",
       "      <td>Android 11, upgradable to Android 13, HyperOS</td>\n",
       "      <td>Android</td>\n",
       "      <td>11</td>\n",
       "    </tr>\n",
       "    <tr>\n",
       "      <th>1581</th>\n",
       "      <td>iOS 17, upgradable to iOS 18</td>\n",
       "      <td>iOS</td>\n",
       "      <td>17</td>\n",
       "    </tr>\n",
       "    <tr>\n",
       "      <th>45</th>\n",
       "      <td>Android 14, up to 3 major Android upgrades, Ox...</td>\n",
       "      <td>Android</td>\n",
       "      <td>14</td>\n",
       "    </tr>\n",
       "    <tr>\n",
       "      <th>1076</th>\n",
       "      <td>Android 12, up to 4 major Android upgrades, On...</td>\n",
       "      <td>Android</td>\n",
       "      <td>12</td>\n",
       "    </tr>\n",
       "    <tr>\n",
       "      <th>765</th>\n",
       "      <td>Android 8.0 (Oreo), upgradable to Android 10, ...</td>\n",
       "      <td>Android</td>\n",
       "      <td>8.0</td>\n",
       "    </tr>\n",
       "    <tr>\n",
       "      <th>1552</th>\n",
       "      <td>Android 13, upgradable to Android 14, HyperOS</td>\n",
       "      <td>Android</td>\n",
       "      <td>13</td>\n",
       "    </tr>\n",
       "  </tbody>\n",
       "</table>\n",
       "</div>"
      ],
      "text/plain": [
       "                                                     os  os_type os_version\n",
       "1277                                 Android 11, XOS 10  Android         11\n",
       "79    Android 14, up to 4 major Android upgrades, Hy...  Android         14\n",
       "638       Android 11, upgradable to Android 13, HyperOS  Android         11\n",
       "1581                       iOS 17, upgradable to iOS 18      iOS         17\n",
       "45    Android 14, up to 3 major Android upgrades, Ox...  Android         14\n",
       "1076  Android 12, up to 4 major Android upgrades, On...  Android         12\n",
       "765   Android 8.0 (Oreo), upgradable to Android 10, ...  Android        8.0\n",
       "1552      Android 13, upgradable to Android 14, HyperOS  Android         13"
      ]
     },
     "execution_count": 28,
     "metadata": {},
     "output_type": "execute_result"
    }
   ],
   "source": [
    "# Display \n",
    "dfc[['os', 'os_type', 'os_version']].sample(8)"
   ]
  },
  {
   "cell_type": "markdown",
   "metadata": {},
   "source": [
    "<a id=\"35\"></a>\n",
    "### <div style=\"text-align:left; border-radius:15px; padding:20px; color:Black; margin:0; font-size:100%; font-family:Arial; background-color:#48cae4; overflow:hidden\"><b>⚡ 5. **Classify Battery Size**: Create categories for 'battery size' (e.g., small, mid, large) based on size ranges and delete the original 'battery' column.</b>\n",
    "<a href=\"#table-of-contents\" style=\"font-family: Arial, sans-serif; font-size: 15px; background-color: #7b2cbf; color: #ffffff; padding: 7px 15px; text-decoration: none; border-radius: 15px;\">\n",
    "        [Table of Content 📜⬆️]\n",
    "</a>\n",
    "</div>\n"
   ]
  },
  {
   "cell_type": "code",
   "execution_count": 29,
   "metadata": {},
   "outputs": [
    {
     "data": {
      "text/plain": [
       "array([ 3582,  4685,  3561,  4674,  5500,  4650,  4700,  5060,  4492,\n",
       "        5600,  5200,  5150,  5000,  5050,  4310,  4000,  4200,  4500,\n",
       "        6000,  4900,  4400,  5010,  5030,  5160,  5100,  6500, 10200,\n",
       "        4780,  2227,  3687,  1821,  2815,  4115,  4510,  4300,  5260,\n",
       "        5020,  4230,  2438,  4352,  3240,  3095,  4614,  5003,  4360,\n",
       "        4470,  4630,  4800,  3300,  4100,  4600,  4520,  4250,  2942,\n",
       "        3174,  2658,  3500,  3000,  2716,  3110,  3046,  3969,  3700,\n",
       "        2800,  3650,  3800,  3100,  3400,  3279,  4323,  3200,  2018,\n",
       "        4355,  4020,  4610,  5080,  4820,  3349,  4441,  4383,  3274,\n",
       "        4380,  4575,  4821,  5330,  4815,  5400,  3900, 10090,  8000],\n",
       "      dtype=int64)"
      ]
     },
     "execution_count": 29,
     "metadata": {},
     "output_type": "execute_result"
    }
   ],
   "source": [
    "dfc['battery'].unique()"
   ]
  },
  {
   "cell_type": "code",
   "execution_count": 30,
   "metadata": {},
   "outputs": [],
   "source": [
    "def battery_size_category(b):\n",
    "    if b < 3500:\n",
    "        return 'Small'\n",
    "    elif 3500 <= b < 4500:\n",
    "        return 'Medium'\n",
    "    elif 4500 <= b < 5500:\n",
    "        return 'Large'\n",
    "    elif 5500 <= b < 6000:\n",
    "        return 'Extra Large'\n",
    "    else:\n",
    "        return 'Super Large'"
   ]
  },
  {
   "cell_type": "code",
   "execution_count": 31,
   "metadata": {},
   "outputs": [],
   "source": [
    "dfc['battery_size'] = dfc['battery'].apply(battery_size_category)"
   ]
  },
  {
   "cell_type": "code",
   "execution_count": 32,
   "metadata": {},
   "outputs": [
    {
     "data": {
      "text/plain": [
       "886     Medium\n",
       "943     Medium\n",
       "87       Large\n",
       "234      Large\n",
       "1667     Large\n",
       "Name: battery_size, dtype: object"
      ]
     },
     "execution_count": 32,
     "metadata": {},
     "output_type": "execute_result"
    }
   ],
   "source": [
    "dfc['battery_size'].sample(5)"
   ]
  },
  {
   "cell_type": "markdown",
   "metadata": {},
   "source": [
    "<a id=\"36\"></a>\n",
    "### <div style=\"text-align:left; border-radius:15px; padding:20px; color:Black; margin:0; font-size:100%; font-family:Arial; background-color:#48cae4; overflow:hidden\"><b>⚡ 6. **Count Available Colors**: Count how many colors are available in the 'color_available' column by using the commas as a delimiter.\n",
    " </b>\n",
    "<a href=\"#table-of-contents\" style=\"font-family: Arial, sans-serif; font-size: 15px; background-color: #7b2cbf; color: #ffffff; padding: 7px 15px; text-decoration: none; border-radius: 15px;\">\n",
    "        [Table of Content 📜⬆️]\n",
    "</a>\n",
    "</div>\n"
   ]
  },
  {
   "cell_type": "code",
   "execution_count": 33,
   "metadata": {},
   "outputs": [
    {
     "data": {
      "text/plain": [
       "0       Black Titanium, White Titanium, Natural Titani...\n",
       "1       Black Titanium, White Titanium, Natural Titani...\n",
       "2       Black Titanium, White Titanium, Natural Titani...\n",
       "3       Black Titanium, White Titanium, Natural Titani...\n",
       "4                   Black, White, Pink, Teal, Ultramarine\n",
       "                              ...                        \n",
       "1710    Midnight Black, Aurora Purple (Coral Purple), ...\n",
       "1711    Midnight Black, Aurora Purple (Coral Purple), ...\n",
       "1712    Midnight Black (Fushion Black), Moonlight Whit...\n",
       "1713    Midnight Black, Navy Blue, Glacier White, Clov...\n",
       "1714                                  Black, Blue, Purple\n",
       "Name: colors, Length: 1715, dtype: object"
      ]
     },
     "execution_count": 33,
     "metadata": {},
     "output_type": "execute_result"
    }
   ],
   "source": [
    "dfc['colors']"
   ]
  },
  {
   "cell_type": "code",
   "execution_count": 34,
   "metadata": {},
   "outputs": [],
   "source": [
    "dfc['colors_available'] = dfc['colors'].str.split(',').apply(lambda x: len(x))"
   ]
  },
  {
   "cell_type": "code",
   "execution_count": 35,
   "metadata": {},
   "outputs": [
    {
     "data": {
      "text/html": [
       "<div>\n",
       "<style scoped>\n",
       "    .dataframe tbody tr th:only-of-type {\n",
       "        vertical-align: middle;\n",
       "    }\n",
       "\n",
       "    .dataframe tbody tr th {\n",
       "        vertical-align: top;\n",
       "    }\n",
       "\n",
       "    .dataframe thead th {\n",
       "        text-align: right;\n",
       "    }\n",
       "</style>\n",
       "<table border=\"1\" class=\"dataframe\">\n",
       "  <thead>\n",
       "    <tr style=\"text-align: right;\">\n",
       "      <th></th>\n",
       "      <th>colors_available</th>\n",
       "      <th>colors</th>\n",
       "    </tr>\n",
       "  </thead>\n",
       "  <tbody>\n",
       "    <tr>\n",
       "      <th>0</th>\n",
       "      <td>4</td>\n",
       "      <td>Black Titanium, White Titanium, Natural Titani...</td>\n",
       "    </tr>\n",
       "    <tr>\n",
       "      <th>1</th>\n",
       "      <td>4</td>\n",
       "      <td>Black Titanium, White Titanium, Natural Titani...</td>\n",
       "    </tr>\n",
       "    <tr>\n",
       "      <th>2</th>\n",
       "      <td>4</td>\n",
       "      <td>Black Titanium, White Titanium, Natural Titani...</td>\n",
       "    </tr>\n",
       "    <tr>\n",
       "      <th>3</th>\n",
       "      <td>4</td>\n",
       "      <td>Black Titanium, White Titanium, Natural Titani...</td>\n",
       "    </tr>\n",
       "    <tr>\n",
       "      <th>4</th>\n",
       "      <td>5</td>\n",
       "      <td>Black, White, Pink, Teal, Ultramarine</td>\n",
       "    </tr>\n",
       "    <tr>\n",
       "      <th>...</th>\n",
       "      <td>...</td>\n",
       "      <td>...</td>\n",
       "    </tr>\n",
       "    <tr>\n",
       "      <th>1710</th>\n",
       "      <td>6</td>\n",
       "      <td>Midnight Black, Aurora Purple (Coral Purple), ...</td>\n",
       "    </tr>\n",
       "    <tr>\n",
       "      <th>1711</th>\n",
       "      <td>6</td>\n",
       "      <td>Midnight Black, Aurora Purple (Coral Purple), ...</td>\n",
       "    </tr>\n",
       "    <tr>\n",
       "      <th>1712</th>\n",
       "      <td>5</td>\n",
       "      <td>Midnight Black (Fushion Black), Moonlight Whit...</td>\n",
       "    </tr>\n",
       "    <tr>\n",
       "      <th>1713</th>\n",
       "      <td>4</td>\n",
       "      <td>Midnight Black, Navy Blue, Glacier White, Clov...</td>\n",
       "    </tr>\n",
       "    <tr>\n",
       "      <th>1714</th>\n",
       "      <td>3</td>\n",
       "      <td>Black, Blue, Purple</td>\n",
       "    </tr>\n",
       "  </tbody>\n",
       "</table>\n",
       "<p>1715 rows × 2 columns</p>\n",
       "</div>"
      ],
      "text/plain": [
       "      colors_available                                             colors\n",
       "0                    4  Black Titanium, White Titanium, Natural Titani...\n",
       "1                    4  Black Titanium, White Titanium, Natural Titani...\n",
       "2                    4  Black Titanium, White Titanium, Natural Titani...\n",
       "3                    4  Black Titanium, White Titanium, Natural Titani...\n",
       "4                    5              Black, White, Pink, Teal, Ultramarine\n",
       "...                ...                                                ...\n",
       "1710                 6  Midnight Black, Aurora Purple (Coral Purple), ...\n",
       "1711                 6  Midnight Black, Aurora Purple (Coral Purple), ...\n",
       "1712                 5  Midnight Black (Fushion Black), Moonlight Whit...\n",
       "1713                 4  Midnight Black, Navy Blue, Glacier White, Clov...\n",
       "1714                 3                                Black, Blue, Purple\n",
       "\n",
       "[1715 rows x 2 columns]"
      ]
     },
     "execution_count": 35,
     "metadata": {},
     "output_type": "execute_result"
    }
   ],
   "source": [
    "dfc[['colors_available', 'colors']]"
   ]
  },
  {
   "cell_type": "markdown",
   "metadata": {},
   "source": [
    "<a id=\"37\"></a>\n",
    "### <div style=\"text-align:left; border-radius:15px; padding:20px; color:Black; margin:0; font-size:100%; font-family:Arial; background-color:#48cae4; overflow:hidden\"><b>⚡ 7. **Extract Chip Company Name and Delete Chipset Column**: Identify the chip company from the 'chipset' column and then delete the original 'chipset' column.</b>\n",
    "<a href=\"#table-of-contents\" style=\"font-family: Arial, sans-serif; font-size: 15px; background-color: #7b2cbf; color: #ffffff; padding: 7px 15px; text-decoration: none; border-radius: 15px;\">\n",
    "        [Table of Content 📜⬆️]\n",
    "</a>\n",
    "</div>\n"
   ]
  },
  {
   "cell_type": "code",
   "execution_count": 36,
   "metadata": {},
   "outputs": [
    {
     "data": {
      "text/plain": [
       "0                                Apple A18 Pro (3 nm)\n",
       "1                                Apple A18 Pro (3 nm)\n",
       "2                                Apple A18 Pro (3 nm)\n",
       "3                                Apple A18 Pro (3 nm)\n",
       "4                                    Apple A18 (3 nm)\n",
       "                            ...                      \n",
       "1710    Qualcomm SM7435-AB Snapdragon 7s Gen 2 (4 nm)\n",
       "1711    Qualcomm SM7435-AB Snapdragon 7s Gen 2 (4 nm)\n",
       "1712             Mediatek Dimensity 7200 Ultra (4 nm)\n",
       "1713               Mediatek MT6769Z Helio G85 (12 nm)\n",
       "1714               Mediatek MT6769Z Helio G85 (12 nm)\n",
       "Name: chipset, Length: 1715, dtype: object"
      ]
     },
     "execution_count": 36,
     "metadata": {},
     "output_type": "execute_result"
    }
   ],
   "source": [
    "dfc['chipset']"
   ]
  },
  {
   "cell_type": "code",
   "execution_count": 37,
   "metadata": {},
   "outputs": [],
   "source": [
    "dfc['chip_company'] = dfc['chipset'].str.extract(r'(Apple|Qualcomn|Mediatek|Qualcomm|Google|Kirin|Unisoc|Exynos|JLQ|MediaTek)')"
   ]
  },
  {
   "cell_type": "code",
   "execution_count": 38,
   "metadata": {},
   "outputs": [
    {
     "data": {
      "text/plain": [
       "2"
      ]
     },
     "execution_count": 38,
     "metadata": {},
     "output_type": "execute_result"
    }
   ],
   "source": [
    "dfc['chip_company'].isna().sum()"
   ]
  },
  {
   "cell_type": "code",
   "execution_count": 39,
   "metadata": {},
   "outputs": [
    {
     "data": {
      "text/html": [
       "<div>\n",
       "<style scoped>\n",
       "    .dataframe tbody tr th:only-of-type {\n",
       "        vertical-align: middle;\n",
       "    }\n",
       "\n",
       "    .dataframe tbody tr th {\n",
       "        vertical-align: top;\n",
       "    }\n",
       "\n",
       "    .dataframe thead th {\n",
       "        text-align: right;\n",
       "    }\n",
       "</style>\n",
       "<table border=\"1\" class=\"dataframe\">\n",
       "  <thead>\n",
       "    <tr style=\"text-align: right;\">\n",
       "      <th></th>\n",
       "      <th>chipset</th>\n",
       "      <th>chip_company</th>\n",
       "    </tr>\n",
       "  </thead>\n",
       "  <tbody>\n",
       "    <tr>\n",
       "      <th>454</th>\n",
       "      <td>8</td>\n",
       "      <td>NaN</td>\n",
       "    </tr>\n",
       "    <tr>\n",
       "      <th>571</th>\n",
       "      <td>8</td>\n",
       "      <td>NaN</td>\n",
       "    </tr>\n",
       "  </tbody>\n",
       "</table>\n",
       "</div>"
      ],
      "text/plain": [
       "    chipset chip_company\n",
       "454       8          NaN\n",
       "571       8          NaN"
      ]
     },
     "execution_count": 39,
     "metadata": {},
     "output_type": "execute_result"
    }
   ],
   "source": [
    "dfc[dfc['chip_company'].isna()][['chipset', 'chip_company']]\n"
   ]
  },
  {
   "cell_type": "markdown",
   "metadata": {},
   "source": [
    "<a id=\"38\"></a>\n",
    "### <div style=\"text-align:left; border-radius:15px; padding:20px; color:Black; margin:0; font-size:100%; font-family:Arial; background-color:#48cae4; overflow:hidden\"><b>⚡ 8. **Classify CPU Cores**: Detect the number of cores in the 'CPU' column (e.g., octa, hexa, nona) and replace '8 core' with 'octa core'.\n",
    "</b>\n",
    "<a href=\"#table-of-contents\" style=\"font-family: Arial, sans-serif; font-size: 15px; background-color: #7b2cbf; color: #ffffff; padding: 7px 15px; text-decoration: none; border-radius: 15px;\">\n",
    "        [Table of Content 📜⬆️]\n",
    "</a>\n",
    "</div>\n"
   ]
  },
  {
   "cell_type": "code",
   "execution_count": 40,
   "metadata": {},
   "outputs": [
    {
     "data": {
      "text/plain": [
       "0                     Hexa-core (2x4.05 GHz + 4x2.42 GHz)\n",
       "1                     Hexa-core (2x4.05 GHz + 4x2.42 GHz)\n",
       "2                     Hexa-core (2x4.05 GHz + 4x2.42 GHz)\n",
       "3                     Hexa-core (2x4.05 GHz + 4x2.42 GHz)\n",
       "4                     Hexa-core (2x4.04 GHz + 4x2.20 GHz)\n",
       "                              ...                        \n",
       "1710    Octa-core (4x2.40 GHz Cortex-A78 & 4x1.95 GHz ...\n",
       "1711    Octa-core (4x2.40 GHz Cortex-A78 & 4x1.95 GHz ...\n",
       "1712    Octa-core (2x2.8 GHz Cortex-A715 & 6x2.0 GHz C...\n",
       "1713    Octa-core (2x2.0 GHz Cortex-A75 & 6x1.8 GHz Co...\n",
       "1714    Octa-core (2x2.0 GHz Cortex-A75 & 6x1.8 GHz Co...\n",
       "Name: cpu, Length: 1715, dtype: object"
      ]
     },
     "execution_count": 40,
     "metadata": {},
     "output_type": "execute_result"
    }
   ],
   "source": [
    "dfc['cpu']"
   ]
  },
  {
   "cell_type": "code",
   "execution_count": 41,
   "metadata": {},
   "outputs": [],
   "source": [
    "dfc['cpu_core'] = dfc['cpu'].str.extract(r'(Hexa-core|Octa-core|Nona-core|8-core|)')"
   ]
  },
  {
   "cell_type": "code",
   "execution_count": 42,
   "metadata": {},
   "outputs": [
    {
     "data": {
      "text/plain": [
       "0"
      ]
     },
     "execution_count": 42,
     "metadata": {},
     "output_type": "execute_result"
    }
   ],
   "source": [
    "dfc['cpu_core'].isnull().sum()"
   ]
  },
  {
   "cell_type": "code",
   "execution_count": 43,
   "metadata": {},
   "outputs": [
    {
     "data": {
      "text/plain": [
       "Series([], Name: cpu, dtype: object)"
      ]
     },
     "execution_count": 43,
     "metadata": {},
     "output_type": "execute_result"
    }
   ],
   "source": [
    "dfc[dfc['cpu_core'].isnull()]['cpu']"
   ]
  },
  {
   "cell_type": "markdown",
   "metadata": {},
   "source": [
    "<a id=\"39\"></a>\n",
    "### <div style=\"text-align:left; border-radius:15px; padding:20px; color:Black; margin:0; font-size:100%; font-family:Arial; background-color:#48cae4; overflow:hidden\"><b>⚡9.  **Simplify GPU Information**: Extract only the first word from the 'GPU' column, categorize it, and delete the original 'GPU' column.</b>\n",
    "<a href=\"#table-of-contents\" style=\"font-family: Arial, sans-serif; font-size: 15px; background-color: #7b2cbf; color: #ffffff; padding: 7px 15px; text-decoration: none; border-radius: 15px;\">\n",
    "        [Table of Content 📜⬆️]\n",
    "</a>\n",
    "</div>\n"
   ]
  },
  {
   "cell_type": "code",
   "execution_count": 44,
   "metadata": {},
   "outputs": [
    {
     "data": {
      "text/plain": [
       "0       Apple GPU (6-core graphics)\n",
       "1       Apple GPU (6-core graphics)\n",
       "2       Apple GPU (6-core graphics)\n",
       "3       Apple GPU (6-core graphics)\n",
       "4       Apple GPU (5-core graphics)\n",
       "                   ...             \n",
       "1710                     Adreno 710\n",
       "1711                     Adreno 710\n",
       "1712                  Mali-G610 MC4\n",
       "1713                   Mali-G52 MC2\n",
       "1714                   Mali-G52 MC2\n",
       "Name: gpu, Length: 1715, dtype: object"
      ]
     },
     "execution_count": 44,
     "metadata": {},
     "output_type": "execute_result"
    }
   ],
   "source": [
    "dfc['gpu']"
   ]
  },
  {
   "cell_type": "code",
   "execution_count": 45,
   "metadata": {},
   "outputs": [],
   "source": [
    "dfc['gpu_company'] = dfc['gpu'].str.extract(r'(Apple|Adreno|Mali|PowerVR|Immortalis|)')"
   ]
  },
  {
   "cell_type": "code",
   "execution_count": 46,
   "metadata": {},
   "outputs": [
    {
     "data": {
      "text/plain": [
       "0"
      ]
     },
     "execution_count": 46,
     "metadata": {},
     "output_type": "execute_result"
    }
   ],
   "source": [
    "dfc['gpu_company'].isnull().sum()"
   ]
  },
  {
   "cell_type": "code",
   "execution_count": 47,
   "metadata": {},
   "outputs": [
    {
     "data": {
      "text/plain": [
       "Series([], Name: gpu, dtype: object)"
      ]
     },
     "execution_count": 47,
     "metadata": {},
     "output_type": "execute_result"
    }
   ],
   "source": [
    "dfc[dfc['gpu_company'].isnull()]['gpu']"
   ]
  },
  {
   "cell_type": "markdown",
   "metadata": {},
   "source": [
    "<a id=\"310\"></a>\n",
    "### <div style=\"text-align:left; border-radius:15px; padding:20px; color:Black; margin:0; font-size:100%; font-family:Arial; background-color:#48cae4; overflow:hidden\"><b>⚡ 10.  **Format Year as DateTime**: Convert the 'year' column to a datetime format. </b>\n",
    "<a href=\"#table-of-contents\" style=\"font-family: Arial, sans-serif; font-size: 15px; background-color: #7b2cbf; color: #ffffff; padding: 7px 15px; text-decoration: none; border-radius: 15px;\">\n",
    "        [Table of Content 📜⬆️]\n",
    "</a>\n",
    "</div>\n"
   ]
  },
  {
   "cell_type": "code",
   "execution_count": 48,
   "metadata": {},
   "outputs": [
    {
     "name": "stdout",
     "output_type": "stream",
     "text": [
      "int64\n"
     ]
    }
   ],
   "source": [
    "print(dfc['year'].dtype)"
   ]
  },
  {
   "cell_type": "code",
   "execution_count": 49,
   "metadata": {},
   "outputs": [],
   "source": [
    "dfc['year'] = pd.to_datetime(dfc['year'], format='%Y')"
   ]
  },
  {
   "cell_type": "code",
   "execution_count": 50,
   "metadata": {},
   "outputs": [
    {
     "name": "stdout",
     "output_type": "stream",
     "text": [
      "datetime64[ns]\n"
     ]
    }
   ],
   "source": [
    "print(dfc['year'].dtype)"
   ]
  },
  {
   "cell_type": "markdown",
   "metadata": {},
   "source": [
    "<a id=\"311\"></a>\n",
    "### <div style=\"text-align:left; border-radius:15px; padding:20px; color:Black; margin:0; font-size:100%; font-family:Arial; background-color:#48cae4; overflow:hidden\"><b>⚡ 11.  **Extract Fingerprint Sensor Location**: From the 'features_sensors' column, identify whether 'fingerprint' is mentioned, including its location (e.g., side, under), and rename the column to 'fingerprint_location'.\n",
    "<a href=\"#table-of-contents\" style=\"font-family: Arial, sans-serif; font-size: 15px; background-color: #7b2cbf; color: #ffffff; padding: 7px 15px; text-decoration: none; border-radius: 15px;\">\n",
    "        [Table of Content 📜⬆️]\n",
    "</a>\n",
    "</div>\n"
   ]
  },
  {
   "cell_type": "code",
   "execution_count": 51,
   "metadata": {},
   "outputs": [
    {
     "data": {
      "text/plain": [
       "array(['Face ID, accelerometer, gyro, proximity, compass, barometer',\n",
       "       'Fingerprint (under display, optical), accelerometer, gyro, proximity, compass',\n",
       "       'Fingerprint (side-mounted), accelerometer, gyro, proximity, compass, barometer',\n",
       "       'Fingerprint (under display, ultrasonic), accelerometer, gyro, proximity, compass, barometer',\n",
       "       'Fingerprint (under display, ultrasonic), accelerometer, gyro, proximity, compass, barometer, thermometer (skin temperature)',\n",
       "       'Fingerprint (under display, optical), accelerometer, gyro, proximity, compass, barometer',\n",
       "       'Fingerprint (under display, optical), Face ID, accelerometer, gyro, proximity, compass, color spectrum',\n",
       "       'Fingerprint (under display, optical), accelerometer, gyro, compass, ultrasound proximity',\n",
       "       'Fingerprint (side-mounted), accelerometer, compass',\n",
       "       'Fingerprint (under display, optical), accelerometer, proximity, gyro, compass, color spectrum',\n",
       "       'Fingerprint (side-mounted), accelerometer, gyro, proximity, compass',\n",
       "       'Fingerprint (side-mounted), gyro, accelerometer, proximity, compass, barometer',\n",
       "       'Fingerprint (side-mounted), accelerometer, proximity',\n",
       "       'Fingerprint (under display, optical), accelerometer, proximity, compass',\n",
       "       'Fingerprint (under display, optical), accelerometer, gyro, proximity, compass, color spectrum',\n",
       "       'Fingerprint (side-mounted), accelerometer, proximity, compass',\n",
       "       'Fingerprint (under display, optical), accelerometer, gyro, compass',\n",
       "       'Fingerprint (side-mounted), accelerometer, gyro, compass',\n",
       "       'Fingerprint (side-mounted), accelerometer, gyro, proximity, barometer, compass, color spectrum',\n",
       "       'Fingerprint (under display, optical), accelerometer, proximity, gyro, compass',\n",
       "       'Fingerprint (under display, optical), accelerometer, proximity, gyro, compass, color spectrum, barometer',\n",
       "       'Fingerprint (front-mounted), accelerometer, proximity, gyro, compass, barometer',\n",
       "       'Fingerprint (under display, optical), accelerometer, gyro, proximity, compass, barometer (market dependant)',\n",
       "       'Fingerprint (rear-mounted), accelerometer, proximity, compass',\n",
       "       'Accelerometer, proximity, compass',\n",
       "       'Fingerprint (side-mounted), accelerometer',\n",
       "       'Fingerprint (rear-mounted), accelerometer, proximity',\n",
       "       'Fingerprint (rear-mounted), accelerometer, gyro, proximity, compass',\n",
       "       'Fingerprint (under display, optical), accelerometer, gyro, compass, barometer',\n",
       "       'Accelerometer, proximity',\n",
       "       'Fingerprint (under display, optical), accelerometer, gyro, proximity, compass, barometer, color spectrum',\n",
       "       'Fingerprint (side-mounted), accelerometer, gyro, proximity',\n",
       "       'Fingerprint (side-mounted), accelerometer, gyro, compass, barometer',\n",
       "       'Accelerometer',\n",
       "       'Fingerprint (under display, optical), accelerometer, gyro, compass, barometer, color spectrum',\n",
       "       'Fingerprint (under display, optical), accelerometer, gyro, compass, color spectrum',\n",
       "       'Fingerprint (side-mounted), accelerometer, gyro, compass, color spectrum',\n",
       "       'Fingerprint (rear-mounted), accelerometer, gyro, proximity',\n",
       "       'Fingerprint (rear-mounted), accelerometer, gyro, proximity, compass, barometer',\n",
       "       'Accelerometer, compass',\n",
       "       'Fingerprint (under display, optical), accelerometer, gyro, proximity, color spectrum, compass',\n",
       "       'Iris scanner, fingerprint (rear-mounted), accelerometer, gyro, proximity, compass, barometer, heart rate, SpO2',\n",
       "       'Fingerprint (under display, ultrasonic), accelerometer, gyro, proximity, compass, barometer, heart rate, SpO2',\n",
       "       'Face ID, fingerprint (under display, optical), accelerometer, gyro, proximity, barometer, compass, color spectrum',\n",
       "       'Fingerprint (under display, optical), accelerometer, proximity',\n",
       "       'Fingerprint (under display, optical), accelerometer, gyro, proximity, compass, color spectrum, barometer',\n",
       "       'Fingerprint (side-mounted), accelerometer, dual gyro, dual proximity, compass, color spectrum',\n",
       "       'Fingerprint (under display, optical), accelerometer, gyro, compass, barometer (market/region dependent)',\n",
       "       'Fingerprint (side-mounted), accelerometer, gyro, compass, barometer (USA only)',\n",
       "       'Fingerprint (rear-mounted), accelerometer',\n",
       "       'Fingerprint (side-mounted), accelerometer, proximity, gyro, compass',\n",
       "       'Fingerprint (side-mounted), accelerometer, proximity, gyro, compass, color spectrum',\n",
       "       'Fingerprint (side-mounted), accelerometer, gyro, proximity, barometer',\n",
       "       'Fingerprint (under display, ultrasonic), Face ID, accelerometer, gyro, proximity, compass, color spectrum',\n",
       "       'Fingerprint (side-mounted), accelerometer, gyro',\n",
       "       'Fingerprint (under display, optical), accelerometer, proximity, gyro, compass, barometer, color spectrum',\n",
       "       'Fingerprint (under display, optical), accelerometer, gyro, proximity, compass, barometer, thermometer (skin temperature)',\n",
       "       'Fingerprint (side-mounted), accelerometer, gyro, proximity, compass, color spectrum',\n",
       "       'Fingerprint (side-mounted), accelerometer, gyro, proximity, compass, barometer, altimeter, color spectrum',\n",
       "       'Fingerprint (under display, optical), accelerometer, gyro, proximity, compass, barometer (North America only)',\n",
       "       'Fingerprint (side-mounted), accelerometer, gyro, proximity, compass, barometer (USA only)',\n",
       "       'Fingerprint (under display, optical), accelerometer, gyro, compass, barometer (USA only)',\n",
       "       'Fingerprint (side-mounted), accelerometer, gyro, compass, proximity (accessories only)'],\n",
       "      dtype=object)"
      ]
     },
     "execution_count": 51,
     "metadata": {},
     "output_type": "execute_result"
    }
   ],
   "source": [
    "dfc['features_sensors'].unique()"
   ]
  },
  {
   "cell_type": "code",
   "execution_count": 52,
   "metadata": {},
   "outputs": [],
   "source": [
    "dfc['fingerprint'] = dfc['features_sensors'].str.extract(r'(side|front|under|rear|Face|Accelerometer)')"
   ]
  },
  {
   "cell_type": "code",
   "execution_count": 53,
   "metadata": {},
   "outputs": [
    {
     "data": {
      "text/plain": [
       "0"
      ]
     },
     "execution_count": 53,
     "metadata": {},
     "output_type": "execute_result"
    }
   ],
   "source": [
    "dfc['fingerprint'].isnull().sum()"
   ]
  },
  {
   "cell_type": "code",
   "execution_count": 54,
   "metadata": {},
   "outputs": [
    {
     "data": {
      "text/plain": [
       "Series([], Name: features_sensors, dtype: object)"
      ]
     },
     "execution_count": 54,
     "metadata": {},
     "output_type": "execute_result"
    }
   ],
   "source": [
    "dfc[dfc['fingerprint'].isnull()]['features_sensors']"
   ]
  },
  {
   "cell_type": "markdown",
   "metadata": {},
   "source": [
    "<a id=\"312\"></a>\n",
    "### <div style=\"text-align:left; border-radius:15px; padding:20px; color:Black; margin:0; font-size:100%; font-family:Arial; background-color:#48cae4; overflow:hidden\"><b>⚡ 12 **Classify Video Quality**: Extract the video quality from the 'video' column (e.g., 8K, 4K, 1080p) after the '@' symbol and rename the column to 'video_quality'.</b> </b>\n",
    "<a href=\"#table-of-contents\" style=\"font-family: Arial, sans-serif; font-size: 15px; background-color: #7b2cbf; color: #ffffff; padding: 7px 15px; text-decoration: none; border-radius: 15px;\">\n",
    "        [Table of Content 📜⬆️]\n",
    "</a>\n",
    "</div>\n"
   ]
  },
  {
   "cell_type": "code",
   "execution_count": 55,
   "metadata": {},
   "outputs": [
    {
     "data": {
      "text/plain": [
       "array(['4K@24/25/30/60/100/120fps, 1080p@25/30/60/120/240fps, 10-bit HDR, Dolby Vision HDR (up to 60fps), ProRes, 3D (spatial) video/audio, stereo sound rec.',\n",
       "       '4K@24/25/30/60fps, 1080p@25/30/60/120/240fps, HDR, Dolby Vision HDR (up to 60fps), stereo sound rec.',\n",
       "       '8K@24fps, 4K@30/60fps, 1080p@30/60/120/240fps, 720p@480fps; gyro-EIS, HDR10+',\n",
       "       '4K@24/30/60fps, 1080p@24/30/60/120/240fps, 10-bit HDR, gyro-EIS, OIS',\n",
       "       '4K@24/30/60fps, 1080p@24/30/60/120/240fps; gyro-EIS, OIS, 10-bit HDR',\n",
       "       '8K@30fps, 4K@24/30/60fps, 1080p@24/30/60/120/240fps; gyro-EIS, OIS, 10-bit HDR',\n",
       "       '4K@30/60fps, 1080p@30/60/120/240fps, OIS',\n",
       "       '4K@24/30/60fps, 1080p@30/60/120/240fps, gyro-EIS, OIS, HDR, 10-bit video',\n",
       "       '4K@30fps, 1080p@30/60fps, gyro-EIS, OIS',\n",
       "       '4K@30/60fps (10-bit), 1080p@30/60fps, gyro-EIS, OIS',\n",
       "       '1080p@30fps', '4K, 1080p, HDR, gyro-EIS, OIS',\n",
       "       '4K@30fps, 1080p@30fps', '1080p@30/60fps',\n",
       "       '4K@30fps, 1080p@30/60/120/240fps, gyro-EIS',\n",
       "       '4K@30/60fps, 1080p@30/60/120/240/960fps, HDR10+, gyro-EIS',\n",
       "       '4K@30fps, 1080p@30/60fps, gyro-EIS',\n",
       "       '4K@30/60fps, 1080p@30/60/120/240/960fps, 10-bit HDR10+, gyro-EIS',\n",
       "       '4K@30fps, 1080p@30/60/120fps, gyro-EIS',\n",
       "       '4K@30fps, 1080p@30/60/120fps, 10-bit HDR10+, gyro-EIS',\n",
       "       '4K@30fps, 1080p@60/120fps, gyro-EIS',\n",
       "       '4K@30/60fps, 1080p@30/60/120fps, gyro-EIS',\n",
       "       '4K@30/60fps, 1080p@30/60/120/240fps, gyro-EIS, OIS',\n",
       "       '4K@30fps, 1080p@30/60/120/480fps, 720p@960fps, gyro-EIS, OIS, HDR',\n",
       "       '4K@30/60fps, 1080p@30/60/120fps, gyro-EIS, OIS',\n",
       "       '8K@24/30fps, 4K@30/60/120fps, 1080p@30/60/240fps, HDR10+, stereo sound rec., gyro-EIS',\n",
       "       '8K@24/30fps, 4K@30/60fps, 1080p@30/60/240fps, HDR10+, stereo sound rec., gyro-EIS',\n",
       "       '4K@30fps, 1080p@30/60fps, 720p@480fps, gyro-EIS',\n",
       "       '4K@30/60fps, 1080p@60/120/240fps, 720p@960fps, HDR10+',\n",
       "       '1080p@30fps, gyro-EIS',\n",
       "       '8K@30fps, 4K@60fps, 1080p@60/120/240fps (gyro-EIS), 720p@960fps (gyro-EIS), HDR10+',\n",
       "       '8K@30fps, 4K@30/60/120fps, 1080p@30/60/120/240fps, 720p@960fps',\n",
       "       '4K@24/25/30/60/120fps HDR, 1080p@30/60/120fps; 5-axis gyro-EIS, OIS',\n",
       "       '1440p@30fps, 1080p@30/60fps',\n",
       "       '4K@30fps, 1080p@30fps, gyro-EIS, OIS',\n",
       "       '4K@30fps, 1080p@30fps, gyro-EIS',\n",
       "       '8K@24fps, 4K@24/30/60fps, 1080p@30/60/120/240/960fps, 720p@1920fps, gyro-EIS',\n",
       "       '4K@30/60fps, 1080p@30/60/120/240fps, gyro-EIS',\n",
       "       '8K@24/30fps, 4K@24/30/60/120fps, 1080p@30/60/120/240/480/960/1920fps, gyro-EIS, Dolby Vision HDR 10-bit rec. (4K@60fps, 1080p)',\n",
       "       '4K@24/30/60fps, 1080p@30/60/120/240/960fps, gyro-EIS, 10-bit Rec. 2020, HDR10+',\n",
       "       '8K@24/30fps, 4K@24/30/60fps, 1080p@30/60/120/240/960fps, gyro-EIS, 10-bit Rec. 2020, HDR10+',\n",
       "       '4K@24/30fps, 1080p@30/60fps, gyro-EIS',\n",
       "       '1080p@30/60fps, gyro-EIS', '4K, 1080p',\n",
       "       '8K@30fps, 4K@30/60fps, 1080p@30/60/120/240fps',\n",
       "       '4K@30fps, 1080p@30/60/120fps',\n",
       "       '4K@30fps, 1080p@30/60/120/480fps, 720p@960fps, gyro-EIS',\n",
       "       '8K@24fps, 4K@24/30/60fps, 1080p@30/60/120/240/960fps, 720p@1920fps, Dolby Vision HDR',\n",
       "       '4K@24/30/60fps, 1080p@30/60/120/240fps, HDR, Dolby Vision HDR (up to 30fps), stereo sound rec.',\n",
       "       '4K@24/30/60fps, 1080p@30/60/120/240fps, 10â\\x80\\x91bit HDR, Dolby Vision HDR (up to 60fps), stereo sound rec.',\n",
       "       '4K@24/30/60fps, 1080p@30/60/120/240fps, HDR, OIS, stereo sound rec.',\n",
       "       '4K@30/60fps, 1080p@30/60/240fps, Auto HDR, gyro-EIS',\n",
       "       '4K@30fps, 1080p@30/60/240fps, gyro-EIS',\n",
       "       '4K@30/60fps, 1080p@30/60fps, gyro-EIS',\n",
       "       '4K@30fps, 1080p@30fps, 720p@480fps',\n",
       "       '4K@30fps, 1080p@30/240fps, 1080p@960fps; gyro-EIS',\n",
       "       '8K@24fps, 4K@30/60fps, 1080p@30/60/240fps, 720p@960fps, HDR10+, stereo sound rec., gyro-EIS & OIS',\n",
       "       '4K@30fps, 1080p@30/120fps; gyro-EIS',\n",
       "       '4K@30fps, 1080p@30/120fps, 720p@960fps; gyro-EIS',\n",
       "       '4K@30fps, 1080p@30/60/120fps, 720p@960fps',\n",
       "       '4K@30fps, 1080p@30/60/120fps, 720p@960fps, gyro-EIS',\n",
       "       '8K@30fps, 4K@30/60fps, 1080p@30/60fps; gyro-EIS',\n",
       "       '8K@24/30fps, 4K@30/60fps, 1080p@30/60/120/240fps, 1080p@960fps; gyro-EIS',\n",
       "       '8K@30fps, 4K@30/60fps, 1080p@30/60/120fps; gyro-EIS',\n",
       "       '8K@30fps, 4K@30/60fps, 1080p@30/60/120/240/960fps; gyro-EIS',\n",
       "       '4K@24/30/60fps, 1080p@30/60/120/240fps, HDR, Dolby Vision HDR (up to 60fps), stereo sound rec.',\n",
       "       '4K@24/30/60fps, 1080p@30/60/120/240fps, 10-bit HDR, Dolby Vision HDR (up to 60fps), ProRes, stereo sound rec.',\n",
       "       '4K@24/30/60fps, 1080p@30/60/120/240fps, 10â\\x80\\x91bit HDR, Dolby Vision HDR (up to 60fps), ProRes, stereo sound rec.',\n",
       "       '8K@24fps, 4K@30/60/120fps, 1080p@30/60/240fps, 720p@480fps; gyro-EIS, HDR',\n",
       "       '4K@30/60fps, 1080p@30/60/120/240fps; gyro-EIS, OIS',\n",
       "       '4K, 1080p, 720p@960fps, gyro-EIS',\n",
       "       '4K@30/60fps, 1080p@30/60fps, 1080p@960fps; gyro-EIS',\n",
       "       '4K@30fps, 1080p@30/60/120/240fps, 720p@960fps, gyro-EIS',\n",
       "       '1080p@30/60/240fps',\n",
       "       '8K@30fps, 4K@30/60fps, 1080p@30/60/240fps, Auto HDR, gyro-EIS',\n",
       "       '8K@30fps, 4K@30/60/120fps, 1080p@30/60/240fps, Auto HDR, gyro-EIS',\n",
       "       '4K@30fps, 1080p@30/60fps',\n",
       "       '4K@30/60fps, 1080p@30/60/240fps; gyro-EIS; HDR, 10â\\x80\\x91bit video',\n",
       "       '4K@30/60fps, 1080p@30/60fps; gyro-EIS, HDR',\n",
       "       '4K@30fps, 1080p@30/60/120fps; gyro-EIS, HDR',\n",
       "       '4K@30/60fps, 1080p@30/60/240fps, gyro-EIS',\n",
       "       '4K@60fps, 1080p@60/240fps (gyro-EIS), 720p@960fps (gyro-EIS), HDR10+',\n",
       "       '4K@30fps, 1080p@30/60fps; gyro-EIS', '4K@30fps, 1080p@30/120fps',\n",
       "       '8K@24fps, 4K@30/60fps, 1080p@30/60/240fps, 720p@960fps, HDR10+, stereo sound rec., gyro-EIS',\n",
       "       '4K@30/60fps, 1080p@60/240fps, 720p@960fps, HDR10+', '1152p@30fps',\n",
       "       '4K@30fps (no OIS), 1080p@30/60fps',\n",
       "       '8K@24fps (HDR), 4K@30/60fps (HDR10+), 1080p@30/120/240/960fps, 720p@1920fps, gyro-EIS',\n",
       "       '4K@30fps, 1080p@30/60/120fps, 720p@960fps (market dependent)',\n",
       "       '8K@24fps, 4K@30/60fps, 1080p@30/120/240/960fps, gyro-EIS',\n",
       "       '4K@30fps, 1080p@30/60/120/240/960fps, gyro-EIS',\n",
       "       '4K@30fps, 1080p@30/60/120fps; gyro-EIS',\n",
       "       '4K@30fps, 1080p@30/60/120/240fps, 1080p@960fps, gyro-EIS',\n",
       "       '8K@24/30fps, 4K@30/60fps, 1080p@30/60/120/240fps; gyro-EIS, HDR10+',\n",
       "       '8K@30fps, 4K@30/60fps, 1080p@30/60/120/240/960, HDR10+, gyro-EIS',\n",
       "       '4K@30fps, 1080p@30/60/120fps, 720p@960fps; gyro-EIS',\n",
       "       '4K@30fps, 1080p@30/60/120, gyro-EIS',\n",
       "       '8K@24fps, 4K@30/60fps, 1080p@30/60/240/960fps, gyro-EIS',\n",
       "       '8K@30fps, 4K@30/60/120fps, 1080p@30/60/120/240fps, 720p@480fps; gyro-EIS',\n",
       "       '4K@30/60fps, 1080p@30fps, gyro-EIS',\n",
       "       '8K@24fps, 4K@30/60fps, 1080p@30/60fps, gyro-EIS, HDR10+ rec.',\n",
       "       '4K@24/30/60fps, 1080p@30/60/120/240fps, HDR, stereo sound rec.',\n",
       "       '4K@30/60fps, 1080p@30/60/240fps, 720p@960fps, HDR, stereo sound rec., gyro-EIS & OIS (30fps)',\n",
       "       '4K@24/30/60fps, 1080p@30/60/120/240fps',\n",
       "       '4K@30fps, 1080p@30/60/120fps, 1080p@30fps (gyro-EIS)',\n",
       "       '4K@30fps, 1080p@60fps, 1080p@30fps (gyro-EIS), 720p@960fps',\n",
       "       '4K@30/60fps, 1080p@30/60/240fps, 720p@960fps, Auto HDR, gyro-EIS',\n",
       "       '4K@30/60fps, 1080p@30/60/240fps, 720p@960fps, HDR10+, stereo sound rec., gyro-EIS & OIS',\n",
       "       '4K@60fps (no EIS), 4K@30fps, 1080p@30/60/240fps, 720p@960fps, HDR10+, stereo sound rec., gyro-EIS & OIS',\n",
       "       '4K@24/25/30/60fps, 1080p@25/30/60/120/240fps, 10-bit HDR, Dolby Vision HDR (up to 60fps), ProRes, stereo sound rec.',\n",
       "       '8K@24fps, 4K@30/60/120fps, 1080p@30/60/240fps; gyro-EIS, HDR',\n",
       "       '4K@30/60fps, 1080p@30/60/120/240fps; gyro-EIS, OIS, 10-bit HDR',\n",
       "       '4K@30/60fps, 1080p@30/60/120/240/480fps, 720p@960fps, 720p@3840fps, HDR, gyro-EIS',\n",
       "       '4K@30fps, 1080p@30/60/120fps, 720p@960fps, HDR10, gyro-EIS',\n",
       "       '8K@24/30fps, 4K@30/60fps, 1080p@30/60/120/240/960fps, 10-bit HDR10+, gyro-EIS',\n",
       "       '8K@30fps, 4K@30/60fps, 1080p@30/60/120/320/960fps, gyro-EIS, HDR10+',\n",
       "       '8K@30fps, 4K@30fps, 1080p@30/60/120fps, 720p@960fps, gyro-EIS',\n",
       "       '1080p@30/60/120fps',\n",
       "       '4K@30fps, 1080p@30/60fps, gyro-EIS, live HDR',\n",
       "       '4K@30fps, 1080p@30/60/120/480fps, gyro-EIS',\n",
       "       '8K@24fps, 4K@30/60/120fps, 1080p@30/60/240fps, Auto HDR, gyro-EIS',\n",
       "       '4K@30fps, 1080p@30/60/240fps',\n",
       "       '8K@24fps, 4K@30/60fps, 1080p@30/60/240fps, gyro-EIS',\n",
       "       '4K@30/60fps, 1080p@30/60/240fps, 720p@960fps, HDR10+, gyro-EIS',\n",
       "       '8K@24fps, 4K@60fps, 1080p@60/240fps (gyro-EIS), 720p@960fps (gyro-EIS), HDR10+',\n",
       "       '8K@24fps, 4K@30/60fps, 1080p@30/60/120/240fps, HDR10+',\n",
       "       '4K@30fps, 1080p@30/60/120/240fps, HDR',\n",
       "       '8K@24fps (HDR), 4K@24/30/60fps (HDR10+, 10-bit Dolby Vision HDR, 10-bit LOG), 1080p@30/120/240/960fps, 1080p@1920fps, gyro-EIS',\n",
       "       '4K@30/60fps, 1080p@30/60/120fps, 720p@960fps, HDR',\n",
       "       '8K@24fps, 4K@30/60/120fps, 1080p@30/60/120/240fps, 720p@480fps; gyro-EIS',\n",
       "       '1080p@30/60fps; gyro-EIS',\n",
       "       '4K@30/60fps, 1080p@30/60fps, gyro-EIS, HDR10, 10-bit video',\n",
       "       '4K@30/60fps, 1080p@30/60fps',\n",
       "       '8K@30fps, 4K@30/60/120fps, 1080p@30/60fps, gyro-EIS, HDR10, 10â\\x80\\x91bit video',\n",
       "       '1440p@30fps',\n",
       "       '4K@24/25/30/60fps, 1080p@25/30/60/120/240fps, 10-bit HDR, Dolby Vision HDR (up to 60fps), ProRes, 3D (spatial) video, stereo sound rec.',\n",
       "       '8K@24fps, 4K@30/60fps, 1080p@30/60fps; gyro-EIS, HDR',\n",
       "       '1440p@30fps, 1080p@30fps',\n",
       "       '4K@24/30/60fps, 1080p@30/60/120/240fps; gyro-EIS, OIS, 10-bit HDR',\n",
       "       '4K@30/60fps, 1080p@24/30/60/120/240fps; gyro-EIS, OIS, 10-bit HDR',\n",
       "       '4K@30/60fps, 1080p@30/60/120/240fps, 10-bit HDR',\n",
       "       '4K@30/60fps (10-bit), 1080p@30/60fps, gyro-EIS, HDR10+, OIS',\n",
       "       '8K@30fps, 4K@30/60fps, 4K@30fps HDR10, 1080p@30/60/120/240/960fps, gyro-EIS',\n",
       "       '4K@30/60fps, 1080p@30/60/120fps, HDR10+, gyro-EIS',\n",
       "       '8K@30fps, 4K@30/60fps, 1080p@30/60/120/240/960fps, 10-bit HDR10+, gyro-EIS',\n",
       "       '4K@30/60fps, 1080p@30/60fps, gyro-EIS, live HDR, OIS',\n",
       "       '8K@24fps, 4K@30/60fps, 1080p@30/60/240/480fps, Auto HDR, gyro-EIS, Dolby Vision',\n",
       "       '8K@24fps, 4K@30/60fps, 1080p@30/60/240fps, Auto HDR, gyro-EIS',\n",
       "       '8K@24/30fps, 4K@30/60fps, 1080p@30/60/240fps, 1080p@960fps, HDR10+, stereo sound rec., gyro-EIS',\n",
       "       '4K@30fps, 1080p@30/60fps, 720p@480fps',\n",
       "       '8K@30fps, 4K@60fps, 1080p@60/240fps (gyro-EIS), 720p@960fps (gyro-EIS), HDR10+',\n",
       "       '8K@24fps, 4K@30/60fps, 1080p@30/60/120/240fps, 720p@960fps',\n",
       "       '8K@24fps (HDR), 4K@24/30/60fps (HDR10+, 10-bit Dolby Vision HDR, 10-bit LOG), 1080p@30/60/120/240/960fps, 720p@1920fps, gyro-EIS',\n",
       "       '8K@24fps, 4K@30/60fps, 1080p@30/60/120/240fps, gyro-EIS',\n",
       "       '8K@24fps, 4K@24/30/60fps, 4K/1080p@30fps HDR10+, 1080p@30/60/120/240fps; 10-bit LOG, gyro-EIS',\n",
       "       '4K@24/30fps, 1080p@30/60/120fps, gyro-EIS',\n",
       "       '8K@30fps, 4K@30/60/120fps, 1080p, gyro-EIS, 10-bit',\n",
       "       '4K@30fps, 1080p@30/60/240fps; gyro-EIS',\n",
       "       '8K@30fps, 4K@30/60fps, 1080p, gyro-EIS',\n",
       "       '8K@24fps, 4K@24/30/60fps, 1080p@30/60/120/240/480/960/1920fps, gyro-EIS, Dolby Vision HDR 10-bit rec. (4K@60fps, 1080p)',\n",
       "       '4K@30fps (HDR10+), 1080p@30/60/120fps, gyro-EIS',\n",
       "       '8K@30fps, 4K@24/30/60fps, 1080p@30/60/120/240fps, gyro-EIS',\n",
       "       '4K, 1080p, gyro-EIS'], dtype=object)"
      ]
     },
     "execution_count": 55,
     "metadata": {},
     "output_type": "execute_result"
    }
   ],
   "source": [
    "dfc['video'].unique()"
   ]
  },
  {
   "cell_type": "code",
   "execution_count": 56,
   "metadata": {},
   "outputs": [],
   "source": [
    "dfc['video_resolution'] = dfc['video'].str.extract(r'(\\b(?:4K|8K|1080p)\\b)')\n"
   ]
  },
  {
   "cell_type": "code",
   "execution_count": 57,
   "metadata": {},
   "outputs": [
    {
     "data": {
      "text/plain": [
       "5"
      ]
     },
     "execution_count": 57,
     "metadata": {},
     "output_type": "execute_result"
    }
   ],
   "source": [
    "dfc['video_resolution'].isnull().sum()"
   ]
  },
  {
   "cell_type": "markdown",
   "metadata": {},
   "source": [
    "<a id=\"conclusion\"></a>\n",
    "<div style=\"background-color: #48cae4; border-radius: 15px; padding: 20px; text-align: left;\">\n",
    "    <h1 style=\"margin: 0;\">\n",
    "        <b>\n",
    "            <span style=\"color: Black;\">Last but not least, the final chapter</span>\n",
    "            <br><span style=\"color: #ffffff;\">|</span>\n",
    "            <span style=\"color: #FEEC37;\"> Draw an Conclusion 📝\n",
    "            </span>\n",
    "        </b>\n",
    "    </h1>\n",
    "<br>\n",
    "    <a href=\"#table-of-contents\" style=\"font-family: Arial, sans-serif; font-size: 20px; background-color: #7b2cbf; color: #ffffff; padding: 7px 15px; text-decoration: none; border-radius: 15px;\">\n",
    "        [Table of Content 📜⬆️]\n",
    "    </a>\n",
    "</div>\n"
   ]
  },
  {
   "cell_type": "code",
   "execution_count": 58,
   "metadata": {},
   "outputs": [],
   "source": [
    "dfc.dropna(inplace=True)"
   ]
  },
  {
   "cell_type": "code",
   "execution_count": 59,
   "metadata": {},
   "outputs": [
    {
     "data": {
      "text/plain": [
       "(1715, 31)"
      ]
     },
     "execution_count": 59,
     "metadata": {},
     "output_type": "execute_result"
    }
   ],
   "source": [
    "df.shape"
   ]
  },
  {
   "cell_type": "code",
   "execution_count": 60,
   "metadata": {},
   "outputs": [
    {
     "data": {
      "text/plain": [
       "<Axes: >"
      ]
     },
     "execution_count": 60,
     "metadata": {},
     "output_type": "execute_result"
    },
    {
     "data": {
      "image/png": "[encoded data removed]",
      "text/plain": [
       "<Figure size 2500x1000 with 2 Axes>"
      ]
     },
     "metadata": {},
     "output_type": "display_data"
    }
   ],
   "source": [
    "msno.matrix(dfc)"
   ]
  },
  {
   "cell_type": "code",
   "execution_count": 61,
   "metadata": {},
   "outputs": [
    {
     "data": {
      "text/plain": [
       "Index(['phone_brand', 'phone_model', 'store', 'price', 'currency', 'price_USD',\n",
       "       'storage', 'ram', 'Launch', 'Dimensions', 'Weight', 'Display_Type',\n",
       "       'Display_Size', 'Display_Resolution', 'OS', 'NFC', 'USB', 'BATTERY',\n",
       "       'Features_Sensors', 'Colors', 'Video', 'Chipset', 'CPU', 'GPU', 'Year',\n",
       "       'Foldable', 'PPI_Density', 'quantile_10', 'quantile_50', 'quantile_90',\n",
       "       'price_range'],\n",
       "      dtype='object')"
      ]
     },
     "execution_count": 61,
     "metadata": {},
     "output_type": "execute_result"
    }
   ],
   "source": [
    "df.columns"
   ]
  },
  {
   "cell_type": "markdown",
   "metadata": {},
   "source": [
    "<div style=\"font-family: Arial, sans-serif; font-size: 20px; text-align: center; background-color: #7b2cbf; color: #ffffff; padding: 7px 15px; text-decoration: none; border-radius: 15px;\"> ⭐ Analysis is never ending we can more refine this dataset to get more in-depth insights from this data. ⭐\n",
    "</div>"
   ]
  }
 ],
 "metadata": {
  "kernelspec": {
   "display_name": "Python 3",
   "language": "python",
   "name": "python3"
  },
  "language_info": {
   "codemirror_mode": {
    "name": "ipython",
    "version": 3
   },
   "file_extension": ".py",
   "mimetype": "text/x-python",
   "name": "python",
   "nbconvert_exporter": "python",
   "pygments_lexer": "ipython3",
   "version": "3.12.3"
  }
 },
 "nbformat": 4,
 "nbformat_minor": 2
}
