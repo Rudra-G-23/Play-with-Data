{
  "cells": [
    {
      "cell_type": "markdown",
      "metadata": {
        "id": "YUhc699QJPG8"
      },
      "source": [
        "Hello Data points 😄\n",
        "\n",
        "\n",
        "# My Class Notes\n",
        "\n",
        "**By Rudra**\n",
        "\n",
        "> Hi everyone, these are my class notes from one of my favorite teachers, Nitesh sir.\n",
        "\n",
        "\n",
        "\n",
        "Class- [Link](#https://www.youtube.com/live/6HAu0Y9BjA4?si=6HF0QfFb3cBxvPye)\n",
        "\n",
        "Supplementary video - [Link](#https://youtu.be/7ltjqU5iytY?si=sG0t_tDrx9IRTLIa)\n",
        "\n",
        "<!--\n",
        "**Topic**\n",
        "- [String Question](#Question)\n",
        "-->"
      ]
    },
    {
      "cell_type": "markdown",
      "metadata": {
        "id": "522o0JmNDqKk"
      },
      "source": [
        "Sequence sum..\n",
        "\n",
        "1/1! + 2/2! + 3/3! ... nth"
      ]
    },
    {
      "cell_type": "code",
      "execution_count": null,
      "metadata": {
        "colab": {
          "base_uri": "https://localhost:8080/"
        },
        "id": "flILGgJCCatd",
        "outputId": "c5516d55-480f-4263-b989-e369a04cd8dc"
      },
      "outputs": [
        {
          "name": "stdout",
          "output_type": "stream",
          "text": [
            "Enter the n :5\n",
            "Your sum is : 2.708333333333333\n"
          ]
        }
      ],
      "source": [
        "n = int(input('Enter the n :'))\n",
        "\n",
        "result = 0\n",
        "fact =1\n",
        "\n",
        "for i in range(1, n+1):\n",
        "  fact = fact * i\n",
        "  result = result + (i/fact)\n",
        "\n",
        "print('Your sum is :', result)\n",
        "\n"
      ]
    },
    {
      "cell_type": "markdown",
      "metadata": {
        "id": "9WAzy2-sHHIh"
      },
      "source": [
        "# Nested Lopps"
      ]
    },
    {
      "cell_type": "code",
      "execution_count": null,
      "metadata": {
        "colab": {
          "base_uri": "https://localhost:8080/"
        },
        "id": "OCG1ro2ZHK5o",
        "outputId": "48a924ce-7a98-4e89-cb62-1d1757be8bd3"
      },
      "outputs": [
        {
          "name": "stdout",
          "output_type": "stream",
          "text": [
            "1 1\n",
            "1 2\n",
            "1 3\n",
            "1 4\n",
            "2 1\n",
            "2 2\n",
            "2 3\n",
            "2 4\n",
            "3 1\n",
            "3 2\n",
            "3 3\n",
            "3 4\n",
            "4 1\n",
            "4 2\n",
            "4 3\n",
            "4 4\n"
          ]
        }
      ],
      "source": [
        "# Pairing\n",
        "\n",
        "for i in range(1, 5):\n",
        "  for j in range(1, 5):\n",
        "    print(i, j)\n"
      ]
    },
    {
      "cell_type": "code",
      "execution_count": null,
      "metadata": {
        "id": "8x4-W3AlHjm0"
      },
      "outputs": [],
      "source": []
    },
    {
      "cell_type": "markdown",
      "metadata": {
        "id": "sGS-xavHIQ9L"
      },
      "source": [
        "## Pattern 1\n",
        "\n",
        "https://pythontutor.com/visualize.html#mode=edit\n",
        "\n",
        "*`\n",
        "\n",
        "**`\n",
        "\n",
        "***`\n",
        "\n",
        "****`\n"
      ]
    },
    {
      "cell_type": "code",
      "execution_count": null,
      "metadata": {
        "colab": {
          "base_uri": "https://localhost:8080/"
        },
        "id": "ceCwEB9UIVqq",
        "outputId": "81969e83-8b72-40be-a22c-2cdf7a4bdc4b"
      },
      "outputs": [
        {
          "name": "stdout",
          "output_type": "stream",
          "text": [
            "Number of rows :5\n",
            "*\n",
            "**\n",
            "***\n",
            "****\n",
            "*****\n"
          ]
        }
      ],
      "source": [
        "rows = int(input('Number of rows :'))\n",
        "\n",
        "for i in range(1, rows+1):\n",
        "  for j in range(1, i+1):\n",
        "    print('*', end ='')\n",
        "  print()"
      ]
    },
    {
      "cell_type": "markdown",
      "metadata": {
        "id": "PkBZawEHIhDc"
      },
      "source": [
        "## pattern 2\n",
        "https://pythontutor.com/visualize.html#mode=edit\n",
        "\n",
        "1\n",
        "\n",
        "121\n",
        "\n",
        "12321\n",
        "\n",
        "1234321"
      ]
    },
    {
      "cell_type": "code",
      "execution_count": null,
      "metadata": {
        "colab": {
          "base_uri": "https://localhost:8080/"
        },
        "id": "_-rVIbv3MmMQ",
        "outputId": "c2267eb8-834c-4f85-9552-b8324734d8b3"
      },
      "outputs": [
        {
          "name": "stdout",
          "output_type": "stream",
          "text": [
            "Number of rows :5\n",
            "1\n",
            "121\n",
            "12321\n",
            "1234321\n",
            "123454321\n"
          ]
        }
      ],
      "source": [
        "rows = int(input('Number of rows :'))\n",
        "\n",
        "for i in range(1, rows+1):\n",
        "  for j in range(1, i+1):\n",
        "    print(j, end='')\n",
        "  for k in range(i-1, 0, -1):\n",
        "    print(k, end='')\n",
        "\n",
        "  print()"
      ]
    },
    {
      "cell_type": "code",
      "execution_count": null,
      "metadata": {
        "colab": {
          "base_uri": "https://localhost:8080/"
        },
        "id": "iCZiV-p6i6-G",
        "outputId": "5c9d71a6-2129-43ef-96cf-1658a78022fe"
      },
      "outputs": [
        {
          "name": "stdout",
          "output_type": "stream",
          "text": [
            "1\n",
            "2\n",
            "3\n",
            "4\n",
            "5\n",
            "__ is not in series\n",
            "7\n",
            "8\n",
            "9\n",
            "10\n"
          ]
        }
      ],
      "source": [
        "# continue\n",
        "\n",
        "for i in range(1, 11):\n",
        "  if i == 6:\n",
        "    print('__ is not in series')\n",
        "    continue\n",
        "  print(i)"
      ]
    },
    {
      "cell_type": "code",
      "execution_count": null,
      "metadata": {
        "id": "uy-JBgWAje_1"
      },
      "outputs": [],
      "source": [
        "# dont show me an error\n",
        "for i in range(1, 11):\n",
        "  pass"
      ]
    },
    {
      "cell_type": "code",
      "execution_count": null,
      "metadata": {
        "colab": {
          "base_uri": "https://localhost:8080/"
        },
        "id": "jriu8eN6k1PN",
        "outputId": "ac41091f-f177-484c-b623-88084d2a03f9"
      },
      "outputs": [
        {
          "name": "stdout",
          "output_type": "stream",
          "text": [
            "1\n",
            "2\n",
            "3\n",
            "4\n",
            "5\n",
            "H\n",
            "e\n",
            "l\n",
            "l\n",
            "o\n"
          ]
        }
      ],
      "source": [
        "# prompt: when using while and when using for in text\n",
        "\n",
        "# Use \"while\" when you want to loop based on a condition.\n",
        "# Example: Print numbers from 1 to 5\n",
        "count = 1\n",
        "while count <= 5:\n",
        "  print(count)\n",
        "  count += 1\n",
        "\n",
        "# Use \"for\" when you want to iterate over a sequence (like a string).\n",
        "# Example: Print each character in a string\n",
        "text = \"Hello\"\n",
        "for char in text:\n",
        "  print('\\n',char)\n"
      ]
    },
    {
      "cell_type": "markdown",
      "metadata": {
        "id": "AJHvRp4kkask"
      },
      "source": [
        "# Strings are sequence of Charaters\n",
        "\n",
        "[Link of why ](#https://docs.python.org/3/howto/unicode.html)\n",
        "\n",
        "In python specifically, strings are a sequence of Unicode Characters\n",
        "\n",
        "- Creating\n",
        "- Accessing\n",
        "- Adding chars\n",
        "- Editing\n",
        "- Deleting\n",
        "- Oprations\n",
        "- String Functions\n"
      ]
    },
    {
      "cell_type": "markdown",
      "metadata": {
        "id": "29YPk09emOeb"
      },
      "source": [
        "### Creating strings\n"
      ]
    },
    {
      "cell_type": "code",
      "execution_count": null,
      "metadata": {
        "id": "U3OTMH41lOxw"
      },
      "outputs": [],
      "source": [
        "a = 'Rudra'\n",
        "print(a)\n",
        "\n",
        "b = \"Rudra\"\n",
        "print(b)\n",
        "\n",
        "c = '''Rudra'''\n",
        "print(c)"
      ]
    },
    {
      "cell_type": "markdown",
      "metadata": {
        "id": "Fzs7u4fLnREC"
      },
      "source": [
        "### Accessing Substrings\n"
      ]
    },
    {
      "cell_type": "code",
      "execution_count": null,
      "metadata": {
        "colab": {
          "base_uri": "https://localhost:8080/"
        },
        "id": "nxxaZ9MknXGy",
        "outputId": "d604c22f-9910-44dc-c3b5-3380de43026e"
      },
      "outputs": [
        {
          "name": "stdout",
          "output_type": "stream",
          "text": [
            "H\n"
          ]
        }
      ],
      "source": [
        "# Postive Indexing\n",
        "a = 'Hello World'\n",
        "print(a[0])"
      ]
    },
    {
      "cell_type": "code",
      "execution_count": null,
      "metadata": {
        "colab": {
          "base_uri": "https://localhost:8080/"
        },
        "id": "R5U1t9G9oIGR",
        "outputId": "ab55fcb2-a650-41fe-c858-fa98aff669d9"
      },
      "outputs": [
        {
          "name": "stdout",
          "output_type": "stream",
          "text": [
            "d\n"
          ]
        }
      ],
      "source": [
        "# Negative Indexing\n",
        "a = 'Hello World'\n",
        "print(a[-1])"
      ]
    },
    {
      "cell_type": "code",
      "execution_count": null,
      "metadata": {
        "colab": {
          "base_uri": "https://localhost:8080/"
        },
        "id": "h744BeHSoQ76",
        "outputId": "c44f2327-fcc4-4ce4-cb2c-6f47d8484604"
      },
      "outputs": [
        {
          "name": "stdout",
          "output_type": "stream",
          "text": [
            "Hello \n"
          ]
        }
      ],
      "source": [
        "#Slicing\n",
        "\n",
        "a = 'Hello World'\n",
        "print(a[0:6])"
      ]
    },
    {
      "cell_type": "code",
      "execution_count": null,
      "metadata": {
        "colab": {
          "base_uri": "https://localhost:8080/"
        },
        "id": "qq1stYFWouzs",
        "outputId": "c99e4b3e-458b-4064-ba46-a6f72a3a6bf3"
      },
      "outputs": [
        {
          "name": "stdout",
          "output_type": "stream",
          "text": [
            "Wol\n"
          ]
        }
      ],
      "source": [
        "# if you are use -ve indexing then the first number is > second number\n",
        "# 6 > 0\n",
        "\n",
        "a = 'Hello World'\n",
        "print(a[6:0:-2])\n"
      ]
    },
    {
      "cell_type": "code",
      "execution_count": null,
      "metadata": {
        "colab": {
          "base_uri": "https://localhost:8080/"
        },
        "id": "YC55wnNIqO01",
        "outputId": "91f76202-7d0b-4290-dc38-b2458b63e779"
      },
      "outputs": [
        {
          "name": "stdout",
          "output_type": "stream",
          "text": [
            "dlroW olleH\n"
          ]
        }
      ],
      "source": [
        "# Reverse the Line\n",
        "\n",
        "print(a[::-1])\n"
      ]
    },
    {
      "cell_type": "markdown",
      "metadata": {
        "id": "7mF53ozYrAKy"
      },
      "source": [
        "### Editing & Deleting"
      ]
    },
    {
      "cell_type": "code",
      "execution_count": null,
      "metadata": {
        "colab": {
          "base_uri": "https://localhost:8080/",
          "height": 176
        },
        "id": "hB0lcXzlqbcM",
        "outputId": "5926a85b-7d41-4e96-9fc1-4c8d778e5614"
      },
      "outputs": [
        {
          "ename": "TypeError",
          "evalue": "'str' object does not support item assignment",
          "output_type": "error",
          "traceback": [
            "\u001b[0;31m---------------------------------------------------------------------------\u001b[0m",
            "\u001b[0;31mTypeError\u001b[0m                                 Traceback (most recent call last)",
            "\u001b[0;32m<ipython-input-16-ebb156168090>\u001b[0m in \u001b[0;36m<cell line: 4>\u001b[0;34m()\u001b[0m\n\u001b[1;32m      2\u001b[0m \u001b[0;34m\u001b[0m\u001b[0m\n\u001b[1;32m      3\u001b[0m \u001b[0ma\u001b[0m \u001b[0;34m=\u001b[0m \u001b[0;34m'Hello World'\u001b[0m\u001b[0;34m\u001b[0m\u001b[0;34m\u001b[0m\u001b[0m\n\u001b[0;32m----> 4\u001b[0;31m \u001b[0ma\u001b[0m\u001b[0;34m[\u001b[0m\u001b[0;36m0\u001b[0m\u001b[0;34m]\u001b[0m \u001b[0;34m=\u001b[0m \u001b[0;34m'k'\u001b[0m\u001b[0;34m\u001b[0m\u001b[0;34m\u001b[0m\u001b[0m\n\u001b[0m",
            "\u001b[0;31mTypeError\u001b[0m: 'str' object does not support item assignment"
          ]
        }
      ],
      "source": [
        "# pyton strings are immutable\n",
        "\n",
        "a = 'Hello World'\n",
        "a[0] = 'k'"
      ]
    },
    {
      "cell_type": "code",
      "execution_count": null,
      "metadata": {
        "id": "tusxpjUMreUE"
      },
      "outputs": [],
      "source": [
        "# delecting\n",
        "s = 'Hello world'\n",
        "del s"
      ]
    },
    {
      "cell_type": "code",
      "execution_count": null,
      "metadata": {
        "colab": {
          "base_uri": "https://localhost:8080/",
          "height": 176
        },
        "id": "jEhq1eJdsCFa",
        "outputId": "6205427f-a05d-4c38-d1f7-1eaa793d9621"
      },
      "outputs": [
        {
          "ename": "TypeError",
          "evalue": "'str' object does not support item deletion",
          "output_type": "error",
          "traceback": [
            "\u001b[0;31m---------------------------------------------------------------------------\u001b[0m",
            "\u001b[0;31mTypeError\u001b[0m                                 Traceback (most recent call last)",
            "\u001b[0;32m<ipython-input-18-ffde3c353168>\u001b[0m in \u001b[0;36m<cell line: 2>\u001b[0;34m()\u001b[0m\n\u001b[1;32m      1\u001b[0m \u001b[0ms\u001b[0m \u001b[0;34m=\u001b[0m \u001b[0;34m'Hello world'\u001b[0m\u001b[0;34m\u001b[0m\u001b[0;34m\u001b[0m\u001b[0m\n\u001b[0;32m----> 2\u001b[0;31m \u001b[0;32mdel\u001b[0m \u001b[0ms\u001b[0m\u001b[0;34m[\u001b[0m\u001b[0;34m-\u001b[0m\u001b[0;36m1\u001b[0m\u001b[0;34m:\u001b[0m\u001b[0;34m-\u001b[0m\u001b[0;36m5\u001b[0m\u001b[0;34m:\u001b[0m\u001b[0;36m2\u001b[0m\u001b[0;34m]\u001b[0m\u001b[0;34m\u001b[0m\u001b[0;34m\u001b[0m\u001b[0m\n\u001b[0m\u001b[1;32m      3\u001b[0m \u001b[0mprint\u001b[0m\u001b[0;34m(\u001b[0m\u001b[0ms\u001b[0m\u001b[0;34m)\u001b[0m\u001b[0;34m\u001b[0m\u001b[0;34m\u001b[0m\u001b[0m\n",
            "\u001b[0;31mTypeError\u001b[0m: 'str' object does not support item deletion"
          ]
        }
      ],
      "source": [
        "s = 'Hello world'\n",
        "del s[-1:-5:2]\n",
        "print(s)"
      ]
    },
    {
      "cell_type": "markdown",
      "metadata": {
        "id": "AnhpkSaxsg85"
      },
      "source": [
        "### Operations"
      ]
    },
    {
      "cell_type": "code",
      "execution_count": null,
      "metadata": {
        "id": "p1mfW7Rcsgp_"
      },
      "outputs": [],
      "source": [
        "Print('Hello'+' '+'world')"
      ]
    },
    {
      "cell_type": "code",
      "execution_count": null,
      "metadata": {
        "colab": {
          "base_uri": "https://localhost:8080/"
        },
        "id": "usz0NG2ssdhM",
        "outputId": "42690081-d23a-4bce-9030-185e9144d5a0"
      },
      "outputs": [
        {
          "name": "stdout",
          "output_type": "stream",
          "text": [
            "Love_you_Love_you_Love_you_Love_you_Love_you_\n"
          ]
        }
      ],
      "source": [
        "print('Love_you_' * 5)"
      ]
    },
    {
      "cell_type": "code",
      "execution_count": null,
      "metadata": {
        "colab": {
          "base_uri": "https://localhost:8080/"
        },
        "id": "iBh5NpgttDFi",
        "outputId": "949d7c23-3b5c-4b33-dba1-639ad132db89"
      },
      "outputs": [
        {
          "data": {
            "text/plain": [
              "False"
            ]
          },
          "execution_count": 21,
          "metadata": {},
          "output_type": "execute_result"
        }
      ],
      "source": [
        "'Delhi' == 'Odisha'"
      ]
    },
    {
      "cell_type": "code",
      "execution_count": null,
      "metadata": {
        "colab": {
          "base_uri": "https://localhost:8080/"
        },
        "id": "ylhvdLwLtDI-",
        "outputId": "50499fbf-ef13-4605-a3bc-c12559eee485"
      },
      "outputs": [
        {
          "data": {
            "text/plain": [
              "True"
            ]
          },
          "execution_count": 22,
          "metadata": {},
          "output_type": "execute_result"
        }
      ],
      "source": [
        "'Delhi' != 'Odisha'"
      ]
    },
    {
      "cell_type": "code",
      "execution_count": null,
      "metadata": {
        "colab": {
          "base_uri": "https://localhost:8080/"
        },
        "id": "msbV-vCStP8o",
        "outputId": "bfbbc1d2-2a54-4e05-ca3c-7bea72cfbe86"
      },
      "outputs": [
        {
          "data": {
            "text/plain": [
              "False"
            ]
          },
          "execution_count": 25,
          "metadata": {},
          "output_type": "execute_result"
        }
      ],
      "source": [
        "'Delhi' > 'Odisha'\n",
        "\n",
        "# Lexiographically"
      ]
    },
    {
      "cell_type": "code",
      "execution_count": null,
      "metadata": {
        "colab": {
          "base_uri": "https://localhost:8080/",
          "height": 36
        },
        "id": "S1rSvOXjuh1w",
        "outputId": "a9c983d6-b597-4d60-d254-847d082c000e"
      },
      "outputs": [
        {
          "data": {
            "application/vnd.google.colaboratory.intrinsic+json": {
              "type": "string"
            },
            "text/plain": [
              "'Odisha'"
            ]
          },
          "execution_count": 26,
          "metadata": {},
          "output_type": "execute_result"
        }
      ],
      "source": [
        "'Delhi' and 'Odisha'\n",
        "\n",
        "# if the empty is false\n",
        "# string is True"
      ]
    },
    {
      "cell_type": "code",
      "execution_count": null,
      "metadata": {
        "colab": {
          "base_uri": "https://localhost:8080/",
          "height": 36
        },
        "id": "qOPp-NNEuvQ7",
        "outputId": "e920b499-b4ff-4aec-a8c0-7ebd42f692d1"
      },
      "outputs": [
        {
          "data": {
            "application/vnd.google.colaboratory.intrinsic+json": {
              "type": "string"
            },
            "text/plain": [
              "'Delhi'"
            ]
          },
          "execution_count": 29,
          "metadata": {},
          "output_type": "execute_result"
        }
      ],
      "source": [
        "'Delhi' or 'Odisha'"
      ]
    },
    {
      "cell_type": "code",
      "execution_count": null,
      "metadata": {
        "colab": {
          "base_uri": "https://localhost:8080/",
          "height": 36
        },
        "id": "3F0tIywBu6Ik",
        "outputId": "c40161ed-d96a-481a-e9ee-de48c648ed18"
      },
      "outputs": [
        {
          "data": {
            "application/vnd.google.colaboratory.intrinsic+json": {
              "type": "string"
            },
            "text/plain": [
              "''"
            ]
          },
          "execution_count": 27,
          "metadata": {},
          "output_type": "execute_result"
        }
      ],
      "source": [
        "'' and 'Odisha'"
      ]
    },
    {
      "cell_type": "code",
      "execution_count": null,
      "metadata": {
        "colab": {
          "base_uri": "https://localhost:8080/",
          "height": 36
        },
        "id": "X7-696FJu6Lm",
        "outputId": "2ecb6a2c-0e7e-4c25-c934-a5a4e17dd520"
      },
      "outputs": [
        {
          "data": {
            "application/vnd.google.colaboratory.intrinsic+json": {
              "type": "string"
            },
            "text/plain": [
              "'Odisha'"
            ]
          },
          "execution_count": 28,
          "metadata": {},
          "output_type": "execute_result"
        }
      ],
      "source": [
        "'' or 'Odisha'"
      ]
    },
    {
      "cell_type": "code",
      "execution_count": null,
      "metadata": {
        "colab": {
          "base_uri": "https://localhost:8080/"
        },
        "id": "Z4glBT46u9fP",
        "outputId": "0e7d288c-3b7a-4532-9107-eb16b1c75002"
      },
      "outputs": [
        {
          "data": {
            "text/plain": [
              "True"
            ]
          },
          "execution_count": 30,
          "metadata": {},
          "output_type": "execute_result"
        }
      ],
      "source": [
        "not '' # empty is false\n"
      ]
    },
    {
      "cell_type": "code",
      "execution_count": null,
      "metadata": {
        "colab": {
          "base_uri": "https://localhost:8080/"
        },
        "id": "iOS94YkxvYfx",
        "outputId": "94b32ab5-419a-4541-b445-c71680363114"
      },
      "outputs": [
        {
          "data": {
            "text/plain": [
              "False"
            ]
          },
          "execution_count": 31,
          "metadata": {},
          "output_type": "execute_result"
        }
      ],
      "source": [
        "not 'Rudra' # value is True"
      ]
    },
    {
      "cell_type": "code",
      "execution_count": null,
      "metadata": {
        "colab": {
          "base_uri": "https://localhost:8080/"
        },
        "id": "_OV2G8OMvpNW",
        "outputId": "011dbde0-05ca-4ea7-c9dd-4f72fe1bb975"
      },
      "outputs": [
        {
          "name": "stdout",
          "output_type": "stream",
          "text": [
            "H\n",
            "e\n",
            "l\n",
            "l\n",
            "o\n",
            "_\n",
            "D\n",
            "a\n",
            "t\n",
            "a\n"
          ]
        }
      ],
      "source": [
        "for i in 'Hello_Data':\n",
        "  print(i)"
      ]
    },
    {
      "cell_type": "code",
      "execution_count": null,
      "metadata": {
        "colab": {
          "base_uri": "https://localhost:8080/"
        },
        "id": "TnPL07KjvpQg",
        "outputId": "0277d8cc-a3a0-411a-ef3a-ccab6c150100"
      },
      "outputs": [
        {
          "name": "stdout",
          "output_type": "stream",
          "text": [
            "Hi..\n",
            "Hi..\n",
            "Hi..\n",
            "Hi..\n",
            "Hi..\n",
            "Hi..\n"
          ]
        }
      ],
      "source": [
        "# total char of odisha\n",
        "\n",
        "for i in 'Odisha':\n",
        "  print('Hi..')"
      ]
    },
    {
      "cell_type": "code",
      "execution_count": null,
      "metadata": {
        "id": "t7v9zcY9vpTi"
      },
      "outputs": [],
      "source": []
    },
    {
      "cell_type": "markdown",
      "metadata": {
        "id": "Du55uU34vm7x"
      },
      "source": [
        "### Common Functions\n",
        "- len\n",
        "- max\n",
        "- min\n",
        "- sorted"
      ]
    },
    {
      "cell_type": "code",
      "execution_count": null,
      "metadata": {
        "colab": {
          "base_uri": "https://localhost:8080/"
        },
        "id": "LPW7SRA8veHK",
        "outputId": "7f6945d1-e661-432a-9047-26d5f31dd7fa"
      },
      "outputs": [
        {
          "data": {
            "text/plain": [
              "19"
            ]
          },
          "execution_count": 35,
          "metadata": {},
          "output_type": "execute_result"
        }
      ],
      "source": [
        "len('Rudra Prasad Bhuyan')"
      ]
    },
    {
      "cell_type": "code",
      "execution_count": null,
      "metadata": {
        "colab": {
          "base_uri": "https://localhost:8080/",
          "height": 36
        },
        "id": "zTCpB3CDw6kO",
        "outputId": "ac92cbf2-d73c-4439-a51c-0cd25e2ad00c"
      },
      "outputs": [
        {
          "data": {
            "application/vnd.google.colaboratory.intrinsic+json": {
              "type": "string"
            },
            "text/plain": [
              "'y'"
            ]
          },
          "execution_count": 36,
          "metadata": {},
          "output_type": "execute_result"
        }
      ],
      "source": [
        "max('Rudra Prasad Bhuyan')"
      ]
    },
    {
      "cell_type": "code",
      "execution_count": null,
      "metadata": {
        "colab": {
          "base_uri": "https://localhost:8080/",
          "height": 36
        },
        "id": "w0OM9tLFw9o3",
        "outputId": "6b124711-89c6-4c68-f75c-6eac8f6f599e"
      },
      "outputs": [
        {
          "data": {
            "application/vnd.google.colaboratory.intrinsic+json": {
              "type": "string"
            },
            "text/plain": [
              "' '"
            ]
          },
          "execution_count": 37,
          "metadata": {},
          "output_type": "execute_result"
        }
      ],
      "source": [
        "min('Rudra Prasad Bhuyan')"
      ]
    },
    {
      "cell_type": "code",
      "execution_count": null,
      "metadata": {
        "colab": {
          "base_uri": "https://localhost:8080/"
        },
        "id": "sEmQUHabxAEf",
        "outputId": "0b18acfe-377d-443a-91ad-b2fa14885acc"
      },
      "outputs": [
        {
          "data": {
            "text/plain": [
              "['y',\n",
              " 'u',\n",
              " 'u',\n",
              " 's',\n",
              " 'r',\n",
              " 'r',\n",
              " 'n',\n",
              " 'h',\n",
              " 'd',\n",
              " 'd',\n",
              " 'a',\n",
              " 'a',\n",
              " 'a',\n",
              " 'a',\n",
              " 'R',\n",
              " 'P',\n",
              " 'B',\n",
              " ' ',\n",
              " ' ']"
            ]
          },
          "execution_count": 40,
          "metadata": {},
          "output_type": "execute_result"
        }
      ],
      "source": [
        "sorted('Rudra Prasad Bhuyan', reverse=True)"
      ]
    },
    {
      "cell_type": "markdown",
      "metadata": {
        "id": "J1aWszm4xWSw"
      },
      "source": [
        "- Capitialize\n",
        "- title\n",
        "- upper\n",
        "- lower\n",
        "- swapcase"
      ]
    },
    {
      "cell_type": "code",
      "execution_count": null,
      "metadata": {
        "colab": {
          "base_uri": "https://localhost:8080/",
          "height": 36
        },
        "id": "v_KNxz7FxC_g",
        "outputId": "52e8c0dc-5d44-46f2-88d3-5348bfaef9ca"
      },
      "outputs": [
        {
          "data": {
            "application/vnd.google.colaboratory.intrinsic+json": {
              "type": "string"
            },
            "text/plain": [
              "'Rudra prsad bhuyan'"
            ]
          },
          "execution_count": 45,
          "metadata": {},
          "output_type": "execute_result"
        }
      ],
      "source": [
        "a = 'Rudra prsad bhuyan'\n",
        "a.capitalize()"
      ]
    },
    {
      "cell_type": "code",
      "execution_count": null,
      "metadata": {
        "colab": {
          "base_uri": "https://localhost:8080/",
          "height": 36
        },
        "id": "ACNv-VEzxnzX",
        "outputId": "1ba55227-3223-48e2-8ca2-51c25be037d9"
      },
      "outputs": [
        {
          "data": {
            "application/vnd.google.colaboratory.intrinsic+json": {
              "type": "string"
            },
            "text/plain": [
              "'Rudra Prsad Bhuyan'"
            ]
          },
          "execution_count": 46,
          "metadata": {},
          "output_type": "execute_result"
        }
      ],
      "source": [
        "a.title()"
      ]
    },
    {
      "cell_type": "code",
      "execution_count": null,
      "metadata": {
        "colab": {
          "base_uri": "https://localhost:8080/",
          "height": 36
        },
        "id": "EoFtXQGmxsLd",
        "outputId": "6a80b178-e06d-4e6b-95ba-74b2a58c1c6c"
      },
      "outputs": [
        {
          "data": {
            "application/vnd.google.colaboratory.intrinsic+json": {
              "type": "string"
            },
            "text/plain": [
              "'RUDRA PRSAD BHUYAN'"
            ]
          },
          "execution_count": 47,
          "metadata": {},
          "output_type": "execute_result"
        }
      ],
      "source": [
        "a.upper()"
      ]
    },
    {
      "cell_type": "code",
      "execution_count": null,
      "metadata": {
        "colab": {
          "base_uri": "https://localhost:8080/",
          "height": 36
        },
        "id": "yi33lmEvxzCa",
        "outputId": "41fd40b9-d9e9-4da8-9cbe-63f39809bd30"
      },
      "outputs": [
        {
          "data": {
            "application/vnd.google.colaboratory.intrinsic+json": {
              "type": "string"
            },
            "text/plain": [
              "'rUDRA pRASAD bHUYAN'"
            ]
          },
          "execution_count": 48,
          "metadata": {},
          "output_type": "execute_result"
        }
      ],
      "source": [
        "'Rudra Prasad Bhuyan'.swapcase()"
      ]
    },
    {
      "cell_type": "code",
      "execution_count": null,
      "metadata": {
        "colab": {
          "base_uri": "https://localhost:8080/",
          "height": 36
        },
        "id": "NgrBXbmQx3in",
        "outputId": "0af3041c-d50e-4949-e399-0d495f3f9927"
      },
      "outputs": [
        {
          "data": {
            "application/vnd.google.colaboratory.intrinsic+json": {
              "type": "string"
            },
            "text/plain": [
              "'RUDRA PRASAD BHUYAN'"
            ]
          },
          "execution_count": 49,
          "metadata": {},
          "output_type": "execute_result"
        }
      ],
      "source": [
        "'Rudra Prasad Bhuyan'.upper()"
      ]
    },
    {
      "cell_type": "code",
      "execution_count": null,
      "metadata": {
        "colab": {
          "base_uri": "https://localhost:8080/",
          "height": 36
        },
        "id": "CsiQ8Nwzx7GI",
        "outputId": "3f1a5a91-d64d-413a-8292-8e6dc2a22854"
      },
      "outputs": [
        {
          "data": {
            "application/vnd.google.colaboratory.intrinsic+json": {
              "type": "string"
            },
            "text/plain": [
              "'rudra prasad bhuyan'"
            ]
          },
          "execution_count": 50,
          "metadata": {},
          "output_type": "execute_result"
        }
      ],
      "source": [
        "'Rudra Prasad Bhuyan'.lower()"
      ]
    },
    {
      "cell_type": "markdown",
      "metadata": {
        "id": "Y3dKjBf4x9g0"
      },
      "source": [
        "- count\n",
        "- find\n",
        "- index"
      ]
    },
    {
      "cell_type": "code",
      "execution_count": null,
      "metadata": {
        "colab": {
          "base_uri": "https://localhost:8080/"
        },
        "id": "ZukYA2aayBL7",
        "outputId": "59575269-0561-4d4c-bee1-b200cbe2c9e8"
      },
      "outputs": [
        {
          "data": {
            "text/plain": [
              "5"
            ]
          },
          "execution_count": 51,
          "metadata": {},
          "output_type": "execute_result"
        }
      ],
      "source": [
        "'My name is Rudra Prasad Bhuyan'.count('a')"
      ]
    },
    {
      "cell_type": "code",
      "execution_count": null,
      "metadata": {
        "colab": {
          "base_uri": "https://localhost:8080/"
        },
        "id": "ZEv6Gr-kyGI5",
        "outputId": "10c2d38e-8e96-4837-e3c6-8451dc62a415"
      },
      "outputs": [
        {
          "data": {
            "text/plain": [
              "11"
            ]
          },
          "execution_count": 53,
          "metadata": {},
          "output_type": "execute_result"
        }
      ],
      "source": [
        "'My name is Rudra Prasad Bhuyan'.find('Rudra') # starting index"
      ]
    },
    {
      "cell_type": "code",
      "execution_count": null,
      "metadata": {
        "colab": {
          "base_uri": "https://localhost:8080/",
          "height": 141
        },
        "id": "A_kzx17-yJ3C",
        "outputId": "c86dfdf2-3809-4003-9c4d-9d761c5dfab3"
      },
      "outputs": [
        {
          "ename": "ValueError",
          "evalue": "substring not found",
          "output_type": "error",
          "traceback": [
            "\u001b[0;31m---------------------------------------------------------------------------\u001b[0m",
            "\u001b[0;31mValueError\u001b[0m                                Traceback (most recent call last)",
            "\u001b[0;32m<ipython-input-55-7d7dbd52d381>\u001b[0m in \u001b[0;36m<cell line: 1>\u001b[0;34m()\u001b[0m\n\u001b[0;32m----> 1\u001b[0;31m \u001b[0;34m'My name is Rudra Prasad Bhuyan'\u001b[0m\u001b[0;34m.\u001b[0m\u001b[0mindex\u001b[0m\u001b[0;34m(\u001b[0m\u001b[0;34m'z'\u001b[0m\u001b[0;34m)\u001b[0m \u001b[0;31m#\u001b[0m\u001b[0;34m\u001b[0m\u001b[0;34m\u001b[0m\u001b[0m\n\u001b[0m",
            "\u001b[0;31mValueError\u001b[0m: substring not found"
          ]
        }
      ],
      "source": [
        "'My name is Rudra Prasad Bhuyan'.index('z') #"
      ]
    },
    {
      "cell_type": "code",
      "execution_count": null,
      "metadata": {
        "id": "dkmStM7ZyS9b"
      },
      "outputs": [],
      "source": [
        "# index show error if string not exit\n",
        "# find show-1"
      ]
    },
    {
      "cell_type": "markdown",
      "metadata": {
        "id": "mxfd7KR6yi5Q"
      },
      "source": [
        "- endwith\n",
        "- startwith"
      ]
    },
    {
      "cell_type": "code",
      "execution_count": null,
      "metadata": {
        "colab": {
          "base_uri": "https://localhost:8080/"
        },
        "id": "cjL-MvwPygv0",
        "outputId": "c4e1ea00-dc2f-483f-bb79-ed125d9f8d0b"
      },
      "outputs": [
        {
          "data": {
            "text/plain": [
              "False"
            ]
          },
          "execution_count": 59,
          "metadata": {},
          "output_type": "execute_result"
        }
      ],
      "source": [
        "'My name is Rudra Prasad Bhuyan'.endswith('z')"
      ]
    },
    {
      "cell_type": "code",
      "execution_count": null,
      "metadata": {
        "colab": {
          "base_uri": "https://localhost:8080/"
        },
        "id": "yJjQUFkKyn1O",
        "outputId": "3f120e8b-1b78-4932-92dc-d706f86038cc"
      },
      "outputs": [
        {
          "data": {
            "text/plain": [
              "True"
            ]
          },
          "execution_count": 58,
          "metadata": {},
          "output_type": "execute_result"
        }
      ],
      "source": [
        "'My name is Rudra Prasad Bhuyan'.startswith('My')"
      ]
    },
    {
      "cell_type": "markdown",
      "metadata": {
        "id": "nv4StcXhyvdK"
      },
      "source": [
        "- format"
      ]
    },
    {
      "cell_type": "code",
      "execution_count": null,
      "metadata": {
        "colab": {
          "base_uri": "https://localhost:8080/",
          "height": 36
        },
        "id": "DL2RnS0gyo8V",
        "outputId": "63e5dd35-1fdc-4d4c-a97f-8e73f50066d5"
      },
      "outputs": [
        {
          "data": {
            "application/vnd.google.colaboratory.intrinsic+json": {
              "type": "string"
            },
            "text/plain": [
              "'My name is Rudra and my age is 20'"
            ]
          },
          "execution_count": 60,
          "metadata": {},
          "output_type": "execute_result"
        }
      ],
      "source": [
        "name = 'Rudra'\n",
        "age = 20\n",
        "'My name is {} and my age is {}'.format(name, age)"
      ]
    },
    {
      "cell_type": "markdown",
      "metadata": {
        "id": "8hcCI6clzCfT"
      },
      "source": [
        "- isalnum\n",
        "- isalpha\n",
        "- isdigit\n",
        "- isidentifier"
      ]
    },
    {
      "cell_type": "code",
      "execution_count": null,
      "metadata": {
        "colab": {
          "base_uri": "https://localhost:8080/"
        },
        "id": "_FWpKhUUGPEa",
        "outputId": "8def4f27-9e97-4914-cebb-604616cfbd8a"
      },
      "outputs": [
        {
          "data": {
            "text/plain": [
              "True"
            ]
          },
          "execution_count": 1,
          "metadata": {},
          "output_type": "execute_result"
        }
      ],
      "source": [
        "'Rudra_1234'.isalnum()"
      ]
    },
    {
      "cell_type": "code",
      "execution_count": null,
      "metadata": {
        "colab": {
          "base_uri": "https://localhost:8080/"
        },
        "id": "8TTMTH9nGPaC",
        "outputId": "6e29bc03-1be3-4bff-c3a7-250439dc1d69"
      },
      "outputs": [
        {
          "data": {
            "text/plain": [
              "False"
            ]
          },
          "execution_count": 2,
          "metadata": {},
          "output_type": "execute_result"
        }
      ],
      "source": [
        "'Rudra_1234$%'.isalnum()"
      ]
    },
    {
      "cell_type": "code",
      "execution_count": null,
      "metadata": {
        "colab": {
          "base_uri": "https://localhost:8080/"
        },
        "id": "VLGjDSscGPjr",
        "outputId": "00486569-623f-41cc-c8e9-5ee31eecd084"
      },
      "outputs": [
        {
          "data": {
            "text/plain": [
              "False"
            ]
          },
          "execution_count": 3,
          "metadata": {},
          "output_type": "execute_result"
        }
      ],
      "source": [
        "'Rudra_1234'.isalpha()"
      ]
    },
    {
      "cell_type": "code",
      "execution_count": null,
      "metadata": {
        "colab": {
          "base_uri": "https://localhost:8080/"
        },
        "id": "xW5UnQoWGP1K",
        "outputId": "4d1cb400-8920-4bd7-e613-26640c5bea6d"
      },
      "outputs": [
        {
          "data": {
            "text/plain": [
              "False"
            ]
          },
          "execution_count": 4,
          "metadata": {},
          "output_type": "execute_result"
        }
      ],
      "source": [
        "'Rudra_1234'.isdigit()"
      ]
    },
    {
      "cell_type": "code",
      "execution_count": null,
      "metadata": {
        "colab": {
          "base_uri": "https://localhost:8080/"
        },
        "id": "yUzSF_9LGn8C",
        "outputId": "249c8eee-9f2e-43b0-b37f-dac53abb1fb0"
      },
      "outputs": [
        {
          "data": {
            "text/plain": [
              "True"
            ]
          },
          "execution_count": 5,
          "metadata": {},
          "output_type": "execute_result"
        }
      ],
      "source": [
        "'1234'.isdigit()"
      ]
    },
    {
      "cell_type": "code",
      "execution_count": null,
      "metadata": {
        "colab": {
          "base_uri": "https://localhost:8080/"
        },
        "id": "1Ug8hd19GoO3",
        "outputId": "58dba82e-20ee-4c09-90d6-85687e626f80"
      },
      "outputs": [
        {
          "data": {
            "text/plain": [
              "True"
            ]
          },
          "execution_count": 6,
          "metadata": {},
          "output_type": "execute_result"
        }
      ],
      "source": [
        "'Rudra'.isidentifier()"
      ]
    },
    {
      "cell_type": "markdown",
      "metadata": {
        "id": "Trz5YT-NGLww"
      },
      "source": [
        "- split\n",
        "- join"
      ]
    },
    {
      "cell_type": "code",
      "execution_count": null,
      "metadata": {
        "colab": {
          "base_uri": "https://localhost:8080/"
        },
        "id": "iFztYNcFzB2C",
        "outputId": "006b5775-1bb0-4660-af27-6a8a1a0327e1"
      },
      "outputs": [
        {
          "data": {
            "text/plain": [
              "['My', 'name', 'is', 'Rudra', 'Prasad', 'Bhuyan']"
            ]
          },
          "execution_count": 7,
          "metadata": {},
          "output_type": "execute_result"
        }
      ],
      "source": [
        "'My name is Rudra Prasad Bhuyan'.split()"
      ]
    },
    {
      "cell_type": "code",
      "execution_count": null,
      "metadata": {
        "colab": {
          "base_uri": "https://localhost:8080/"
        },
        "id": "lcxNcc69G8xT",
        "outputId": "a57a057e-45b0-4e31-e9ab-b087407f8202"
      },
      "outputs": [
        {
          "data": {
            "text/plain": [
              "['My n', 'me is Rudr', ' Pr', 's', 'd Bhuy', 'n']"
            ]
          },
          "execution_count": 8,
          "metadata": {},
          "output_type": "execute_result"
        }
      ],
      "source": [
        "'My name is Rudra Prasad Bhuyan'.split('a')"
      ]
    },
    {
      "cell_type": "code",
      "execution_count": null,
      "metadata": {
        "colab": {
          "base_uri": "https://localhost:8080/",
          "height": 36
        },
        "id": "VDnw_mSPHG4w",
        "outputId": "2d7d4b37-7ad5-4b76-b52f-ad5fcf9e1d7f"
      },
      "outputs": [
        {
          "data": {
            "application/vnd.google.colaboratory.intrinsic+json": {
              "type": "string"
            },
            "text/plain": [
              "'My name is Rudra Prasad Bhuyan'"
            ]
          },
          "execution_count": 9,
          "metadata": {},
          "output_type": "execute_result"
        }
      ],
      "source": [
        "' '.join(['My', 'name', 'is', 'Rudra', 'Prasad', 'Bhuyan'])"
      ]
    },
    {
      "cell_type": "code",
      "execution_count": null,
      "metadata": {
        "colab": {
          "base_uri": "https://localhost:8080/",
          "height": 36
        },
        "id": "nQNFwIzdHOpU",
        "outputId": "d9d75d4e-a229-4e52-b4a3-a65cd9f10424"
      },
      "outputs": [
        {
          "data": {
            "application/vnd.google.colaboratory.intrinsic+json": {
              "type": "string"
            },
            "text/plain": [
              "'My ---name ---is ---Rudra ---Prasad ---Bhuyan'"
            ]
          },
          "execution_count": 10,
          "metadata": {},
          "output_type": "execute_result"
        }
      ],
      "source": [
        "' ---'.join(['My', 'name', 'is', 'Rudra', 'Prasad', 'Bhuyan'])"
      ]
    },
    {
      "cell_type": "markdown",
      "metadata": {
        "id": "7cBQbtQiGuKG"
      },
      "source": [
        "- replace"
      ]
    },
    {
      "cell_type": "code",
      "execution_count": null,
      "metadata": {
        "colab": {
          "base_uri": "https://localhost:8080/",
          "height": 36
        },
        "id": "OD7toHWuGubg",
        "outputId": "3a4652b3-f0ae-45bd-852f-a855c515614c"
      },
      "outputs": [
        {
          "data": {
            "application/vnd.google.colaboratory.intrinsic+json": {
              "type": "string"
            },
            "text/plain": [
              "'My name is Nitesh Bhuyan'"
            ]
          },
          "execution_count": 11,
          "metadata": {},
          "output_type": "execute_result"
        }
      ],
      "source": [
        "'My name is Rudra Bhuyan'.replace('Rudra', 'Nitesh')"
      ]
    },
    {
      "cell_type": "markdown",
      "metadata": {
        "id": "sdZSHt9tGup4"
      },
      "source": [
        "- Strip"
      ]
    },
    {
      "cell_type": "code",
      "execution_count": null,
      "metadata": {
        "colab": {
          "base_uri": "https://localhost:8080/",
          "height": 36
        },
        "id": "JG9WIbIhGu7Y",
        "outputId": "3f199827-fd46-4fb9-d5c0-33ceda2314fd"
      },
      "outputs": [
        {
          "data": {
            "application/vnd.google.colaboratory.intrinsic+json": {
              "type": "string"
            },
            "text/plain": [
              "'My name is Rudra Prasad Bhuyan'"
            ]
          },
          "execution_count": 13,
          "metadata": {},
          "output_type": "execute_result"
        }
      ],
      "source": [
        "'    My name is Rudra Prasad Bhuyan    '.strip()"
      ]
    },
    {
      "cell_type": "markdown",
      "metadata": {
        "id": "EsQRS1AfLQ14"
      },
      "source": [
        "# String Question"
      ]
    },
    {
      "cell_type": "code",
      "execution_count": null,
      "metadata": {
        "colab": {
          "base_uri": "https://localhost:8080/"
        },
        "id": "BYeycRKlHzuD",
        "outputId": "4289b41c-540f-42e5-b5ce-9945c1419758"
      },
      "outputs": [
        {
          "name": "stdout",
          "output_type": "stream",
          "text": [
            "ENter the string :nitish sir\n",
            "Length of the strings is : 10\n"
          ]
        }
      ],
      "source": [
        "# find the length of a given string without using len() function\n",
        "\n",
        "a = input('ENter the string :')\n",
        "\n",
        "count = 0\n",
        "\n",
        "for i in a:\n",
        "  count +=1\n",
        "\n",
        "print('Length of the strings is :', count)\n"
      ]
    },
    {
      "cell_type": "code",
      "execution_count": null,
      "metadata": {
        "colab": {
          "base_uri": "https://localhost:8080/"
        },
        "id": "aZCkQSk6Yin2",
        "outputId": "f90f4c55-91b8-414f-b4e6-4f6ebf461b7b"
      },
      "outputs": [
        {
          "name": "stdout",
          "output_type": "stream",
          "text": [
            "Enter your Email :rudraprasadbhuyan000@gmail.com\n",
            "rudraprasadbhuyan000\n"
          ]
        }
      ],
      "source": [
        "# Extract username from a given email.\n",
        "# eg- if the email is rudraprasadbhuyan000@gmail.com ,\n",
        "# then the username should be rudraprasadbhuyan000\n",
        "\n",
        "a = input ('Enter your Email :')\n",
        "pos = a.index('@')\n",
        "print(a[0:pos])"
      ]
    },
    {
      "cell_type": "code",
      "execution_count": null,
      "metadata": {
        "colab": {
          "base_uri": "https://localhost:8080/"
        },
        "id": "_eKyvjLlYjN3",
        "outputId": "bab4bd1b-c396-410a-949c-b214cf0cc92d"
      },
      "outputs": [
        {
          "name": "stdout",
          "output_type": "stream",
          "text": [
            "Enter the string :rudra prasad bhuyan \n",
            "Enter the character you want to search :a\n",
            "Frequency of a is 4\n"
          ]
        }
      ],
      "source": [
        "# Write a program which can remove a particular character from a string.\n",
        "# eg - 'hello how are you ' is string the frequency of h in this string is 2.\n",
        "\n",
        "a = input('Enter the string :')\n",
        "term = input('Enter the character you want to search :')\n",
        "\n",
        "counter = 0\n",
        "for i in a :\n",
        "  if i in term:\n",
        "    counter +=1\n",
        "\n",
        "print(f'Frequency of {term} is {counter}')"
      ]
    },
    {
      "cell_type": "code",
      "execution_count": null,
      "metadata": {
        "colab": {
          "base_uri": "https://localhost:8080/"
        },
        "id": "omx-BYcNbtfu",
        "outputId": "2d2f77cb-51cf-4a0f-b774-c55316c46304"
      },
      "outputs": [
        {
          "name": "stdout",
          "output_type": "stream",
          "text": [
            "Enter the string  :rudra\n",
            "Enter the character you want to remove :d\n",
            "rura\n"
          ]
        }
      ],
      "source": [
        "# write a programm which can remove a particular character from a string.\n",
        "\n",
        "a = input('Enter the string  :')\n",
        "term = input('Enter the character you want to remove :')\n",
        "\n",
        "result = ''\n",
        "for i in a :\n",
        "  if i != term :\n",
        "    result = result + i\n",
        "\n",
        "print(result)"
      ]
    },
    {
      "cell_type": "code",
      "execution_count": null,
      "metadata": {
        "colab": {
          "base_uri": "https://localhost:8080/"
        },
        "id": "XibHUvstYjSN",
        "outputId": "65448929-c5ed-480c-cc02-740ab4b5af1a"
      },
      "outputs": [
        {
          "name": "stdout",
          "output_type": "stream",
          "text": [
            "Enter the string :racecr\n",
            "It is not a palindrome\n"
          ]
        }
      ],
      "source": [
        "# write a programm which can check whether a given string is palindrome or not.\n",
        "# abba , malayalm, racecar\n",
        "\n",
        "# m-1\n",
        "a = input ('Enter the string :')\n",
        "\n",
        "if a == a[::-1]:\n",
        "  print('It is a palindrome')\n",
        "else:\n",
        "  print('It is not a palindrome')\n"
      ]
    },
    {
      "cell_type": "code",
      "execution_count": null,
      "metadata": {
        "colab": {
          "base_uri": "https://localhost:8080/"
        },
        "id": "vAtkpMdnc7e6",
        "outputId": "708bf9b6-213c-441f-cbf9-edab11982670"
      },
      "outputs": [
        {
          "name": "stdout",
          "output_type": "stream",
          "text": [
            "Enter the string :mam\n",
            "It is a palindrome\n"
          ]
        }
      ],
      "source": [
        "# m-2\n",
        "a = input ('Enter the string :')\n",
        "b = ''\n",
        "\n",
        "for i in a:\n",
        "  b = i + b\n",
        "\n",
        "if a == b:\n",
        "  print('It is a palindrome')\n",
        "else:\n",
        "  print('It is not a palindrome')"
      ]
    },
    {
      "cell_type": "code",
      "execution_count": null,
      "metadata": {
        "colab": {
          "base_uri": "https://localhost:8080/"
        },
        "id": "xLxjpkMIdE9D",
        "outputId": "4e29ea08-c10c-4dc0-80ef-eec891f8cb7a"
      },
      "outputs": [
        {
          "name": "stdout",
          "output_type": "stream",
          "text": [
            "Enter the string :racecar\n",
            "It is a palindrome\n"
          ]
        }
      ],
      "source": [
        "#m-3\n",
        "# https://pythontutor.com/\n",
        "a = input ('Enter the string :')\n",
        "\n",
        "flag = True\n",
        "for i in range(0, len(a)//2):\n",
        "  if a[i] != a[len(a) -i -1]:\n",
        "    flag = False\n",
        "    print('It is not a palindrome')\n",
        "    break\n",
        "\n",
        "if flag:\n",
        "  print('It is a palindrome')"
      ]
    },
    {
      "cell_type": "code",
      "execution_count": null,
      "metadata": {
        "colab": {
          "base_uri": "https://localhost:8080/"
        },
        "id": "Vnma7sXGbbO0",
        "outputId": "7ec9bc10-4ab8-4c82-fd21-32a2536b84c6"
      },
      "outputs": [
        {
          "name": "stdout",
          "output_type": "stream",
          "text": [
            "Enter the string :rudra prasad huan\n",
            "['rudra', 'prasad', 'huan']\n"
          ]
        }
      ],
      "source": [
        "# write a programm to count the number of words in a string without split()\n",
        "\n",
        "a = input('Enter the string :')\n",
        "list = []\n",
        "temp = ''\n",
        "\n",
        "for i in a:\n",
        "  if i != ' ':\n",
        "    temp = temp + i\n",
        "  else:\n",
        "    list.append(temp)\n",
        "    temp = ''\n",
        "\n",
        "list.append(temp)\n",
        "print(list)"
      ]
    },
    {
      "cell_type": "code",
      "execution_count": null,
      "metadata": {
        "colab": {
          "base_uri": "https://localhost:8080/"
        },
        "id": "GU0Zij-0Yjgt",
        "outputId": "3e23c5c9-ce50-470d-de95-e2432c2e7674"
      },
      "outputs": [
        {
          "output_type": "stream",
          "name": "stdout",
          "text": [
            "Enter the string :hi HoW ArE YOU\n",
            "Hi How Are You\n"
          ]
        }
      ],
      "source": [
        "# write a python program to covert a string to titile case without using title()\n",
        "\n",
        "a = input('Enter the string :')\n",
        "list =[]\n",
        "\n",
        "for i in a.split():\n",
        "  list.append(i[0].upper() + i[1:].lower() )\n",
        "\n",
        "print(' '.join(list))"
      ]
    },
    {
      "cell_type": "code",
      "execution_count": null,
      "metadata": {
        "id": "vlFOInrqYi0u",
        "colab": {
          "base_uri": "https://localhost:8080/"
        },
        "outputId": "b45e2065-8b68-4c73-fb16-82dbccc0b957"
      },
      "outputs": [
        {
          "output_type": "stream",
          "name": "stdout",
          "text": [
            "Enter the number :6546\n",
            "6546\n",
            "<class 'str'>\n"
          ]
        }
      ],
      "source": [
        "# write a porgram that can covert an interger ti string\n",
        "\n",
        "num = int(input('Enter the number :'))\n",
        "\n",
        "digits = '0123456789'\n",
        "result = ''\n",
        "while num != 0:\n",
        "  result = digits[num % 10] + result\n",
        "  num = num // 10\n",
        "\n",
        "print(result)\n",
        "print(type(result))"
      ]
    },
    {
      "cell_type": "code",
      "source": [],
      "metadata": {
        "id": "cPNt2ciNl3cO"
      },
      "execution_count": null,
      "outputs": []
    }
  ],
  "metadata": {
    "colab": {
      "provenance": []
    },
    "kernelspec": {
      "display_name": "Python 3",
      "name": "python3"
    },
    "language_info": {
      "name": "python"
    }
  },
  "nbformat": 4,
  "nbformat_minor": 0
}