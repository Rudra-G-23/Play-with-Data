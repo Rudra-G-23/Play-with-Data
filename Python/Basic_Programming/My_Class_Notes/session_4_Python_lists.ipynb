{
  "nbformat": 4,
  "nbformat_minor": 0,
  "metadata": {
    "colab": {
      "provenance": []
    },
    "kernelspec": {
      "name": "python3",
      "display_name": "Python 3"
    },
    "language_info": {
      "name": "python"
    }
  },
  "cells": [
    {
      "cell_type": "markdown",
      "source": [
        "Hello Data points 😄\n",
        "\n",
        "\n",
        "# My Class Notes\n",
        "\n",
        "**By Rudra**\n",
        "\n",
        "> Hi everyone, these are my class notes from one of my favorite teachers, Nitesh sir.\n",
        "\n",
        "\n",
        "\n",
        "Class- [Link](#https://www.youtube.com/live/WmbU3WBaoR0?si=mGcik_2LAEoTRO1h)\n"
      ],
      "metadata": {
        "id": "5x1MGKpFd_Bh"
      }
    },
    {
      "cell_type": "markdown",
      "source": [
        "# 1. Lists\n",
        "\n",
        "\n",
        "\n",
        "list is a data type where you can store multiple items in a single variable.dynamic array.\n",
        "\n",
        "\n",
        "**Arry vs lists**\n",
        "\n",
        "pro:\n",
        "- fixed vs Dynamic\n",
        "- Convienace -> heterogeneous\n",
        "\n",
        "cons:\n",
        "- speed of Execution\n",
        "- Memory\n"
      ],
      "metadata": {
        "id": "neAznpt3WGXK"
      }
    },
    {
      "cell_type": "markdown",
      "source": [],
      "metadata": {
        "id": "ZJBpKzq8WF7z"
      }
    },
    {
      "cell_type": "code",
      "source": [
        "l = [1, 2, 3]\n",
        "# id helps to print the  memory\n",
        "# referential array\n",
        "\n",
        "print(id(l))\n",
        "print(id(l[0]))\n",
        "print(id(l[1]))\n",
        "print(id(l[2]))\n",
        "\n",
        "print(id(1))\n",
        "print(id(2))\n",
        "print(id(3))"
      ],
      "metadata": {
        "colab": {
          "base_uri": "https://localhost:8080/"
        },
        "id": "0pFyjkPrbkz_",
        "outputId": "fd493c15-4eee-4a57-a782-c62be99ef68a"
      },
      "execution_count": null,
      "outputs": [
        {
          "output_type": "stream",
          "name": "stdout",
          "text": [
            "136263744352384\n",
            "136263964967152\n",
            "136263964967184\n",
            "136263964967216\n",
            "136263964967152\n",
            "136263964967184\n",
            "136263964967216\n"
          ]
        }
      ]
    },
    {
      "cell_type": "markdown",
      "source": [
        "# Characterstics of a List\n",
        "\n",
        "\n",
        "- Ordered\n",
        "- Changeable/Mutable\n",
        "- Hetrogeneous\n",
        "- Can be duplicated\n",
        "- are Dynamic\n",
        "- can be nested\n",
        "- items can be accessed by index\n",
        "- can contain any datatype in python"
      ],
      "metadata": {
        "id": "eZjmsiQAeCtf"
      }
    },
    {
      "cell_type": "code",
      "source": [],
      "metadata": {
        "id": "tVDKS-mabtS3"
      },
      "execution_count": null,
      "outputs": []
    },
    {
      "cell_type": "markdown",
      "source": [
        "# Creating a lists\n"
      ],
      "metadata": {
        "id": "fEYAEzi9gS2i"
      }
    },
    {
      "cell_type": "code",
      "source": [
        "# empty\n",
        "print([])\n",
        "L= []\n",
        "print(L)\n",
        "\n",
        "\n",
        "# 1D ->\n",
        "L = [1, 2, 3, 4, 5]\n",
        "print(L)\n",
        "\n",
        "# 2D ->\n",
        "L = [1, 2, 3, [4, 5, 6]]\n",
        "print(L)\n",
        "\n",
        "# 3D ->\n",
        "L = [[[1, 2], [3, 4]], [[5, 6], [7, 8]]]\n",
        "print(L)\n",
        "\n",
        "#Hetrogenous\n",
        "print(1, True, 5.9, 5+3j, 'z')\n",
        "\n",
        "# using type converstion\n",
        "print(list('hello'))\n",
        "print(list({1, 2, 3}))\n",
        "\n"
      ],
      "metadata": {
        "colab": {
          "base_uri": "https://localhost:8080/"
        },
        "id": "0zS0_AxFgX7h",
        "outputId": "4d83cd76-0dac-41af-8279-738f1872219a"
      },
      "execution_count": null,
      "outputs": [
        {
          "output_type": "stream",
          "name": "stdout",
          "text": [
            "[]\n",
            "[]\n",
            "[1, 2, 3, 4, 5]\n",
            "[1, 2, 3, [4, 5, 6]]\n",
            "[[[1, 2], [3, 4]], [[5, 6], [7, 8]]]\n",
            "1 True 5.9 (5+3j) z\n",
            "['h', 'e', 'l', 'l', 'o']\n",
            "[1, 2, 3]\n"
          ]
        }
      ]
    },
    {
      "cell_type": "markdown",
      "source": [
        "# Accessing items from a List\n",
        "- Indexing\n",
        "- Slicing"
      ],
      "metadata": {
        "id": "r1YgsR__hXL4"
      }
    },
    {
      "cell_type": "code",
      "source": [
        "l = [1, 2, 3, 4, 5]\n",
        "print(l[0])\n",
        "print(l[1])\n",
        "print(l[2])\n",
        "print(l[3])\n",
        "print(l[4])"
      ],
      "metadata": {
        "colab": {
          "base_uri": "https://localhost:8080/"
        },
        "id": "at8_73MChRS6",
        "outputId": "41366fd5-f0a6-4fad-e73d-5bc57c50ec6e"
      },
      "execution_count": null,
      "outputs": [
        {
          "output_type": "stream",
          "name": "stdout",
          "text": [
            "1\n",
            "2\n",
            "3\n",
            "4\n",
            "5\n"
          ]
        }
      ]
    },
    {
      "cell_type": "markdown",
      "source": [
        "# Accessing items from a lists"
      ],
      "metadata": {
        "id": "1IdzXfQRgLkM"
      }
    },
    {
      "cell_type": "code",
      "source": [
        " k = [1, 3, 5, 7, 9]\n",
        " print(k[4])"
      ],
      "metadata": {
        "id": "nztYeUjlhpUH",
        "colab": {
          "base_uri": "https://localhost:8080/"
        },
        "outputId": "e93da45f-7a5e-4619-af9e-6b519115ce7e"
      },
      "execution_count": null,
      "outputs": [
        {
          "output_type": "stream",
          "name": "stdout",
          "text": [
            "9\n"
          ]
        }
      ]
    },
    {
      "cell_type": "code",
      "source": [
        "w =  [1, 2, 3 ,4, [5, 6]]\n",
        "print(w[-1][-1])"
      ],
      "metadata": {
        "colab": {
          "base_uri": "https://localhost:8080/"
        },
        "id": "8KuO4uvWgPeI",
        "outputId": "d3463b75-a9d1-4f27-b299-e8a2c3a6fca8"
      },
      "execution_count": null,
      "outputs": [
        {
          "output_type": "stream",
          "name": "stdout",
          "text": [
            "6\n"
          ]
        }
      ]
    },
    {
      "cell_type": "code",
      "source": [
        "o = [[12, 4, 5 ],\n",
        "     [24, 5, 9, 0],\n",
        "      [ [45, 67],\n",
        "        [24, 69] ]\n",
        "     ]\n",
        "\n",
        "print(o[2][1][1])"
      ],
      "metadata": {
        "colab": {
          "base_uri": "https://localhost:8080/"
        },
        "id": "tmJSpaILgexT",
        "outputId": "ba2bdc10-0dcd-477c-95c3-2be89de7be6e"
      },
      "execution_count": null,
      "outputs": [
        {
          "output_type": "stream",
          "name": "stdout",
          "text": [
            "6\n"
          ]
        }
      ]
    },
    {
      "cell_type": "code",
      "source": [
        "v = [1, 3, 5, 8, 9, 2]\n",
        "print(v[1::1])"
      ],
      "metadata": {
        "colab": {
          "base_uri": "https://localhost:8080/"
        },
        "id": "FBTa7b0thQop",
        "outputId": "265dfd3b-fa8a-47b4-e29f-b7e03cad8e36"
      },
      "execution_count": null,
      "outputs": [
        {
          "output_type": "stream",
          "name": "stdout",
          "text": [
            "[3, 5, 8, 9, 2]\n"
          ]
        }
      ]
    },
    {
      "cell_type": "markdown",
      "source": [
        "# Adding items to a List\n"
      ],
      "metadata": {
        "id": "XyEM48WsixPX"
      }
    },
    {
      "cell_type": "code",
      "source": [
        "v.append(True)\n",
        "print(v)"
      ],
      "metadata": {
        "colab": {
          "base_uri": "https://localhost:8080/"
        },
        "id": "RQcEQWYjiuTU",
        "outputId": "84945280-7cf0-436a-94e1-4a512f7496c3"
      },
      "execution_count": null,
      "outputs": [
        {
          "output_type": "stream",
          "name": "stdout",
          "text": [
            "[1, 3, 5, 8, 9, 2, True, True, 2, 4, 5, 6, 9, True]\n"
          ]
        }
      ]
    },
    {
      "cell_type": "code",
      "source": [
        "v.extend([2, 4, 5, 6, 9])\n",
        "print(v)"
      ],
      "metadata": {
        "colab": {
          "base_uri": "https://localhost:8080/"
        },
        "id": "p2Ny0K0ai4sO",
        "outputId": "4e88fba8-e51a-472d-a8c9-70362807cea6"
      },
      "execution_count": null,
      "outputs": [
        {
          "output_type": "stream",
          "name": "stdout",
          "text": [
            "[1, 3, 5, 8, 9, 2, True, True, 2, 4, 5, 6, 9, True, 2, 4, 5, 6, 9]\n"
          ]
        }
      ]
    },
    {
      "cell_type": "code",
      "source": [
        "v.append([3, 56, 67])\n",
        "print(v)"
      ],
      "metadata": {
        "colab": {
          "base_uri": "https://localhost:8080/"
        },
        "id": "qxMPpScgjCTg",
        "outputId": "c94816d1-00a4-44c4-e1a2-45fb35213b29"
      },
      "execution_count": null,
      "outputs": [
        {
          "output_type": "stream",
          "name": "stdout",
          "text": [
            "[1, 3, 5, 8, 9, 2, True, True, 2, 4, 5, 6, 9, True, 2, 4, 5, 6, 9, [3, 56, 67]]\n"
          ]
        }
      ]
    },
    {
      "cell_type": "code",
      "source": [
        "v.extend('Odisha')\n",
        "print(v)"
      ],
      "metadata": {
        "colab": {
          "base_uri": "https://localhost:8080/"
        },
        "id": "aCTTUuoSjaq6",
        "outputId": "45cf1b5e-e2bd-4988-cb5f-1c6dc67855c2"
      },
      "execution_count": null,
      "outputs": [
        {
          "output_type": "stream",
          "name": "stdout",
          "text": [
            "[1, 3, 5, 8, 9, 2, True, True, 2, 4, 5, 6, 9, True, 2, 4, 5, 6, 9, [3, 56, 67], 'O', 'd', 'i', 's', 'h', 'a']\n"
          ]
        }
      ]
    },
    {
      "cell_type": "code",
      "source": [
        "# insert\n",
        "# index place, what to place\n",
        "\n",
        "v.insert(0, 'hello')\n",
        "print(v)"
      ],
      "metadata": {
        "colab": {
          "base_uri": "https://localhost:8080/"
        },
        "id": "Z8ZLVlRCjuqk",
        "outputId": "a29d6b5e-0549-4979-854f-cbdeb50e9993"
      },
      "execution_count": null,
      "outputs": [
        {
          "output_type": "stream",
          "name": "stdout",
          "text": [
            "['hello', 1, 3, 5, 8, 9, 2, True, True, 2, 4, 5, 6, 9, True, 2, 4, 5, 6, 9, [3, 56, 67], 'O', 'd', 'i', 's', 'h', 'a']\n"
          ]
        }
      ]
    },
    {
      "cell_type": "markdown",
      "source": [
        "# Editing"
      ],
      "metadata": {
        "id": "o-fOVoKfkuo9"
      }
    },
    {
      "cell_type": "code",
      "source": [
        "v[1] = 'Rudra'\n",
        "print(v)"
      ],
      "metadata": {
        "colab": {
          "base_uri": "https://localhost:8080/"
        },
        "id": "lgtoe25vj6E0",
        "outputId": "07f102ad-b5c9-4563-a209-d2adb2b3dcc3"
      },
      "execution_count": null,
      "outputs": [
        {
          "output_type": "stream",
          "name": "stdout",
          "text": [
            "['hello', 'Rudra', 3, 5, 8, 9, 2, True, True, 2, 4, 5, 6, 9, True, 2, 4, 5, 6, 9, [3, 56, 67], 'O', 'd', 'i', 's', 'h', 'a']\n"
          ]
        }
      ]
    },
    {
      "cell_type": "code",
      "source": [
        "v[3:5] = [300, 400, 500]\n",
        "print(v)"
      ],
      "metadata": {
        "colab": {
          "base_uri": "https://localhost:8080/"
        },
        "id": "nqWRiFbokBcN",
        "outputId": "93b8bf2e-4a94-4b49-8dc3-4aabfc7f7277"
      },
      "execution_count": null,
      "outputs": [
        {
          "output_type": "stream",
          "name": "stdout",
          "text": [
            "['hello', 'Rudra', 3, 300, 400, 500, 5, 9, 2, True, True, 2, 4, 5, 6, 9, True, 2, 4, 5, 6, 9, [3, 56, 67], 'O', 'd', 'i', 's', 'h', 'a']\n"
          ]
        }
      ]
    },
    {
      "cell_type": "code",
      "source": [],
      "metadata": {
        "id": "M9k9A8JWkjKT"
      },
      "execution_count": null,
      "outputs": []
    },
    {
      "cell_type": "markdown",
      "source": [
        "# deleting items\n",
        "- del\n",
        "- reomve\n",
        "- pop\n",
        "- clear"
      ],
      "metadata": {
        "id": "jJTKAtV2kxDd"
      }
    },
    {
      "cell_type": "code",
      "source": [
        "h = [1,2,3,4,5,6,7,8,9]\n",
        "del h[0]\n",
        "print(h)"
      ],
      "metadata": {
        "colab": {
          "base_uri": "https://localhost:8080/"
        },
        "id": "hlAPTL8dkzHJ",
        "outputId": "ee122d39-ee6e-4dbd-c325-cc39f7d03bbb"
      },
      "execution_count": null,
      "outputs": [
        {
          "output_type": "stream",
          "name": "stdout",
          "text": [
            "[2, 3, 4, 5, 6, 7, 8, 9]\n"
          ]
        }
      ]
    },
    {
      "cell_type": "code",
      "source": [
        "del h[:3]\n",
        "print(h)"
      ],
      "metadata": {
        "colab": {
          "base_uri": "https://localhost:8080/"
        },
        "id": "_UJwChi6lChT",
        "outputId": "84875811-b3b5-48c3-9aea-821436d4aad9"
      },
      "execution_count": null,
      "outputs": [
        {
          "output_type": "stream",
          "name": "stdout",
          "text": [
            "[2, 5, 6, 7, 8, 9]\n"
          ]
        }
      ]
    },
    {
      "cell_type": "code",
      "source": [
        "# reomve\n",
        "\n",
        "h.remove(8)\n",
        "print(h)"
      ],
      "metadata": {
        "colab": {
          "base_uri": "https://localhost:8080/"
        },
        "id": "ROyJvUU1lJBg",
        "outputId": "50223ac3-8b05-4a2b-90fe-13e588e8ceff"
      },
      "execution_count": null,
      "outputs": [
        {
          "output_type": "stream",
          "name": "stdout",
          "text": [
            "[2, 5, 6, 7, 9]\n"
          ]
        }
      ]
    },
    {
      "cell_type": "code",
      "source": [
        "# pop\n",
        "\n",
        "h.pop(0)\n",
        "print(h)"
      ],
      "metadata": {
        "colab": {
          "base_uri": "https://localhost:8080/"
        },
        "id": "jhxRpIOhlU4a",
        "outputId": "28690aeb-6278-4386-d015-bc5298e3cdc4"
      },
      "execution_count": null,
      "outputs": [
        {
          "output_type": "stream",
          "name": "stdout",
          "text": [
            "[5, 6, 7, 9]\n"
          ]
        }
      ]
    },
    {
      "cell_type": "code",
      "source": [
        "# del last value\n",
        "# deflut is -1 (Last is deleted)\n",
        "h.pop()\n",
        "print(h)"
      ],
      "metadata": {
        "colab": {
          "base_uri": "https://localhost:8080/"
        },
        "id": "c69GHLHtlh-D",
        "outputId": "f3df8a41-c856-42e4-9d2e-f995e39fe6be"
      },
      "execution_count": null,
      "outputs": [
        {
          "output_type": "stream",
          "name": "stdout",
          "text": [
            "[5, 6, 7]\n"
          ]
        }
      ]
    },
    {
      "cell_type": "code",
      "source": [
        "# clear\n",
        "# empty the list\n",
        "\n",
        "h.clear()\n",
        "print(h)"
      ],
      "metadata": {
        "colab": {
          "base_uri": "https://localhost:8080/"
        },
        "id": "ePfSeZ5mlt4G",
        "outputId": "e3807f2a-0ec3-42d6-9115-d1e7ce0b80c3"
      },
      "execution_count": null,
      "outputs": [
        {
          "output_type": "stream",
          "name": "stdout",
          "text": [
            "[]\n"
          ]
        }
      ]
    },
    {
      "cell_type": "code",
      "source": [],
      "metadata": {
        "id": "UtaeOqPplxHd"
      },
      "execution_count": null,
      "outputs": []
    },
    {
      "cell_type": "markdown",
      "source": [
        "# Operations on Lists\n",
        "- Arithmetic\n",
        "- Membership\n",
        "- Loop"
      ],
      "metadata": {
        "id": "_2Q7Oatel-GE"
      }
    },
    {
      "cell_type": "code",
      "source": [
        "# Arithmetic ( +, *)\n",
        "\n",
        "l1 = [1, 2, 3]\n",
        "l2 = [4, 5, 6]\n",
        "\n",
        "print(l1 + l2)\n",
        "print(l1 * 3)\n"
      ],
      "metadata": {
        "colab": {
          "base_uri": "https://localhost:8080/"
        },
        "id": "duNu_Jg_mIFI",
        "outputId": "2ddd3831-6055-4679-ef78-fd5bc23d4ced"
      },
      "execution_count": null,
      "outputs": [
        {
          "output_type": "stream",
          "name": "stdout",
          "text": [
            "[1, 2, 3, 4, 5, 6]\n",
            "[1, 2, 3, 1, 2, 3, 1, 2, 3]\n"
          ]
        }
      ]
    },
    {
      "cell_type": "code",
      "source": [
        "# Membership\n",
        "\n",
        "print(1 in l1)\n",
        "print(1 not in l1)\n"
      ],
      "metadata": {
        "colab": {
          "base_uri": "https://localhost:8080/"
        },
        "id": "5gKo__FUmQT5",
        "outputId": "e7188f60-25b0-44a6-f952-f97f8c19207b"
      },
      "execution_count": null,
      "outputs": [
        {
          "output_type": "stream",
          "name": "stdout",
          "text": [
            "True\n",
            "False\n"
          ]
        }
      ]
    },
    {
      "cell_type": "code",
      "source": [
        "\n",
        "k = [1, 2, 3, [4, 5, 6]]\n",
        "print([4, 5, 6] in k)"
      ],
      "metadata": {
        "colab": {
          "base_uri": "https://localhost:8080/"
        },
        "id": "EP3MtU_tmgIU",
        "outputId": "ebbbc039-c6c5-4976-94d8-f131b4abdf2f"
      },
      "execution_count": null,
      "outputs": [
        {
          "output_type": "stream",
          "name": "stdout",
          "text": [
            "True\n"
          ]
        }
      ]
    },
    {
      "cell_type": "code",
      "source": [
        "# loop\n",
        "\n",
        "for i in k:\n",
        "  print(i)"
      ],
      "metadata": {
        "colab": {
          "base_uri": "https://localhost:8080/"
        },
        "id": "hr4jL546m5lU",
        "outputId": "1b0b5f22-e4d4-4003-a0b9-2e467d0c538b"
      },
      "execution_count": null,
      "outputs": [
        {
          "output_type": "stream",
          "name": "stdout",
          "text": [
            "1\n",
            "2\n",
            "3\n",
            "[4, 5, 6]\n"
          ]
        }
      ]
    },
    {
      "cell_type": "code",
      "source": [
        "o = [\n",
        "     [12, 4, 5 ],\n",
        "     [24, 5, 9, 0],\n",
        "     [ [45, 67],\n",
        "       [24, 69] ]\n",
        "     ]\n",
        "\n",
        "for i in o:\n",
        "  print(i)"
      ],
      "metadata": {
        "colab": {
          "base_uri": "https://localhost:8080/"
        },
        "id": "B3DTUnTQnPRv",
        "outputId": "71582e9f-626e-4f41-d2d3-6c463f5ca278"
      },
      "execution_count": null,
      "outputs": [
        {
          "output_type": "stream",
          "name": "stdout",
          "text": [
            "[12, 4, 5]\n",
            "[24, 5, 9, 0]\n",
            "[[45, 67], [24, 69]]\n"
          ]
        }
      ]
    },
    {
      "cell_type": "markdown",
      "source": [
        "# List Function\n",
        "- len/ min/ max/ sorted\n",
        "- count\n",
        "- reverse\n",
        "- sort (vs sorted )\n",
        "- copy\n",
        "-"
      ],
      "metadata": {
        "id": "jSs0hC-TmiZK"
      }
    },
    {
      "cell_type": "code",
      "source": [
        "r1 = [1, 2, 3, 4, 5]\n",
        "print('Length of the function is :', len(r1))\n",
        "print('Minimum item in the function is :', min(r1))\n",
        "print('Maximum item in  the function is :', max(r1))\n",
        "print('Sorted of the function is :', sorted(r1)) # reverse = True (parameter)"
      ],
      "metadata": {
        "colab": {
          "base_uri": "https://localhost:8080/"
        },
        "id": "rNFhDGxXmlsj",
        "outputId": "0be818cb-9f35-4edd-e4c9-92231695314b"
      },
      "execution_count": null,
      "outputs": [
        {
          "output_type": "stream",
          "name": "stdout",
          "text": [
            "Length of the function is : 5\n",
            "Minimum item in the function is : 1\n",
            "Maximum item in  the function is : 5\n",
            "Sorted of the function is : [1, 2, 3, 4, 5]\n"
          ]
        }
      ]
    },
    {
      "cell_type": "code",
      "source": [
        "# count\n",
        "r2 = [2, 3, 4, 5, 2, 4, 2, 3, 2, 1, 3]\n",
        "print(r2.count(2))\n",
        "print(r2.count(3))"
      ],
      "metadata": {
        "colab": {
          "base_uri": "https://localhost:8080/"
        },
        "id": "36skJHGknxX2",
        "outputId": "fbcdaf1c-38bb-4d81-d472-e07b1cdce222"
      },
      "execution_count": null,
      "outputs": [
        {
          "output_type": "stream",
          "name": "stdout",
          "text": [
            "4\n",
            "3\n"
          ]
        }
      ]
    },
    {
      "cell_type": "code",
      "source": [
        "r3 = [1, 2, 3, 4, 1, 5,  5]\n",
        "r3.index(2)\n",
        "r3.index(5) # first occurence"
      ],
      "metadata": {
        "colab": {
          "base_uri": "https://localhost:8080/"
        },
        "id": "T8eAFuu3olGY",
        "outputId": "1acb10d1-f14c-4287-e8c0-67f0061d5a90"
      },
      "execution_count": null,
      "outputs": [
        {
          "output_type": "execute_result",
          "data": {
            "text/plain": [
              "5"
            ]
          },
          "metadata": {},
          "execution_count": 51
        }
      ]
    },
    {
      "cell_type": "code",
      "source": [
        "r4 = [1, 2, 3, 4, 5]\n",
        "r4.reverse() # paramanet\n",
        "print(r4)"
      ],
      "metadata": {
        "colab": {
          "base_uri": "https://localhost:8080/"
        },
        "id": "uhCSKtamoaNL",
        "outputId": "5899935d-6c1c-4a14-c386-ee35522fb9c9"
      },
      "execution_count": null,
      "outputs": [
        {
          "output_type": "stream",
          "name": "stdout",
          "text": [
            "[5, 4, 3, 2, 1]\n"
          ]
        }
      ]
    },
    {
      "cell_type": "code",
      "source": [
        "# sorted -> parmanet\n",
        "# sort -> temporary\n",
        "\n",
        "r5 = [1, 2, 3, 4, 5]\n",
        "print(r5)\n",
        "print(sorted(r5))\n",
        "print(r5)\n",
        "\n",
        "r5.sort()\n",
        "print(r5)"
      ],
      "metadata": {
        "colab": {
          "base_uri": "https://localhost:8080/"
        },
        "id": "bUoRpD1moaT_",
        "outputId": "29bfe6a6-a1ad-4661-89a1-a94043768983"
      },
      "execution_count": null,
      "outputs": [
        {
          "output_type": "stream",
          "name": "stdout",
          "text": [
            "[1, 2, 3, 4, 5]\n",
            "[1, 2, 3, 4, 5]\n",
            "[1, 2, 3, 4, 5]\n",
            "[1, 2, 3, 4, 5]\n"
          ]
        }
      ]
    },
    {
      "cell_type": "code",
      "source": [
        "# copy\n",
        "# deep copu / shallow copy\n",
        "r6 = [1, 2, 3, 4, 5]\n",
        "r7 = r6.copy()\n",
        "print(r6)\n",
        "print(r7)"
      ],
      "metadata": {
        "colab": {
          "base_uri": "https://localhost:8080/"
        },
        "id": "-xoBHVCZpSks",
        "outputId": "b77cad9a-e1fa-450c-cb23-bd761b135e35"
      },
      "execution_count": null,
      "outputs": [
        {
          "output_type": "stream",
          "name": "stdout",
          "text": [
            "[1, 2, 3, 4, 5]\n",
            "[1, 2, 3, 4, 5]\n"
          ]
        }
      ]
    },
    {
      "cell_type": "code",
      "source": [],
      "metadata": {
        "id": "o2aoJYKVpl-M"
      },
      "execution_count": null,
      "outputs": []
    },
    {
      "cell_type": "markdown",
      "source": [
        "# List Comperehension\n",
        "```\n",
        "new_list = [ Expression for item in iterable if condition == True ]\n",
        "```\n",
        "it provie a consie way of creting lists."
      ],
      "metadata": {
        "id": "YgkTVgngp5h9"
      }
    },
    {
      "cell_type": "code",
      "source": [
        "# adding 1 to 10 number ro a lists\n",
        "\n",
        "l1 = []\n",
        "for i in range(1, 11):\n",
        "  l1.append(i)\n",
        "print(l1)"
      ],
      "metadata": {
        "colab": {
          "base_uri": "https://localhost:8080/"
        },
        "id": "gvv9zq1tqEB0",
        "outputId": "5a3e164d-b86e-4446-a150-564cacfce9b4"
      },
      "execution_count": null,
      "outputs": [
        {
          "output_type": "stream",
          "name": "stdout",
          "text": [
            "[1, 2, 3, 4, 5, 6, 7, 8, 9, 10]\n"
          ]
        }
      ]
    },
    {
      "cell_type": "code",
      "source": [
        "l = [i for i in range(1, 11)]\n",
        "print(l)"
      ],
      "metadata": {
        "colab": {
          "base_uri": "https://localhost:8080/"
        },
        "id": "g-Lufe9iqknm",
        "outputId": "da93446e-86fe-4588-d3aa-a4061ebb1753"
      },
      "execution_count": null,
      "outputs": [
        {
          "output_type": "stream",
          "name": "stdout",
          "text": [
            "[1, 2, 3, 4, 5, 6, 7, 8, 9, 10]\n"
          ]
        }
      ]
    },
    {
      "cell_type": "code",
      "source": [
        "# scalr multiplication\n",
        "\n",
        "l2 = [i*2 for i in range(1, 11)]\n",
        "print(l2)"
      ],
      "metadata": {
        "colab": {
          "base_uri": "https://localhost:8080/"
        },
        "id": "Z1Bu7sOfq2rw",
        "outputId": "20bb27f1-6510-4ec9-f98a-06b5669a2a81"
      },
      "execution_count": null,
      "outputs": [
        {
          "output_type": "stream",
          "name": "stdout",
          "text": [
            "[2, 4, 6, 8, 10, 12, 14, 16, 18, 20]\n"
          ]
        }
      ]
    },
    {
      "cell_type": "code",
      "source": [
        "v = [2, 3, 4 ]\n",
        "s = -3\n",
        "l3 = [i*s for i in v]\n",
        "print(l3)"
      ],
      "metadata": {
        "colab": {
          "base_uri": "https://localhost:8080/"
        },
        "id": "bK8VjRMSrEH5",
        "outputId": "6858cff9-0f4e-423b-8085-8b94d687a134"
      },
      "execution_count": null,
      "outputs": [
        {
          "output_type": "stream",
          "name": "stdout",
          "text": [
            "[-6, -9, -12]\n"
          ]
        }
      ]
    },
    {
      "cell_type": "code",
      "source": [
        "# add square\n",
        "\n",
        "l4 = [i**2 for i in range(1, 6)]\n",
        "print(l4)"
      ],
      "metadata": {
        "colab": {
          "base_uri": "https://localhost:8080/"
        },
        "id": "uESx8GONrOyZ",
        "outputId": "6859b1ef-4784-47ee-dd1a-043cd5229a1d"
      },
      "execution_count": null,
      "outputs": [
        {
          "output_type": "stream",
          "name": "stdout",
          "text": [
            "[1, 4, 9, 16, 25]\n"
          ]
        }
      ]
    },
    {
      "cell_type": "code",
      "source": [
        "# print all numbers divisible by 5 in the range of 1 to 50\n",
        "l5 = [i for i in range(1, 51) if i%5 == 0]"
      ],
      "metadata": {
        "id": "W24luIYtr8fY"
      },
      "execution_count": null,
      "outputs": []
    },
    {
      "cell_type": "code",
      "source": [
        "# words start with p\n",
        "words = ['apple', 'banana', 'cherry', 'date', 'elderberry', 'python', 'php', 'pandas']\n",
        "l6 = [word for word in words if word.startswith('p')]\n",
        "print(l6)"
      ],
      "metadata": {
        "colab": {
          "base_uri": "https://localhost:8080/"
        },
        "id": "W3SyFOcdsH6T",
        "outputId": "20e574ca-63d2-4ace-8ec6-54eb5def6f18"
      },
      "execution_count": null,
      "outputs": [
        {
          "output_type": "stream",
          "name": "stdout",
          "text": [
            "['python', 'php', 'pandas']\n"
          ]
        }
      ]
    },
    {
      "cell_type": "code",
      "source": [
        "# nested if\n",
        "\n",
        "l7 = [i for i in range(1, 101) if i%5 == 0 if i%7 == 0]\n",
        "print(l7)"
      ],
      "metadata": {
        "colab": {
          "base_uri": "https://localhost:8080/"
        },
        "id": "Naq1W4ofsUE1",
        "outputId": "0a39d57a-7036-4da5-be9d-574b4de66a2f"
      },
      "execution_count": null,
      "outputs": [
        {
          "output_type": "stream",
          "name": "stdout",
          "text": [
            "[35, 70]\n"
          ]
        }
      ]
    },
    {
      "cell_type": "code",
      "source": [
        "# matrix\n",
        "\n",
        "[ [i*j for i in range(1, 4)] for j in range(1, 4)]"
      ],
      "metadata": {
        "colab": {
          "base_uri": "https://localhost:8080/"
        },
        "id": "LCtbcLn_tXyj",
        "outputId": "a6970494-a7eb-462d-befb-3c5e0649bfd1"
      },
      "execution_count": null,
      "outputs": [
        {
          "output_type": "execute_result",
          "data": {
            "text/plain": [
              "[[1, 2, 3], [2, 4, 6], [3, 6, 9]]"
            ]
          },
          "metadata": {},
          "execution_count": 74
        }
      ]
    },
    {
      "cell_type": "code",
      "source": [
        "# pairing\n",
        "g = [1, 2, 3]\n",
        "h = [4, 5, 6]\n",
        "l8 = [(i, j) for i in g for j in h]\n",
        "print(l8)"
      ],
      "metadata": {
        "colab": {
          "base_uri": "https://localhost:8080/"
        },
        "id": "vYJDJoUYtp8m",
        "outputId": "d593a823-3b0e-42a5-b02f-ea2aeee9bbf6"
      },
      "execution_count": null,
      "outputs": [
        {
          "output_type": "stream",
          "name": "stdout",
          "text": [
            "[(1, 4), (1, 5), (1, 6), (2, 4), (2, 5), (2, 6), (3, 4), (3, 5), (3, 6)]\n"
          ]
        }
      ]
    },
    {
      "cell_type": "code",
      "source": [
        "# cartesian product\n",
        "\n",
        "g = [1, 2, 3]\n",
        "h = [4, 5, 6]\n",
        "l9 = [ i*j for i in g for j in h]\n",
        "print(l9)"
      ],
      "metadata": {
        "colab": {
          "base_uri": "https://localhost:8080/"
        },
        "id": "5XWzMIbBuEkT",
        "outputId": "97697d65-c17b-4468-8c6e-320b686474cc"
      },
      "execution_count": null,
      "outputs": [
        {
          "output_type": "stream",
          "name": "stdout",
          "text": [
            "[4, 5, 6, 8, 10, 12, 12, 15, 18]\n"
          ]
        }
      ]
    },
    {
      "cell_type": "code",
      "source": [],
      "metadata": {
        "id": "yU3Pe0_UuZd2"
      },
      "execution_count": null,
      "outputs": []
    },
    {
      "cell_type": "markdown",
      "source": [
        "# 2 way to traverse a list\n",
        "- iteam-wise\n",
        "- index-wise"
      ],
      "metadata": {
        "id": "CHi_fGZ9un04"
      }
    },
    {
      "cell_type": "code",
      "source": [
        "# item wise\n",
        "\n",
        "for l in l9:\n",
        "  print(l)"
      ],
      "metadata": {
        "colab": {
          "base_uri": "https://localhost:8080/"
        },
        "id": "TwkwinMIvORc",
        "outputId": "ab1af331-8db5-40fd-c760-111929bdb9d7"
      },
      "execution_count": null,
      "outputs": [
        {
          "output_type": "stream",
          "name": "stdout",
          "text": [
            "4\n",
            "5\n",
            "6\n",
            "8\n",
            "10\n",
            "12\n",
            "12\n",
            "15\n",
            "18\n"
          ]
        }
      ]
    },
    {
      "cell_type": "code",
      "source": [
        "# idexwise\n",
        "y = [1, 2, 3, 4, 5]\n",
        "\n",
        "for i in range(0, len(y)):\n",
        "  print(y[i])"
      ],
      "metadata": {
        "colab": {
          "base_uri": "https://localhost:8080/"
        },
        "id": "ObZKuI2QvRCE",
        "outputId": "af6257e2-1d45-4f17-e140-18541ece5bb1"
      },
      "execution_count": null,
      "outputs": [
        {
          "output_type": "stream",
          "name": "stdout",
          "text": [
            "1\n",
            "2\n",
            "3\n",
            "4\n",
            "5\n"
          ]
        }
      ]
    },
    {
      "cell_type": "code",
      "source": [
        "# idexwise\n",
        "y = [1, 2, 3, 4, 5]\n",
        "\n",
        "for i in range(len(y)):\n",
        "  print(y)"
      ],
      "metadata": {
        "colab": {
          "base_uri": "https://localhost:8080/"
        },
        "id": "F06P6AQDvmxv",
        "outputId": "55d81163-aac3-4b63-ed3a-6388d1a7544c"
      },
      "execution_count": null,
      "outputs": [
        {
          "output_type": "stream",
          "name": "stdout",
          "text": [
            "[1, 2, 3, 4, 5]\n",
            "[1, 2, 3, 4, 5]\n",
            "[1, 2, 3, 4, 5]\n",
            "[1, 2, 3, 4, 5]\n",
            "[1, 2, 3, 4, 5]\n"
          ]
        }
      ]
    },
    {
      "cell_type": "markdown",
      "source": [
        "# Zip"
      ],
      "metadata": {
        "id": "CYdd0-Ggv-j3"
      }
    },
    {
      "cell_type": "code",
      "source": [
        "# The zip function returns a zip object, which is an iterator of tuples where the first item in each passed iterator is paired together, and then the second item in each passed iterator are paired together\n",
        "# and then the second item in each passed iterator are paired together etc.\n",
        "\n",
        "# If the passed iterators have different lengths, the iterator with the least items decides the length of the new iterator."
      ],
      "metadata": {
        "id": "G6rkYOycwA3J"
      },
      "execution_count": null,
      "outputs": []
    },
    {
      "cell_type": "code",
      "source": [
        "b1 = [1, 2, 3]\n",
        "b2 = [4, 5, 6, 4]\n",
        "\n",
        "print(list(zip(b1, b2)))"
      ],
      "metadata": {
        "colab": {
          "base_uri": "https://localhost:8080/"
        },
        "id": "X2Ip9vkLwcKr",
        "outputId": "98e52e22-de34-4ee3-c1fc-b41c16c8cddd"
      },
      "execution_count": null,
      "outputs": [
        {
          "output_type": "stream",
          "name": "stdout",
          "text": [
            "[(1, 4), (2, 5), (3, 6)]\n"
          ]
        }
      ]
    },
    {
      "cell_type": "code",
      "source": [
        "[i+j for i,j in zip(b1, b2)]"
      ],
      "metadata": {
        "colab": {
          "base_uri": "https://localhost:8080/"
        },
        "id": "VK3vmJbnwpw-",
        "outputId": "b79383e5-82b0-436c-8690-2e197a5043ee"
      },
      "execution_count": null,
      "outputs": [
        {
          "output_type": "execute_result",
          "data": {
            "text/plain": [
              "[5, 7, 9]"
            ]
          },
          "metadata": {},
          "execution_count": 89
        }
      ]
    },
    {
      "cell_type": "code",
      "source": [
        "m = [1, 7, True, 5+3j, input, 'hello', print]\n",
        "print(m)"
      ],
      "metadata": {
        "colab": {
          "base_uri": "https://localhost:8080/"
        },
        "id": "VuisK4yUw2Sa",
        "outputId": "8d252d5b-e007-4e28-b459-5fff474559db"
      },
      "execution_count": null,
      "outputs": [
        {
          "output_type": "stream",
          "name": "stdout",
          "text": [
            "[1, 7, True, (5+3j), <bound method Kernel.raw_input of <google.colab._kernel.Kernel object at 0x7dd2712c4af0>>, 'hello', <built-in function print>]\n"
          ]
        }
      ]
    },
    {
      "cell_type": "code",
      "source": [
        "a = [1, 2, 3]\n",
        "b = a.copy()\n",
        "\n",
        "print(a)\n",
        "print(b)\n",
        "\n",
        "a.append(4)\n",
        "print(a)\n",
        "print(b)"
      ],
      "metadata": {
        "colab": {
          "base_uri": "https://localhost:8080/"
        },
        "id": "ObSTQVFfeost",
        "outputId": "bc5d2823-da3d-49bc-f47d-b9604052ca54"
      },
      "execution_count": null,
      "outputs": [
        {
          "output_type": "stream",
          "name": "stdout",
          "text": [
            "[1, 2, 3]\n",
            "[1, 2, 3]\n",
            "[1, 2, 3, 4]\n",
            "[1, 2, 3]\n"
          ]
        }
      ]
    }
  ]
}