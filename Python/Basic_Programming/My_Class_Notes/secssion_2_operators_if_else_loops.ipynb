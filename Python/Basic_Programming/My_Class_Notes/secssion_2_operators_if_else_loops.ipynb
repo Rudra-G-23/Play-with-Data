{
  "nbformat": 4,
  "nbformat_minor": 0,
  "metadata": {
    "colab": {
      "provenance": [],
      "cell_execution_strategy": "setup"
    },
    "kernelspec": {
      "name": "python3",
      "display_name": "Python 3"
    },
    "language_info": {
      "name": "python"
    }
  },
  "cells": [
    {
      "cell_type": "markdown",
      "source": [
        "Hello Data points 😄\n",
        "\n",
        "\n",
        "# My Class Notes\n",
        "\n",
        "**By Rudra**\n",
        "\n",
        "> Hi everyone, these are my class notes from one of my favorite teachers, Nitesh sir.\n",
        "\n",
        "\n",
        "\n",
        "Class- [Link](#https://www.youtube.com/live/JCkIrdrZEE8?si=won2bqyqVwctdlZf)"
      ],
      "metadata": {
        "id": "Rw0ro4PSduYH"
      }
    },
    {
      "cell_type": "code",
      "execution_count": null,
      "metadata": {
        "colab": {
          "base_uri": "https://localhost:8080/"
        },
        "id": "rlN_ODj0d8Kp",
        "outputId": "91a094b6-c627-49c5-cf0a-9f43edcda060"
      },
      "outputs": [
        {
          "output_type": "stream",
          "name": "stdout",
          "text": [
            "Arithmetic Operators:\n",
            "+ Addition\n",
            "- Subtraction\n",
            "* Multiplication\n",
            "/ Division\n",
            "// Floor Division\n",
            "% Modulus\n",
            "** Exponentiation\n",
            "\n",
            "Comparison Operators:\n",
            "== Equal to\n",
            "!= Not equal to\n",
            "> Greater than\n",
            "< Less than\n",
            ">= Greater than or equal to\n",
            "<= Less than or equal to\n",
            "\n",
            "Logical Operators:\n",
            "and Logical AND\n",
            "or Logical OR\n",
            "not Logical NOT\n",
            "\n",
            "Bitwise Operators:\n",
            "& Bitwise AND\n",
            "| Bitwise OR\n",
            "^ Bitwise XOR\n",
            "~ Bitwise NOT\n",
            "<< Left shift\n",
            ">> Right shift\n",
            "\n",
            "Assignment Operators:\n",
            "= Assignment\n",
            "+= Add and assign\n",
            "-= Subtract and assign\n",
            "*= Multiply and assign\n",
            "/= Divide and assign\n",
            "//= Floor divide and assign\n",
            "%= Modulus and assign\n",
            "**= Exponentiate and assign\n",
            "&= Bitwise AND and assign\n",
            "|= Bitwise OR and assign\n",
            "^= Bitwise XOR and assign\n",
            "<<= Left shift and assign\n",
            ">>= Right shift and assign\n",
            "\n",
            "Identity Operators:\n",
            "is Returns True if both variables are the same object\n",
            "is not Returns True if both variables are not the same object\n",
            "\n",
            "Membership Operators:\n",
            "in Returns True if a sequence with the specified value is present in the object\n",
            "not in Returns True if a sequence with the specified value is not present in the object\n"
          ]
        }
      ],
      "source": [
        "# prompt: write in text ox all operators\n",
        "\n",
        "print(\"Arithmetic Operators:\")\n",
        "print(\"+ Addition\")\n",
        "print(\"- Subtraction\")\n",
        "print(\"* Multiplication\")\n",
        "print(\"/ Division\")\n",
        "print(\"// Floor Division\")\n",
        "print(\"% Modulus\")\n",
        "print(\"** Exponentiation\")\n",
        "\n",
        "print(\"\\nComparison Operators:\")\n",
        "print(\"== Equal to\")\n",
        "print(\"!= Not equal to\")\n",
        "print(\"> Greater than\")\n",
        "print(\"< Less than\")\n",
        "print(\">= Greater than or equal to\")\n",
        "print(\"<= Less than or equal to\")\n",
        "\n",
        "print(\"\\nLogical Operators:\")\n",
        "print(\"and Logical AND\")\n",
        "print(\"or Logical OR\")\n",
        "print(\"not Logical NOT\")\n",
        "\n",
        "print(\"\\nBitwise Operators:\")\n",
        "print(\"& Bitwise AND\")\n",
        "print(\"| Bitwise OR\")\n",
        "print(\"^ Bitwise XOR\")\n",
        "print(\"~ Bitwise NOT\")\n",
        "print(\"<< Left shift\")\n",
        "print(\">> Right shift\")\n",
        "\n",
        "print(\"\\nAssignment Operators:\")\n",
        "print(\"= Assignment\")\n",
        "print(\"+= Add and assign\")\n",
        "print(\"-= Subtract and assign\")\n",
        "print(\"*= Multiply and assign\")\n",
        "print(\"/= Divide and assign\")\n",
        "print(\"//= Floor divide and assign\")\n",
        "print(\"%= Modulus and assign\")\n",
        "print(\"**= Exponentiate and assign\")\n",
        "print(\"&= Bitwise AND and assign\")\n",
        "print(\"|= Bitwise OR and assign\")\n",
        "print(\"^= Bitwise XOR and assign\")\n",
        "print(\"<<= Left shift and assign\")\n",
        "print(\">>= Right shift and assign\")\n",
        "\n",
        "print(\"\\nIdentity Operators:\")\n",
        "print(\"is Returns True if both variables are the same object\")\n",
        "print(\"is not Returns True if both variables are not the same object\")\n",
        "\n",
        "print(\"\\nMembership Operators:\")\n",
        "print(\"in Returns True if a sequence with the specified value is present in the object\")\n",
        "print(\"not in Returns True if a sequence with the specified value is not present in the object\")\n"
      ]
    },
    {
      "cell_type": "code",
      "source": [
        "# Arithmetic Operators\n",
        "\n",
        "print(5 + 2)\n",
        "print(10 - 3)\n",
        "print(4 * 6)\n",
        "print(15 / 4)\n",
        "print(15 // 4)\n",
        "print(15 % 4)\n",
        "print(2 ** 3)"
      ],
      "metadata": {
        "colab": {
          "base_uri": "https://localhost:8080/"
        },
        "id": "Qu7zQjh7e-S2",
        "outputId": "251ea197-675d-4086-a8c9-fdb0ca99fa2f"
      },
      "execution_count": null,
      "outputs": [
        {
          "output_type": "stream",
          "name": "stdout",
          "text": [
            "7\n",
            "7\n",
            "24\n",
            "3.75\n",
            "3\n",
            "3\n",
            "8\n"
          ]
        }
      ]
    },
    {
      "cell_type": "code",
      "source": [
        "# Reakational Oprators\n",
        "\n",
        "print(5 == 9)\n",
        "\n",
        "print(5 != 3)\n",
        "\n",
        "print(8 > 3)\n",
        "\n",
        "print(2 < 7)\n",
        "\n",
        "print(6 >= 5)\n",
        "\n",
        "print(4 <= 7)"
      ],
      "metadata": {
        "colab": {
          "base_uri": "https://localhost:8080/"
        },
        "id": "fe4l9MyHfNIS",
        "outputId": "e851769f-d789-4314-b906-8fb2a3779f6c"
      },
      "execution_count": null,
      "outputs": [
        {
          "output_type": "stream",
          "name": "stdout",
          "text": [
            "False\n",
            "True\n",
            "True\n",
            "True\n",
            "True\n",
            "True\n"
          ]
        }
      ]
    },
    {
      "cell_type": "code",
      "source": [
        "# Logic Oprators\n",
        "\n",
        "print( 1 and 0)\n",
        "\n",
        "print(1 or 0)\n",
        "\n",
        "print(not 1)"
      ],
      "metadata": {
        "colab": {
          "base_uri": "https://localhost:8080/"
        },
        "id": "7X8mobkDf64x",
        "outputId": "f23474f4-21e7-4d89-f69c-3668ab529456"
      },
      "execution_count": null,
      "outputs": [
        {
          "output_type": "stream",
          "name": "stdout",
          "text": [
            "0\n",
            "1\n",
            "False\n"
          ]
        }
      ]
    },
    {
      "cell_type": "code",
      "source": [
        "# Bitwise Oprators -- it operate on binary code\n",
        "\n",
        "# bitwise and\n",
        "print(2 & 3)\n",
        "\n",
        "# bitwise or\n",
        "print(2 | 3)\n",
        "\n",
        "# bitwise xor\n",
        "# if both same then 1 otherwise 0\n",
        "print(2 ^ 3)\n",
        "\n",
        "print(~2)\n",
        "\n",
        "print(2 << 1)\n",
        "\n",
        "print(8 >> 1)"
      ],
      "metadata": {
        "colab": {
          "base_uri": "https://localhost:8080/"
        },
        "id": "PXDSVG4qgOow",
        "outputId": "072ca4e3-52ee-4263-cac8-6203aff6616b"
      },
      "execution_count": null,
      "outputs": [
        {
          "output_type": "stream",
          "name": "stdout",
          "text": [
            "2\n",
            "3\n",
            "1\n",
            "-3\n",
            "4\n",
            "4\n"
          ]
        }
      ]
    },
    {
      "cell_type": "markdown",
      "source": [
        "check and search"
      ],
      "metadata": {
        "id": "ykuzHNp3gPi4"
      }
    },
    {
      "cell_type": "code",
      "source": [
        "# Assigment Oprators\n",
        "\n",
        "x = 10\n",
        "\n",
        "# x = x + 2\n",
        "x += 5\n",
        "\n",
        "print(x)"
      ],
      "metadata": {
        "colab": {
          "base_uri": "https://localhost:8080/"
        },
        "id": "MFciZQKZiC2d",
        "outputId": "de71c9ee-55a1-49ac-897b-c2285cedbf88"
      },
      "execution_count": null,
      "outputs": [
        {
          "output_type": "stream",
          "name": "stdout",
          "text": [
            "15\n"
          ]
        }
      ]
    },
    {
      "cell_type": "code",
      "source": [
        "# Membership Operators\n",
        "\n",
        "# in/not in\n",
        "print('d' in 'Odisha')\n",
        "print('d' not in 'Odisha', '\\n')\n",
        "\n",
        "print(1 in [1,2,3])\n",
        "print(1 not in [1,2,3])"
      ],
      "metadata": {
        "colab": {
          "base_uri": "https://localhost:8080/"
        },
        "id": "i4d7epmviUg3",
        "outputId": "9eb101a2-a6d0-4811-d1eb-8829e526f6f9"
      },
      "execution_count": null,
      "outputs": [
        {
          "output_type": "stream",
          "name": "stdout",
          "text": [
            "True\n",
            "False \n",
            "\n",
            "True\n",
            "False\n"
          ]
        }
      ]
    },
    {
      "cell_type": "markdown",
      "source": [
        " Program\n",
        "\n",
        "- fing the sum of a 3 digit number entered by the user"
      ],
      "metadata": {
        "id": "n3j624jyj-Ri"
      }
    },
    {
      "cell_type": "code",
      "source": [
        "num = int( input(\"Enter the 3 digit numbers :\"))\n",
        "\n",
        "a = num % 10\n",
        "num = num//10\n",
        "\n",
        "b = num % 10\n",
        "num= num //10\n",
        "\n",
        "c = num % 10\n",
        "num = num//10\n",
        "print(a, b, c, '\\n')\n",
        "\n",
        "sum = a+b+c\n",
        "print(\"Sum of 3 digit numbers is :\", sum)"
      ],
      "metadata": {
        "colab": {
          "base_uri": "https://localhost:8080/"
        },
        "id": "H-4R3idHi43q",
        "outputId": "22b51b76-0f31-451a-aecd-3acf27b536a9"
      },
      "execution_count": null,
      "outputs": [
        {
          "output_type": "stream",
          "name": "stdout",
          "text": [
            "Enter the 3 digit numbers :456\n",
            "6 5 4 \n",
            "\n",
            "Sum of 3 digit numbers is : 15\n"
          ]
        }
      ]
    },
    {
      "cell_type": "markdown",
      "source": [
        " # if-else in Python\n",
        " **Program** - `Make a login page `\n",
        " - check the gmail and password is correct\n",
        " - email -> rudraprasadbhuyan000@gmail.com\n",
        " - password -> 1234"
      ],
      "metadata": {
        "id": "7tExZSELmfVB"
      }
    },
    {
      "cell_type": "code",
      "source": [
        "email = input(\"Enter the Email :\")\n",
        "password = input(\"Enter Password :\")\n",
        "\n",
        "if email =='rudraprasadbhuyan000@gmail.com'and password == '1234':\n",
        "  print('Welcome ! ')\n",
        "elif email =='rudraprasadbhuyan000@gmail.com'and password != '1234':\n",
        "  print('password is incorrect ...')\n",
        "  password = input('Enter the password again :')\n",
        "  if password == '1234':\n",
        "    print('Welcome !finally ! ')\n",
        "  else:\n",
        "    print('Go and sleep... !')\n",
        "else:\n",
        "  print('Not correct ...')"
      ],
      "metadata": {
        "colab": {
          "base_uri": "https://localhost:8080/"
        },
        "id": "2sHKrG00lPZj",
        "outputId": "12af35e8-191e-4e33-ad94-61e8ab982be1"
      },
      "execution_count": null,
      "outputs": [
        {
          "output_type": "stream",
          "name": "stdout",
          "text": [
            "Enter the Email :rudraprasadbhuyan000@gmail.com\n",
            "Enter Password :1256\n",
            "password is incorrect ...\n",
            "Enter the password again :1234\n",
            "Welcome !finally ! \n"
          ]
        }
      ]
    },
    {
      "cell_type": "markdown",
      "source": [
        "**Program** - `Min number given by the user  `"
      ],
      "metadata": {
        "id": "A1a6CyWm9T_h"
      }
    },
    {
      "cell_type": "code",
      "source": [
        "a = int(input('First number :'))\n",
        "b = int(input('Second number :'))\n",
        "c = int(input('Third number :'))\n",
        "\n",
        "if a<b and a<c:\n",
        "  print('Smallest num is :', a)\n",
        "elif b<a and b<c:\n",
        "  print('Smallest is :',b)\n",
        "else:\n",
        "  print('Smallest is :',c)"
      ],
      "metadata": {
        "id": "3_SZ430koVWi",
        "colab": {
          "base_uri": "https://localhost:8080/"
        },
        "outputId": "34b064b1-7669-4b5d-e2d5-f6eec2ea38a4"
      },
      "execution_count": null,
      "outputs": [
        {
          "output_type": "stream",
          "name": "stdout",
          "text": [
            "First number :5\n",
            "Second number :5\n",
            "Third number :5\n",
            "Smallest is : 5\n"
          ]
        }
      ]
    },
    {
      "cell_type": "markdown",
      "source": [
        "**Program :** - Menu driven Calculator"
      ],
      "metadata": {
        "id": "kduDpCE1-2EL"
      }
    },
    {
      "cell_type": "code",
      "source": [
        "fnum = int(input('Enter the 1st number :'))\n",
        "snum = int(input('Enter the 2nd number :'))\n",
        "\n",
        "op = input('Enter the operation :')\n",
        "\n",
        "if op == '+':\n",
        "  print(fnum + snum)\n",
        "elif op == '-':\n",
        "  print(fnum - snum)\n",
        "elif op == '*':\n",
        "  print(fnum * snum)\n",
        "else:\n",
        "  print(fnum / snum)"
      ],
      "metadata": {
        "colab": {
          "base_uri": "https://localhost:8080/"
        },
        "id": "Y7wC5MYC-1vi",
        "outputId": "61c84a53-ee2c-46f8-9857-d19ee9b326fd"
      },
      "execution_count": null,
      "outputs": [
        {
          "output_type": "stream",
          "name": "stdout",
          "text": [
            "Enter the 1st number :5\n",
            "Enter the 2nd number :5\n",
            "Enter the operation :+\n",
            "10\n"
          ]
        }
      ]
    },
    {
      "cell_type": "markdown",
      "source": [
        "**Menu driven ATM**\n"
      ],
      "metadata": {
        "id": "FXw6M5i_AtQi"
      }
    },
    {
      "cell_type": "markdown",
      "source": [
        "# Modules"
      ],
      "metadata": {
        "id": "Ao7OGQ2NCBFS"
      }
    },
    {
      "cell_type": "code",
      "source": [
        "# Math\n",
        "\n",
        "import math\n",
        "\n",
        "print(math.sqrt(196))"
      ],
      "metadata": {
        "colab": {
          "base_uri": "https://localhost:8080/"
        },
        "id": "ZTWa4Yoa_f8S",
        "outputId": "42daca9a-3b4b-42e7-f31e-f18a960bd950"
      },
      "execution_count": null,
      "outputs": [
        {
          "output_type": "stream",
          "name": "stdout",
          "text": [
            "14.0\n"
          ]
        }
      ]
    },
    {
      "cell_type": "code",
      "source": [
        "import keyword\n",
        "print(keyword.kwlist)"
      ],
      "metadata": {
        "colab": {
          "base_uri": "https://localhost:8080/"
        },
        "id": "KHo-ytC1CdkW",
        "outputId": "815ac707-2727-49b4-c9ba-7a56dd8bac76"
      },
      "execution_count": null,
      "outputs": [
        {
          "output_type": "stream",
          "name": "stdout",
          "text": [
            "['False', 'None', 'True', 'and', 'as', 'assert', 'async', 'await', 'break', 'class', 'continue', 'def', 'del', 'elif', 'else', 'except', 'finally', 'for', 'from', 'global', 'if', 'import', 'in', 'is', 'lambda', 'nonlocal', 'not', 'or', 'pass', 'raise', 'return', 'try', 'while', 'with', 'yield']\n"
          ]
        }
      ]
    },
    {
      "cell_type": "code",
      "source": [
        "import random\n",
        "print(random.randint(1, 100))"
      ],
      "metadata": {
        "colab": {
          "base_uri": "https://localhost:8080/"
        },
        "id": "Y9TZz3tZCmRN",
        "outputId": "633c583e-dc3e-45f5-8ce3-f6aaadd540e9"
      },
      "execution_count": null,
      "outputs": [
        {
          "output_type": "stream",
          "name": "stdout",
          "text": [
            "56\n"
          ]
        }
      ]
    },
    {
      "cell_type": "code",
      "source": [
        "# datetime\n",
        "\n",
        "import datetime\n",
        "print(datetime.datetime.now())"
      ],
      "metadata": {
        "colab": {
          "base_uri": "https://localhost:8080/"
        },
        "id": "8okk4QNvCtUW",
        "outputId": "2d694bea-10cd-4d28-c2e8-1ccf6f5f592c"
      },
      "execution_count": null,
      "outputs": [
        {
          "output_type": "stream",
          "name": "stdout",
          "text": [
            "2024-07-26 17:19:47.969761\n"
          ]
        }
      ]
    },
    {
      "cell_type": "code",
      "source": [
        "help('modules')"
      ],
      "metadata": {
        "colab": {
          "base_uri": "https://localhost:8080/",
          "height": 1000
        },
        "collapsed": true,
        "id": "EVwfE-uZEUPl",
        "outputId": "da8ea04f-a1b9-4b97-fd4b-9e569c97bdea"
      },
      "execution_count": null,
      "outputs": [
        {
          "output_type": "stream",
          "name": "stdout",
          "text": [
            "\n",
            "Please wait a moment while I gather a list of all available modules...\n",
            "\n"
          ]
        },
        {
          "output_type": "stream",
          "name": "stderr",
          "text": [
            "/usr/local/lib/python3.10/dist-packages/IPython/kernel/__init__.py:12: ShimWarning: The `IPython.kernel` package has been deprecated since IPython 4.0.You should import from ipykernel or jupyter_client instead.\n",
            "  warn(\"The `IPython.kernel` package has been deprecated since IPython 4.0.\"\n",
            "/usr/local/lib/python3.10/dist-packages/altair/vega/v5/__init__.py:18: AltairDeprecationWarning: The module altair.vega.v5 is deprecated and will be removed in Altair 5.\n",
            "  warnings.warn(\n",
            "/usr/local/lib/python3.10/dist-packages/altair/vegalite/v3/__init__.py:29: AltairDeprecationWarning: The module altair.vegalite.v3 is deprecated and will be removed in Altair 5. Use `import altair as alt` instead of `import altair.vegalite.v3 as alt`.\n",
            "  warnings.warn(\n",
            "/usr/local/lib/python3.10/dist-packages/google/cloud/storage/transfer_manager.py:30: UserWarning: The module `transfer_manager` is a preview feature. Functionality and API may change. This warning will be removed in a future release.\n",
            "  warnings.warn(\n",
            "/usr/local/lib/python3.10/dist-packages/cudf/utils/_ptxcompiler.py:61: UserWarning: Error getting driver and runtime versions:\n",
            "\n",
            "stdout:\n",
            "\n",
            "\n",
            "\n",
            "stderr:\n",
            "\n",
            "Traceback (most recent call last):\n",
            "  File \"<string>\", line 4, in <module>\n",
            "  File \"/usr/local/lib/python3.10/dist-packages/numba/cuda/cudadrv/driver.py\", line 295, in __getattr__\n",
            "    raise CudaSupportError(\"Error at driver init: \\n%s:\" %\n",
            "numba.cuda.cudadrv.error.CudaSupportError: Error at driver init: \n",
            "\n",
            "CUDA driver library cannot be found.\n",
            "If you are sure that a CUDA driver is installed,\n",
            "try setting environment variable NUMBA_CUDA_DRIVER\n",
            "with the file path of the CUDA driver shared library.\n",
            ":\n",
            "\n",
            "\n",
            "Not patching Numba\n",
            "  warnings.warn(msg, UserWarning)\n",
            "/usr/local/lib/python3.10/dist-packages/cudf/utils/gpu_utils.py:62: UserWarning: Failed to dlopen libcuda.so.1\n",
            "  warnings.warn(str(e))\n",
            "2024-07-26 17:35:37.231094: E external/local_xla/xla/stream_executor/cuda/cuda_dnn.cc:9261] Unable to register cuDNN factory: Attempting to register factory for plugin cuDNN when one has already been registered\n",
            "2024-07-26 17:35:37.231160: E external/local_xla/xla/stream_executor/cuda/cuda_fft.cc:607] Unable to register cuFFT factory: Attempting to register factory for plugin cuFFT when one has already been registered\n",
            "2024-07-26 17:35:37.232956: E external/local_xla/xla/stream_executor/cuda/cuda_blas.cc:1515] Unable to register cuBLAS factory: Attempting to register factory for plugin cuBLAS when one has already been registered\n",
            "2024-07-26 17:35:39.093267: W tensorflow/compiler/tf2tensorrt/utils/py_utils.cc:38] TF-TRT Warning: Could not find TensorRT\n",
            "/usr/local/lib/python3.10/dist-packages/holidays/__init__.py:32: FutureIncompatibilityWarning:\n",
            "\n",
            "\n",
            "\n",
            "This is a future version incompatibility warning from Python Holidays library v0.53\n",
            "to inform you about an upcoming change in our API versioning strategy that may affect your\n",
            "project's dependencies. Starting from version 1.0 onwards, we will be following a loose form of\n",
            "Semantic Versioning (SemVer, https://semver.org) to provide clearer communication regarding any\n",
            "potential breaking changes.\n",
            "\n",
            "This means that while we strive to maintain backward compatibility, there might be occasional\n",
            "updates that introduce breaking changes to our API. To ensure the stability of your projects,\n",
            "we highly recommend pinning the version of our API that you rely on. You can pin your current\n",
            "holidays v0.x dependency (e.g., holidays==0.53) or limit it (e.g., holidays<1.0) in order to\n",
            "avoid potentially unwanted upgrade to the version 1.0 when it's released (ETA 2024Q4 - 2025Q1).\n",
            "\n",
            "If you have any questions or concerns regarding this change, please don't hesitate to reach out\n",
            "to us via https://github.com/vacanza/python-holidays/discussions/1800.\n",
            "\n",
            "\n",
            "/usr/local/lib/python3.10/dist-packages/jupyter_client/ssh/tunnel.py:57: DeprecationWarning:\n",
            "\n",
            "zmq.utils.strtypes is deprecated in pyzmq 23.\n",
            "\n"
          ]
        },
        {
          "output_type": "stream",
          "name": "stdout",
          "text": [
            "Downloading https://dlib.net/files/shape_predictor_68_face_landmarks.dat.bz2 to /root/mlxtend_data/shape_predictor_68_face_landmarks.dat.bz2\n"
          ]
        },
        {
          "output_type": "stream",
          "name": "stderr",
          "text": [
            "/usr/local/lib/python3.10/dist-packages/moviepy/video/fx/painting.py:7: DeprecationWarning:\n",
            "\n",
            "Please use `sobel` from the `scipy.ndimage` namespace, the `scipy.ndimage.filters` namespace is deprecated.\n",
            "\n",
            "/usr/lib/python3.10/pkgutil.py:92: UserWarning:\n",
            "\n",
            "The DICOM readers are highly experimental, unstable, and only work for Siemens time-series at the moment\n",
            "Please use with caution.  We would be grateful for your help in improving them\n",
            "\n",
            "/usr/local/lib/python3.10/dist-packages/nltk/twitter/__init__.py:20: UserWarning:\n",
            "\n",
            "The twython library has not been installed. Some functionality from the twitter package will not be available.\n",
            "\n",
            "/usr/local/lib/python3.10/dist-packages/notebook/utils.py:280: DeprecationWarning:\n",
            "\n",
            "distutils Version classes are deprecated. Use packaging.version instead.\n",
            "\n",
            "/usr/local/lib/python3.10/dist-packages/notebook/utils.py:280: DeprecationWarning:\n",
            "\n",
            "distutils Version classes are deprecated. Use packaging.version instead.\n",
            "\n",
            "/usr/lib/python3.10/pkgutil.py:92: NumbaPendingDeprecationWarning:\n",
            "\n",
            "The 'pycc' module is pending deprecation. Replacement technology is being developed.\n",
            "\n",
            "Pending Deprecation in Numba 0.57.0. For more information please see: https://numba.readthedocs.io/en/stable/reference/deprecation.html#deprecation-of-the-numba-pycc-module\n",
            "\n",
            "/usr/lib/python3.10/pkgutil.py:92: UserWarning:\n",
            "\n",
            "The numpy.array_api submodule is still experimental. See NEP 47.\n",
            "\n",
            "/usr/lib/python3.10/pkgutil.py:92: DeprecationWarning:\n",
            "\n",
            "\n",
            "\n",
            "  `numpy.distutils` is deprecated since NumPy 1.23.0, as a result\n",
            "  of the deprecation of `distutils` itself. It will be removed for\n",
            "  Python >= 3.12. For older Python versions it will remain present.\n",
            "  It is recommended to use `setuptools < 60.0` for those Python versions.\n",
            "  For more details, see:\n",
            "    https://numpy.org/devdocs/reference/distutils_status_migration.html \n",
            "\n",
            "\n",
            "\n",
            "/usr/local/lib/python3.10/dist-packages/matplotlib_inline/config.py:68: DeprecationWarning:\n",
            "\n",
            "InlineBackend._figure_format_changed is deprecated in traitlets 4.1: use @observe and @unobserve instead.\n",
            "\n",
            "/usr/local/lib/python3.10/dist-packages/pandas_datareader/compat/__init__.py:11: DeprecationWarning:\n",
            "\n",
            "distutils Version classes are deprecated. Use packaging.version instead.\n",
            "\n",
            "/usr/local/lib/python3.10/dist-packages/pandas_datareader/compat/__init__.py:13: DeprecationWarning:\n",
            "\n",
            "distutils Version classes are deprecated. Use packaging.version instead.\n",
            "\n",
            "/usr/local/lib/python3.10/dist-packages/pandas_datareader/compat/__init__.py:14: DeprecationWarning:\n",
            "\n",
            "distutils Version classes are deprecated. Use packaging.version instead.\n",
            "\n",
            "/usr/local/lib/python3.10/dist-packages/pandas_datareader/compat/__init__.py:15: DeprecationWarning:\n",
            "\n",
            "distutils Version classes are deprecated. Use packaging.version instead.\n",
            "\n",
            "/usr/lib/python3.10/pkgutil.py:92: DeprecationWarning:\n",
            "\n",
            "pkg_resources is deprecated as an API. See https://setuptools.pypa.io/en/latest/pkg_resources.html\n",
            "\n",
            "/usr/local/lib/python3.10/dist-packages/pip/_vendor/pkg_resources/__init__.py:2832: DeprecationWarning:\n",
            "\n",
            "Deprecated call to `pkg_resources.declare_namespace('google')`.\n",
            "Implementing implicit namespace packages (as specified in PEP 420) is preferred to `pkg_resources.declare_namespace`. See https://setuptools.pypa.io/en/latest/references/keywords.html#keyword-namespace-packages\n",
            "\n",
            "/usr/local/lib/python3.10/dist-packages/pip/_vendor/pkg_resources/__init__.py:2832: DeprecationWarning:\n",
            "\n",
            "Deprecated call to `pkg_resources.declare_namespace('google.cloud')`.\n",
            "Implementing implicit namespace packages (as specified in PEP 420) is preferred to `pkg_resources.declare_namespace`. See https://setuptools.pypa.io/en/latest/references/keywords.html#keyword-namespace-packages\n",
            "\n",
            "/usr/local/lib/python3.10/dist-packages/pip/_vendor/pkg_resources/__init__.py:2317: DeprecationWarning:\n",
            "\n",
            "Deprecated call to `pkg_resources.declare_namespace('google')`.\n",
            "Implementing implicit namespace packages (as specified in PEP 420) is preferred to `pkg_resources.declare_namespace`. See https://setuptools.pypa.io/en/latest/references/keywords.html#keyword-namespace-packages\n",
            "\n",
            "/usr/local/lib/python3.10/dist-packages/pip/_vendor/pkg_resources/__init__.py:2832: DeprecationWarning:\n",
            "\n",
            "Deprecated call to `pkg_resources.declare_namespace('google')`.\n",
            "Implementing implicit namespace packages (as specified in PEP 420) is preferred to `pkg_resources.declare_namespace`. See https://setuptools.pypa.io/en/latest/references/keywords.html#keyword-namespace-packages\n",
            "\n",
            "/usr/local/lib/python3.10/dist-packages/pip/_vendor/pkg_resources/__init__.py:2832: DeprecationWarning:\n",
            "\n",
            "Deprecated call to `pkg_resources.declare_namespace('google.cloud')`.\n",
            "Implementing implicit namespace packages (as specified in PEP 420) is preferred to `pkg_resources.declare_namespace`. See https://setuptools.pypa.io/en/latest/references/keywords.html#keyword-namespace-packages\n",
            "\n",
            "/usr/local/lib/python3.10/dist-packages/pip/_vendor/pkg_resources/__init__.py:2832: DeprecationWarning:\n",
            "\n",
            "Deprecated call to `pkg_resources.declare_namespace('google')`.\n",
            "Implementing implicit namespace packages (as specified in PEP 420) is preferred to `pkg_resources.declare_namespace`. See https://setuptools.pypa.io/en/latest/references/keywords.html#keyword-namespace-packages\n",
            "\n",
            "/usr/local/lib/python3.10/dist-packages/pip/_vendor/pkg_resources/__init__.py:2832: DeprecationWarning:\n",
            "\n",
            "Deprecated call to `pkg_resources.declare_namespace('google')`.\n",
            "Implementing implicit namespace packages (as specified in PEP 420) is preferred to `pkg_resources.declare_namespace`. See https://setuptools.pypa.io/en/latest/references/keywords.html#keyword-namespace-packages\n",
            "\n",
            "/usr/local/lib/python3.10/dist-packages/pip/_vendor/pkg_resources/__init__.py:2832: DeprecationWarning:\n",
            "\n",
            "Deprecated call to `pkg_resources.declare_namespace('mpl_toolkits')`.\n",
            "Implementing implicit namespace packages (as specified in PEP 420) is preferred to `pkg_resources.declare_namespace`. See https://setuptools.pypa.io/en/latest/references/keywords.html#keyword-namespace-packages\n",
            "\n",
            "/usr/local/lib/python3.10/dist-packages/pip/_vendor/pkg_resources/__init__.py:2832: DeprecationWarning:\n",
            "\n",
            "Deprecated call to `pkg_resources.declare_namespace('google')`.\n",
            "Implementing implicit namespace packages (as specified in PEP 420) is preferred to `pkg_resources.declare_namespace`. See https://setuptools.pypa.io/en/latest/references/keywords.html#keyword-namespace-packages\n",
            "\n",
            "/usr/local/lib/python3.10/dist-packages/pip/_vendor/pkg_resources/__init__.py:2832: DeprecationWarning:\n",
            "\n",
            "Deprecated call to `pkg_resources.declare_namespace('sphinxcontrib')`.\n",
            "Implementing implicit namespace packages (as specified in PEP 420) is preferred to `pkg_resources.declare_namespace`. See https://setuptools.pypa.io/en/latest/references/keywords.html#keyword-namespace-packages\n",
            "\n",
            "/usr/local/lib/python3.10/dist-packages/pydantic/experimental/__init__.py:7: PydanticExperimentalWarning: This module is experimental, its contents are subject to change and deprecation.\n",
            "/usr/local/lib/python3.10/dist-packages/pytensor/configdefaults.py:438: DeprecationWarning: Use shutil.which instead of find_executable\n"
          ]
        },
        {
          "output_type": "stream",
          "name": "stdout",
          "text": [
            "Python version: 3.10.12 (main, Mar 22 2024, 16:50:05) [GCC 11.4.0]\n",
            "GEOS version: 3.11.4-CAPI-1.17.4\n",
            "Numpy version: 1.25.2\n"
          ]
        },
        {
          "output_type": "stream",
          "name": "stderr",
          "text": [
            "/usr/lib/python3.10/pkgutil.py:92: UserWarning: viewer requires Qt\n",
            "/usr/local/lib/python3.10/dist-packages/tensorboard/_vendor/html5lib/filters/sanitizer.py:29: DeprecationWarning: html5lib's sanitizer is deprecated; see https://github.com/html5lib/html5lib-python/issues/443 and please let us know if Bleach is unsuitable for your needs\n",
            "/usr/local/lib/python3.10/dist-packages/tensorflow_probability/python/__init__.py:49: DeprecationWarning: The distutils package is deprecated and slated for removal in Python 3.12. Use setuptools or check PEP 632 for potential alternatives\n",
            "/usr/lib/python3.10/multiprocessing/popen_fork.py:66: RuntimeWarning: os.fork() was called. os.fork() is incompatible with multithreaded code, and JAX is multithreaded, so this will likely lead to a deadlock.\n",
            "/usr/local/lib/python3.10/dist-packages/torch/distributed/_shard/checkpoint/__init__.py:8: DeprecationWarning: torch.distributed._shard.checkpoint will be deprecated, use torch.distributed.checkpoint instead\n",
            "/usr/local/lib/python3.10/dist-packages/torch/distributed/_sharded_tensor/__init__.py:8: DeprecationWarning: torch.distributed._sharded_tensor will be deprecated, use torch.distributed._shard.sharded_tensor instead\n",
            "/usr/local/lib/python3.10/dist-packages/torch/distributed/_sharding_spec/__init__.py:8: DeprecationWarning: torch.distributed._sharding_spec will be deprecated, use torch.distributed._shard.sharding_spec instead\n",
            "/usr/local/lib/python3.10/dist-packages/torch/distributed/pipeline/__init__.py:2: UserWarning: torch.distributed.pipeline is deprecated. For up-to-date pipeline parallel implementation, please refer to the PiPPy library under the PyTorch organization (Pipeline Parallelism for PyTorch): https://github.com/pytorch/PiPPy\n",
            "No CUDA runtime is found, using CUDA_HOME='/usr/local/cuda'\n",
            "/usr/local/lib/python3.10/dist-packages/torchtext/data/__init__.py:4: UserWarning: \n",
            "/!\\ IMPORTANT WARNING ABOUT TORCHTEXT STATUS /!\\ \n",
            "Torchtext is deprecated and the last released version will be 0.18 (this one). You can silence this warning by calling the following at the beginnign of your scripts: `import torchtext; torchtext.disable_torchtext_deprecation_warning()`\n",
            "/usr/local/lib/python3.10/dist-packages/torchtext/datasets/__init__.py:4: UserWarning: \n",
            "/!\\ IMPORTANT WARNING ABOUT TORCHTEXT STATUS /!\\ \n",
            "Torchtext is deprecated and the last released version will be 0.18 (this one). You can silence this warning by calling the following at the beginnign of your scripts: `import torchtext; torchtext.disable_torchtext_deprecation_warning()`\n",
            "/usr/local/lib/python3.10/dist-packages/torchtext/experimental/__init__.py:4: UserWarning: \n",
            "/!\\ IMPORTANT WARNING ABOUT TORCHTEXT STATUS /!\\ \n",
            "Torchtext is deprecated and the last released version will be 0.18 (this one). You can silence this warning by calling the following at the beginnign of your scripts: `import torchtext; torchtext.disable_torchtext_deprecation_warning()`\n",
            "/usr/local/lib/python3.10/dist-packages/torchtext/models/__init__.py:4: UserWarning: \n",
            "/!\\ IMPORTANT WARNING ABOUT TORCHTEXT STATUS /!\\ \n",
            "Torchtext is deprecated and the last released version will be 0.18 (this one). You can silence this warning by calling the following at the beginnign of your scripts: `import torchtext; torchtext.disable_torchtext_deprecation_warning()`\n",
            "/usr/local/lib/python3.10/dist-packages/torchtext/transforms.py:4: UserWarning: \n",
            "/!\\ IMPORTANT WARNING ABOUT TORCHTEXT STATUS /!\\ \n",
            "Torchtext is deprecated and the last released version will be 0.18 (this one). You can silence this warning by calling the following at the beginnign of your scripts: `import torchtext; torchtext.disable_torchtext_deprecation_warning()`\n",
            "/usr/local/lib/python3.10/dist-packages/torchtext/utils.py:4: UserWarning: \n",
            "/!\\ IMPORTANT WARNING ABOUT TORCHTEXT STATUS /!\\ \n",
            "Torchtext is deprecated and the last released version will be 0.18 (this one). You can silence this warning by calling the following at the beginnign of your scripts: `import torchtext; torchtext.disable_torchtext_deprecation_warning()`\n",
            "/usr/local/lib/python3.10/dist-packages/torchtext/vocab/__init__.py:4: UserWarning: \n",
            "/!\\ IMPORTANT WARNING ABOUT TORCHTEXT STATUS /!\\ \n",
            "Torchtext is deprecated and the last released version will be 0.18 (this one). You can silence this warning by calling the following at the beginnign of your scripts: `import torchtext; torchtext.disable_torchtext_deprecation_warning()`\n",
            "/usr/local/lib/python3.10/dist-packages/torchtext/functional.py:4: UserWarning: \n",
            "/!\\ IMPORTANT WARNING ABOUT TORCHTEXT STATUS /!\\ \n",
            "Torchtext is deprecated and the last released version will be 0.18 (this one). You can silence this warning by calling the following at the beginnign of your scripts: `import torchtext; torchtext.disable_torchtext_deprecation_warning()`\n",
            "/usr/local/lib/python3.10/dist-packages/torchtext/prototype/__init__.py:4: UserWarning: \n",
            "/!\\ IMPORTANT WARNING ABOUT TORCHTEXT STATUS /!\\ \n",
            "Torchtext is deprecated and the last released version will be 0.18 (this one). You can silence this warning by calling the following at the beginnign of your scripts: `import torchtext; torchtext.disable_torchtext_deprecation_warning()`\n",
            "/usr/local/lib/python3.10/dist-packages/torchtext/nn/__init__.py:4: UserWarning: \n",
            "/!\\ IMPORTANT WARNING ABOUT TORCHTEXT STATUS /!\\ \n",
            "Torchtext is deprecated and the last released version will be 0.18 (this one). You can silence this warning by calling the following at the beginnign of your scripts: `import torchtext; torchtext.disable_torchtext_deprecation_warning()`\n"
          ]
        },
        {
          "output_type": "error",
          "ename": "Skipped",
          "evalue": "could not import 'hypothesis': No module named 'hypothesis'",
          "traceback": [
            "\u001b[0;31m---------------------------------------------------------------------------\u001b[0m",
            "\u001b[0;31mSkipped\u001b[0m                                   Traceback (most recent call last)",
            "\u001b[0;32m/tmp/ipykernel_44769/3614396374.py\u001b[0m in \u001b[0;36m<cell line: 1>\u001b[0;34m()\u001b[0m\n\u001b[0;32m----> 1\u001b[0;31m \u001b[0mhelp\u001b[0m\u001b[0;34m(\u001b[0m\u001b[0;34m'modules'\u001b[0m\u001b[0;34m)\u001b[0m\u001b[0;34m\u001b[0m\u001b[0;34m\u001b[0m\u001b[0m\n\u001b[0m",
            "\u001b[0;32m/usr/lib/python3.10/_sitebuiltins.py\u001b[0m in \u001b[0;36m__call__\u001b[0;34m(self, *args, **kwds)\u001b[0m\n\u001b[1;32m    101\u001b[0m     \u001b[0;32mdef\u001b[0m \u001b[0m__call__\u001b[0m\u001b[0;34m(\u001b[0m\u001b[0mself\u001b[0m\u001b[0;34m,\u001b[0m \u001b[0;34m*\u001b[0m\u001b[0margs\u001b[0m\u001b[0;34m,\u001b[0m \u001b[0;34m**\u001b[0m\u001b[0mkwds\u001b[0m\u001b[0;34m)\u001b[0m\u001b[0;34m:\u001b[0m\u001b[0;34m\u001b[0m\u001b[0;34m\u001b[0m\u001b[0m\n\u001b[1;32m    102\u001b[0m         \u001b[0;32mimport\u001b[0m \u001b[0mpydoc\u001b[0m\u001b[0;34m\u001b[0m\u001b[0;34m\u001b[0m\u001b[0m\n\u001b[0;32m--> 103\u001b[0;31m         \u001b[0;32mreturn\u001b[0m \u001b[0mpydoc\u001b[0m\u001b[0;34m.\u001b[0m\u001b[0mhelp\u001b[0m\u001b[0;34m(\u001b[0m\u001b[0;34m*\u001b[0m\u001b[0margs\u001b[0m\u001b[0;34m,\u001b[0m \u001b[0;34m**\u001b[0m\u001b[0mkwds\u001b[0m\u001b[0;34m)\u001b[0m\u001b[0;34m\u001b[0m\u001b[0;34m\u001b[0m\u001b[0m\n\u001b[0m",
            "\u001b[0;32m/usr/lib/python3.10/pydoc.py\u001b[0m in \u001b[0;36m__call__\u001b[0;34m(self, request)\u001b[0m\n\u001b[1;32m   2011\u001b[0m     \u001b[0;32mdef\u001b[0m \u001b[0m__call__\u001b[0m\u001b[0;34m(\u001b[0m\u001b[0mself\u001b[0m\u001b[0;34m,\u001b[0m \u001b[0mrequest\u001b[0m\u001b[0;34m=\u001b[0m\u001b[0m_GoInteractive\u001b[0m\u001b[0;34m)\u001b[0m\u001b[0;34m:\u001b[0m\u001b[0;34m\u001b[0m\u001b[0;34m\u001b[0m\u001b[0m\n\u001b[1;32m   2012\u001b[0m         \u001b[0;32mif\u001b[0m \u001b[0mrequest\u001b[0m \u001b[0;32mis\u001b[0m \u001b[0;32mnot\u001b[0m \u001b[0mself\u001b[0m\u001b[0;34m.\u001b[0m\u001b[0m_GoInteractive\u001b[0m\u001b[0;34m:\u001b[0m\u001b[0;34m\u001b[0m\u001b[0;34m\u001b[0m\u001b[0m\n\u001b[0;32m-> 2013\u001b[0;31m             \u001b[0mself\u001b[0m\u001b[0;34m.\u001b[0m\u001b[0mhelp\u001b[0m\u001b[0;34m(\u001b[0m\u001b[0mrequest\u001b[0m\u001b[0;34m)\u001b[0m\u001b[0;34m\u001b[0m\u001b[0;34m\u001b[0m\u001b[0m\n\u001b[0m\u001b[1;32m   2014\u001b[0m         \u001b[0;32melse\u001b[0m\u001b[0;34m:\u001b[0m\u001b[0;34m\u001b[0m\u001b[0;34m\u001b[0m\u001b[0m\n\u001b[1;32m   2015\u001b[0m             \u001b[0mself\u001b[0m\u001b[0;34m.\u001b[0m\u001b[0mintro\u001b[0m\u001b[0;34m(\u001b[0m\u001b[0;34m)\u001b[0m\u001b[0;34m\u001b[0m\u001b[0;34m\u001b[0m\u001b[0m\n",
            "\u001b[0;32m/usr/lib/python3.10/pydoc.py\u001b[0m in \u001b[0;36mhelp\u001b[0;34m(self, request)\u001b[0m\n\u001b[1;32m   2058\u001b[0m             \u001b[0;32melif\u001b[0m \u001b[0mrequest\u001b[0m \u001b[0;34m==\u001b[0m \u001b[0;34m'symbols'\u001b[0m\u001b[0;34m:\u001b[0m \u001b[0mself\u001b[0m\u001b[0;34m.\u001b[0m\u001b[0mlistsymbols\u001b[0m\u001b[0;34m(\u001b[0m\u001b[0;34m)\u001b[0m\u001b[0;34m\u001b[0m\u001b[0;34m\u001b[0m\u001b[0m\n\u001b[1;32m   2059\u001b[0m             \u001b[0;32melif\u001b[0m \u001b[0mrequest\u001b[0m \u001b[0;34m==\u001b[0m \u001b[0;34m'topics'\u001b[0m\u001b[0;34m:\u001b[0m \u001b[0mself\u001b[0m\u001b[0;34m.\u001b[0m\u001b[0mlisttopics\u001b[0m\u001b[0;34m(\u001b[0m\u001b[0;34m)\u001b[0m\u001b[0;34m\u001b[0m\u001b[0;34m\u001b[0m\u001b[0m\n\u001b[0;32m-> 2060\u001b[0;31m             \u001b[0;32melif\u001b[0m \u001b[0mrequest\u001b[0m \u001b[0;34m==\u001b[0m \u001b[0;34m'modules'\u001b[0m\u001b[0;34m:\u001b[0m \u001b[0mself\u001b[0m\u001b[0;34m.\u001b[0m\u001b[0mlistmodules\u001b[0m\u001b[0;34m(\u001b[0m\u001b[0;34m)\u001b[0m\u001b[0;34m\u001b[0m\u001b[0;34m\u001b[0m\u001b[0m\n\u001b[0m\u001b[1;32m   2061\u001b[0m             \u001b[0;32melif\u001b[0m \u001b[0mrequest\u001b[0m\u001b[0;34m[\u001b[0m\u001b[0;34m:\u001b[0m\u001b[0;36m8\u001b[0m\u001b[0;34m]\u001b[0m \u001b[0;34m==\u001b[0m \u001b[0;34m'modules '\u001b[0m\u001b[0;34m:\u001b[0m\u001b[0;34m\u001b[0m\u001b[0;34m\u001b[0m\u001b[0m\n\u001b[1;32m   2062\u001b[0m                 \u001b[0mself\u001b[0m\u001b[0;34m.\u001b[0m\u001b[0mlistmodules\u001b[0m\u001b[0;34m(\u001b[0m\u001b[0mrequest\u001b[0m\u001b[0;34m.\u001b[0m\u001b[0msplit\u001b[0m\u001b[0;34m(\u001b[0m\u001b[0;34m)\u001b[0m\u001b[0;34m[\u001b[0m\u001b[0;36m1\u001b[0m\u001b[0;34m]\u001b[0m\u001b[0;34m)\u001b[0m\u001b[0;34m\u001b[0m\u001b[0;34m\u001b[0m\u001b[0m\n",
            "\u001b[0;32m/usr/lib/python3.10/pydoc.py\u001b[0m in \u001b[0;36mlistmodules\u001b[0;34m(self, key)\u001b[0m\n\u001b[1;32m   2210\u001b[0m             \u001b[0;32mdef\u001b[0m \u001b[0monerror\u001b[0m\u001b[0;34m(\u001b[0m\u001b[0mmodname\u001b[0m\u001b[0;34m)\u001b[0m\u001b[0;34m:\u001b[0m\u001b[0;34m\u001b[0m\u001b[0;34m\u001b[0m\u001b[0m\n\u001b[1;32m   2211\u001b[0m                 \u001b[0mcallback\u001b[0m\u001b[0;34m(\u001b[0m\u001b[0;32mNone\u001b[0m\u001b[0;34m,\u001b[0m \u001b[0mmodname\u001b[0m\u001b[0;34m,\u001b[0m \u001b[0;32mNone\u001b[0m\u001b[0;34m)\u001b[0m\u001b[0;34m\u001b[0m\u001b[0;34m\u001b[0m\u001b[0m\n\u001b[0;32m-> 2212\u001b[0;31m             \u001b[0mModuleScanner\u001b[0m\u001b[0;34m(\u001b[0m\u001b[0;34m)\u001b[0m\u001b[0;34m.\u001b[0m\u001b[0mrun\u001b[0m\u001b[0;34m(\u001b[0m\u001b[0mcallback\u001b[0m\u001b[0;34m,\u001b[0m \u001b[0monerror\u001b[0m\u001b[0;34m=\u001b[0m\u001b[0monerror\u001b[0m\u001b[0;34m)\u001b[0m\u001b[0;34m\u001b[0m\u001b[0;34m\u001b[0m\u001b[0m\n\u001b[0m\u001b[1;32m   2213\u001b[0m             \u001b[0mself\u001b[0m\u001b[0;34m.\u001b[0m\u001b[0mlist\u001b[0m\u001b[0;34m(\u001b[0m\u001b[0mmodules\u001b[0m\u001b[0;34m.\u001b[0m\u001b[0mkeys\u001b[0m\u001b[0;34m(\u001b[0m\u001b[0;34m)\u001b[0m\u001b[0;34m)\u001b[0m\u001b[0;34m\u001b[0m\u001b[0;34m\u001b[0m\u001b[0m\n\u001b[1;32m   2214\u001b[0m             self.output.write('''\n",
            "\u001b[0;32m/usr/lib/python3.10/pydoc.py\u001b[0m in \u001b[0;36mrun\u001b[0;34m(self, callback, key, completer, onerror)\u001b[0m\n\u001b[1;32m   2239\u001b[0m                         \u001b[0mcallback\u001b[0m\u001b[0;34m(\u001b[0m\u001b[0;32mNone\u001b[0m\u001b[0;34m,\u001b[0m \u001b[0mmodname\u001b[0m\u001b[0;34m,\u001b[0m \u001b[0mdesc\u001b[0m\u001b[0;34m)\u001b[0m\u001b[0;34m\u001b[0m\u001b[0;34m\u001b[0m\u001b[0m\n\u001b[1;32m   2240\u001b[0m \u001b[0;34m\u001b[0m\u001b[0m\n\u001b[0;32m-> 2241\u001b[0;31m         \u001b[0;32mfor\u001b[0m \u001b[0mimporter\u001b[0m\u001b[0;34m,\u001b[0m \u001b[0mmodname\u001b[0m\u001b[0;34m,\u001b[0m \u001b[0mispkg\u001b[0m \u001b[0;32min\u001b[0m \u001b[0mpkgutil\u001b[0m\u001b[0;34m.\u001b[0m\u001b[0mwalk_packages\u001b[0m\u001b[0;34m(\u001b[0m\u001b[0monerror\u001b[0m\u001b[0;34m=\u001b[0m\u001b[0monerror\u001b[0m\u001b[0;34m)\u001b[0m\u001b[0;34m:\u001b[0m\u001b[0;34m\u001b[0m\u001b[0;34m\u001b[0m\u001b[0m\n\u001b[0m\u001b[1;32m   2242\u001b[0m             \u001b[0;32mif\u001b[0m \u001b[0mself\u001b[0m\u001b[0;34m.\u001b[0m\u001b[0mquit\u001b[0m\u001b[0;34m:\u001b[0m\u001b[0;34m\u001b[0m\u001b[0;34m\u001b[0m\u001b[0m\n\u001b[1;32m   2243\u001b[0m                 \u001b[0;32mbreak\u001b[0m\u001b[0;34m\u001b[0m\u001b[0;34m\u001b[0m\u001b[0m\n",
            "\u001b[0;32m/usr/lib/python3.10/pkgutil.py\u001b[0m in \u001b[0;36mwalk_packages\u001b[0;34m(path, prefix, onerror)\u001b[0m\n\u001b[1;32m    105\u001b[0m                 \u001b[0mpath\u001b[0m \u001b[0;34m=\u001b[0m \u001b[0;34m[\u001b[0m\u001b[0mp\u001b[0m \u001b[0;32mfor\u001b[0m \u001b[0mp\u001b[0m \u001b[0;32min\u001b[0m \u001b[0mpath\u001b[0m \u001b[0;32mif\u001b[0m \u001b[0;32mnot\u001b[0m \u001b[0mseen\u001b[0m\u001b[0;34m(\u001b[0m\u001b[0mp\u001b[0m\u001b[0;34m)\u001b[0m\u001b[0;34m]\u001b[0m\u001b[0;34m\u001b[0m\u001b[0;34m\u001b[0m\u001b[0m\n\u001b[1;32m    106\u001b[0m \u001b[0;34m\u001b[0m\u001b[0m\n\u001b[0;32m--> 107\u001b[0;31m                 \u001b[0;32myield\u001b[0m \u001b[0;32mfrom\u001b[0m \u001b[0mwalk_packages\u001b[0m\u001b[0;34m(\u001b[0m\u001b[0mpath\u001b[0m\u001b[0;34m,\u001b[0m \u001b[0minfo\u001b[0m\u001b[0;34m.\u001b[0m\u001b[0mname\u001b[0m\u001b[0;34m+\u001b[0m\u001b[0;34m'.'\u001b[0m\u001b[0;34m,\u001b[0m \u001b[0monerror\u001b[0m\u001b[0;34m)\u001b[0m\u001b[0;34m\u001b[0m\u001b[0;34m\u001b[0m\u001b[0m\n\u001b[0m\u001b[1;32m    108\u001b[0m \u001b[0;34m\u001b[0m\u001b[0m\n\u001b[1;32m    109\u001b[0m \u001b[0;34m\u001b[0m\u001b[0m\n",
            "\u001b[0;32m/usr/lib/python3.10/pkgutil.py\u001b[0m in \u001b[0;36mwalk_packages\u001b[0;34m(path, prefix, onerror)\u001b[0m\n\u001b[1;32m     90\u001b[0m         \u001b[0;32mif\u001b[0m \u001b[0minfo\u001b[0m\u001b[0;34m.\u001b[0m\u001b[0mispkg\u001b[0m\u001b[0;34m:\u001b[0m\u001b[0;34m\u001b[0m\u001b[0;34m\u001b[0m\u001b[0m\n\u001b[1;32m     91\u001b[0m             \u001b[0;32mtry\u001b[0m\u001b[0;34m:\u001b[0m\u001b[0;34m\u001b[0m\u001b[0;34m\u001b[0m\u001b[0m\n\u001b[0;32m---> 92\u001b[0;31m                 \u001b[0m__import__\u001b[0m\u001b[0;34m(\u001b[0m\u001b[0minfo\u001b[0m\u001b[0;34m.\u001b[0m\u001b[0mname\u001b[0m\u001b[0;34m)\u001b[0m\u001b[0;34m\u001b[0m\u001b[0;34m\u001b[0m\u001b[0m\n\u001b[0m\u001b[1;32m     93\u001b[0m             \u001b[0;32mexcept\u001b[0m \u001b[0mImportError\u001b[0m\u001b[0;34m:\u001b[0m\u001b[0;34m\u001b[0m\u001b[0;34m\u001b[0m\u001b[0m\n\u001b[1;32m     94\u001b[0m                 \u001b[0;32mif\u001b[0m \u001b[0monerror\u001b[0m \u001b[0;32mis\u001b[0m \u001b[0;32mnot\u001b[0m \u001b[0;32mNone\u001b[0m\u001b[0;34m:\u001b[0m\u001b[0;34m\u001b[0m\u001b[0;34m\u001b[0m\u001b[0m\n",
            "\u001b[0;32m/usr/local/lib/python3.10/dist-packages/xgboost/testing/__init__.py\u001b[0m in \u001b[0;36m<module>\u001b[0;34m\u001b[0m\n\u001b[1;32m     45\u001b[0m )\n\u001b[1;32m     46\u001b[0m \u001b[0;34m\u001b[0m\u001b[0m\n\u001b[0;32m---> 47\u001b[0;31m \u001b[0mhypothesis\u001b[0m \u001b[0;34m=\u001b[0m \u001b[0mpytest\u001b[0m\u001b[0;34m.\u001b[0m\u001b[0mimportorskip\u001b[0m\u001b[0;34m(\u001b[0m\u001b[0;34m\"hypothesis\"\u001b[0m\u001b[0;34m)\u001b[0m\u001b[0;34m\u001b[0m\u001b[0;34m\u001b[0m\u001b[0m\n\u001b[0m\u001b[1;32m     48\u001b[0m \u001b[0;34m\u001b[0m\u001b[0m\n\u001b[1;32m     49\u001b[0m \u001b[0;31m# pylint:disable=wrong-import-position,wrong-import-order\u001b[0m\u001b[0;34m\u001b[0m\u001b[0;34m\u001b[0m\u001b[0m\n",
            "\u001b[0;32m/usr/local/lib/python3.10/dist-packages/_pytest/outcomes.py\u001b[0m in \u001b[0;36mimportorskip\u001b[0;34m(modname, minversion, reason)\u001b[0m\n\u001b[1;32m    294\u001b[0m             \u001b[0;32mif\u001b[0m \u001b[0mreason\u001b[0m \u001b[0;32mis\u001b[0m \u001b[0;32mNone\u001b[0m\u001b[0;34m:\u001b[0m\u001b[0;34m\u001b[0m\u001b[0;34m\u001b[0m\u001b[0m\n\u001b[1;32m    295\u001b[0m                 \u001b[0mreason\u001b[0m \u001b[0;34m=\u001b[0m \u001b[0;34mf\"could not import {modname!r}: {exc}\"\u001b[0m\u001b[0;34m\u001b[0m\u001b[0;34m\u001b[0m\u001b[0m\n\u001b[0;32m--> 296\u001b[0;31m             \u001b[0;32mraise\u001b[0m \u001b[0mSkipped\u001b[0m\u001b[0;34m(\u001b[0m\u001b[0mreason\u001b[0m\u001b[0;34m,\u001b[0m \u001b[0mallow_module_level\u001b[0m\u001b[0;34m=\u001b[0m\u001b[0;32mTrue\u001b[0m\u001b[0;34m)\u001b[0m \u001b[0;32mfrom\u001b[0m \u001b[0;32mNone\u001b[0m\u001b[0;34m\u001b[0m\u001b[0;34m\u001b[0m\u001b[0m\n\u001b[0m\u001b[1;32m    297\u001b[0m     \u001b[0mmod\u001b[0m \u001b[0;34m=\u001b[0m \u001b[0msys\u001b[0m\u001b[0;34m.\u001b[0m\u001b[0mmodules\u001b[0m\u001b[0;34m[\u001b[0m\u001b[0mmodname\u001b[0m\u001b[0;34m]\u001b[0m\u001b[0;34m\u001b[0m\u001b[0;34m\u001b[0m\u001b[0m\n\u001b[1;32m    298\u001b[0m     \u001b[0;32mif\u001b[0m \u001b[0mminversion\u001b[0m \u001b[0;32mis\u001b[0m \u001b[0;32mNone\u001b[0m\u001b[0;34m:\u001b[0m\u001b[0;34m\u001b[0m\u001b[0;34m\u001b[0m\u001b[0m\n",
            "\u001b[0;31mSkipped\u001b[0m: could not import 'hypothesis': No module named 'hypothesis'"
          ]
        }
      ]
    },
    {
      "cell_type": "code",
      "source": [],
      "metadata": {
        "id": "Ez4aD7IfEU60"
      },
      "execution_count": null,
      "outputs": []
    },
    {
      "cell_type": "markdown",
      "source": [
        "# Loops in Python\n",
        "\n",
        "\n",
        "1.   While Loop\n",
        "2.   For Loop\n",
        "\n"
      ],
      "metadata": {
        "id": "RqTLdQ1zE2Fc"
      }
    },
    {
      "cell_type": "code",
      "source": [
        "num = int(input('Enter the number :'))\n",
        "\n",
        "i = 1\n",
        "\n",
        "while i<11:\n",
        "  print(num, '*', i, '=', num * i)\n",
        "  i +=1"
      ],
      "metadata": {
        "colab": {
          "base_uri": "https://localhost:8080/"
        },
        "id": "t5HgpsVkE4sh",
        "outputId": "f8287166-ab8f-4caf-b277-43d5085caaad"
      },
      "execution_count": null,
      "outputs": [
        {
          "output_type": "stream",
          "name": "stdout",
          "text": [
            "Enter the number :2\n",
            "2 1 * = 2\n",
            "2 2 * = 4\n",
            "2 3 * = 6\n",
            "2 4 * = 8\n",
            "2 5 * = 10\n",
            "2 6 * = 12\n",
            "2 7 * = 14\n",
            "2 8 * = 16\n",
            "2 9 * = 18\n",
            "2 10 * = 20\n"
          ]
        }
      ]
    },
    {
      "cell_type": "markdown",
      "source": [
        "https://pythontutor.com/visualize.html#mode=edit\n",
        "- visiual the code"
      ],
      "metadata": {
        "id": "AklgsNo6IdBF"
      }
    },
    {
      "cell_type": "code",
      "source": [
        "# while with else\n",
        "\n",
        "x = 1\n",
        "\n",
        "while x < 3:\n",
        "  print(x)\n",
        "  x+=1\n",
        "\n",
        "else:\n",
        "  print('Limit Crossed ...')"
      ],
      "metadata": {
        "id": "z4Y2hg6rF8M-",
        "colab": {
          "base_uri": "https://localhost:8080/"
        },
        "outputId": "9b6f7cf8-563a-4822-d92f-f74aafa5a02c"
      },
      "execution_count": null,
      "outputs": [
        {
          "output_type": "stream",
          "name": "stdout",
          "text": [
            "1\n",
            "2\n",
            "Limit Crossed ...\n"
          ]
        }
      ]
    },
    {
      "cell_type": "markdown",
      "source": [
        "**Program :** - Guessing game\n"
      ],
      "metadata": {
        "id": "gJBOxErKJCGp"
      }
    },
    {
      "cell_type": "code",
      "source": [
        "import random\n",
        "jackpot =  random.randint(1, 100)\n",
        "\n",
        "guess = int(input('Enter the Number  :'))\n",
        "\n",
        "count = 1\n",
        "\n",
        "while guess != jackpot:\n",
        "  if guess < jackpot:\n",
        "    print('Guess Higher ...')\n",
        "  else:\n",
        "    print('Guess Lower ...')\n",
        "\n",
        "  guess = int(input(' Again Enter the Number  :'))\n",
        "  count +=1\n",
        "\n",
        "else:\n",
        "  print('Correct Guess ...')\n",
        "  print('You took', count, 'attempts')"
      ],
      "metadata": {
        "colab": {
          "base_uri": "https://localhost:8080/"
        },
        "id": "nS3zedy_I8lZ",
        "outputId": "3fa761a7-28a1-4f4c-c1a3-593b651cd7b2"
      },
      "execution_count": null,
      "outputs": [
        {
          "output_type": "stream",
          "name": "stdout",
          "text": [
            "Enter the Number  :10\n",
            "Guess Higher ...\n",
            " Again Enter the Number  :30\n",
            "Guess Higher ...\n",
            " Again Enter the Number  :40\n",
            "Guess Higher ...\n",
            " Again Enter the Number  :50\n",
            "Guess Higher ...\n",
            " Again Enter the Number  :60\n",
            "Guess Higher ...\n",
            " Again Enter the Number  :70\n",
            "Guess Lower ...\n",
            " Again Enter the Number  :69\n",
            "Guess Lower ...\n",
            " Again Enter the Number  :68\n",
            "Guess Lower ...\n",
            " Again Enter the Number  :67\n",
            "Guess Lower ...\n",
            " Again Enter the Number  :66\n",
            "Correct Guess ...\n",
            "You took 10 attempts\n"
          ]
        }
      ]
    },
    {
      "cell_type": "code",
      "source": [
        "# for loop\n",
        "\n",
        "for i in range (1, 11):\n",
        "  print(i)"
      ],
      "metadata": {
        "colab": {
          "base_uri": "https://localhost:8080/"
        },
        "id": "DLOLgscwLLkF",
        "outputId": "825c7dca-94ec-4aa6-e2e7-0a68ccc23bb5"
      },
      "execution_count": null,
      "outputs": [
        {
          "output_type": "stream",
          "name": "stdout",
          "text": [
            "1\n",
            "2\n",
            "3\n",
            "4\n",
            "5\n",
            "6\n",
            "7\n",
            "8\n",
            "9\n",
            "10\n"
          ]
        }
      ]
    },
    {
      "cell_type": "code",
      "source": [
        "for i in range (1, 11, 2):\n",
        "  print(i)"
      ],
      "metadata": {
        "colab": {
          "base_uri": "https://localhost:8080/"
        },
        "id": "LJ-ZiFsxMuPK",
        "outputId": "f8a77a47-6257-48ce-ba98-2d035fffab42"
      },
      "execution_count": null,
      "outputs": [
        {
          "output_type": "stream",
          "name": "stdout",
          "text": [
            "1\n",
            "3\n",
            "5\n",
            "7\n",
            "9\n"
          ]
        }
      ]
    },
    {
      "cell_type": "code",
      "source": [
        "for i in range (10, 1):\n",
        "  print(i)"
      ],
      "metadata": {
        "id": "GthV8cdeNYyh"
      },
      "execution_count": null,
      "outputs": []
    },
    {
      "cell_type": "markdown",
      "source": [
        "**Program :** - The curreent population of a town is 10,000. The population of the town is increasing at the rate of 10% per year. You have write a program to find out the pipulation at the end of each of the last 10 year."
      ],
      "metadata": {
        "id": "CzYPGTXzN54F"
      }
    },
    {
      "cell_type": "code",
      "source": [
        "curr_pop = 10000\n",
        "\n",
        "for i in range(10, 0, -1):\n",
        "  print(' Year is ', i,'th', ', Now population is :', curr_pop)\n",
        "  curr_pop = curr_pop / 1.1"
      ],
      "metadata": {
        "id": "Ov-z1eTkNgZC",
        "colab": {
          "base_uri": "https://localhost:8080/"
        },
        "outputId": "9ec47a94-661f-4395-8651-12c84dc08d31"
      },
      "execution_count": null,
      "outputs": [
        {
          "output_type": "stream",
          "name": "stdout",
          "text": [
            " Year is  10 th , Now population is : 10000\n",
            " Year is  9 th , Now population is : 9090.90909090909\n",
            " Year is  8 th , Now population is : 8264.462809917353\n",
            " Year is  7 th , Now population is : 7513.148009015775\n",
            " Year is  6 th , Now population is : 6830.134553650703\n",
            " Year is  5 th , Now population is : 6209.213230591548\n",
            " Year is  4 th , Now population is : 5644.739300537771\n",
            " Year is  3 th , Now population is : 5131.5811823070635\n",
            " Year is  2 th , Now population is : 4665.07380209733\n",
            " Year is  1 th , Now population is : 4240.976183724845\n"
          ]
        }
      ]
    },
    {
      "cell_type": "code",
      "source": [],
      "metadata": {
        "id": "3l7FPMFw-9Q7"
      },
      "execution_count": null,
      "outputs": []
    }
  ]
}